{
 "cells": [
  {
   "cell_type": "code",
   "execution_count": 1,
   "id": "f96b5bf4",
   "metadata": {},
   "outputs": [],
   "source": [
    "import os\n",
    "import glob\n",
    "import geemap\n",
    "import ee, datetime\n",
    "from IPython.display import Image\n",
    "import pandas as pd\n",
    "import geopandas as gpd\n",
    "from pylab import *\n",
    "import seaborn as sns\n",
    "import folium\n",
    "import matplotlib.pyplot as plt\n",
    "%matplotlib inline\n",
    "import altair as alt"
   ]
  },
  {
   "cell_type": "code",
   "execution_count": 2,
   "id": "73be9655",
   "metadata": {},
   "outputs": [
    {
     "data": {
      "text/html": [
       "<p>To authorize access needed by Earth Engine, open the following\n",
       "        URL in a web browser and follow the instructions:</p>\n",
       "        <p><a href=https://code.earthengine.google.com/client-auth?scopes=https%3A//www.googleapis.com/auth/earthengine%20https%3A//www.googleapis.com/auth/devstorage.full_control&request_id=jarvUjJwFXTi_UuRLQS6JVHhVkk_kWd1HxtuXIv3ZSI&tc=WAzqWiLjeS8_I-7zUxi6GHAEeP6irUElCeFypI8Ud0Y&cc=tAlnqJm3MW5tOrSbCq7yfvLbhNAptZZU5cZnhfQJ_1M>https://code.earthengine.google.com/client-auth?scopes=https%3A//www.googleapis.com/auth/earthengine%20https%3A//www.googleapis.com/auth/devstorage.full_control&request_id=jarvUjJwFXTi_UuRLQS6JVHhVkk_kWd1HxtuXIv3ZSI&tc=WAzqWiLjeS8_I-7zUxi6GHAEeP6irUElCeFypI8Ud0Y&cc=tAlnqJm3MW5tOrSbCq7yfvLbhNAptZZU5cZnhfQJ_1M</a></p>\n",
       "        <p>The authorization workflow will generate a code, which you should paste in the box below.</p>\n",
       "        "
      ],
      "text/plain": [
       "<IPython.core.display.HTML object>"
      ]
     },
     "metadata": {},
     "output_type": "display_data"
    },
    {
     "name": "stdout",
     "output_type": "stream",
     "text": [
      "Enter verification code: 4/1AWtgzh7uvssKu7yxWVA7Ah-4BVF1FS9TRVEt3WyCGvwXEWs0AGVXJtLSskA\n",
      "\n",
      "Successfully saved authorization token.\n"
     ]
    }
   ],
   "source": [
    "# Getting tokens and activate EE\n",
    "ee.Authenticate()\n",
    "\n",
    "# Start up this session\n",
    "ee.Initialize()"
   ]
  },
  {
   "cell_type": "code",
   "execution_count": null,
   "id": "11f2fa83",
   "metadata": {},
   "outputs": [],
   "source": []
  }
 ],
 "metadata": {
  "kernelspec": {
   "display_name": "Python 3 (ipykernel)",
   "language": "python",
   "name": "python3"
  },
  "language_info": {
   "codemirror_mode": {
    "name": "ipython",
    "version": 3
   },
   "file_extension": ".py",
   "mimetype": "text/x-python",
   "name": "python",
   "nbconvert_exporter": "python",
   "pygments_lexer": "ipython3",
   "version": "3.9.13"
  }
 },
 "nbformat": 4,
 "nbformat_minor": 5
}
