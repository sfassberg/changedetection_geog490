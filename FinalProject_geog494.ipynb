{
 "cells": [
  {
   "cell_type": "code",
   "execution_count": 1,
   "id": "f96b5bf4",
   "metadata": {},
   "outputs": [],
   "source": [
    "import os\n",
    "import glob\n",
    "import geemap\n",
    "import ee, datetime\n",
    "from IPython.display import Image\n",
    "import pandas as pd\n",
    "import geopandas as gpd\n",
    "from pylab import *\n",
    "import seaborn as sns\n",
    "import folium\n",
    "import matplotlib.pyplot as plt\n",
    "%matplotlib inline\n",
    "import altair as alt"
   ]
  },
  {
   "cell_type": "code",
   "execution_count": 2,
   "id": "11117018",
   "metadata": {},
   "outputs": [
    {
     "data": {
      "text/html": [
       "<p>To authorize access needed by Earth Engine, open the following\n",
       "        URL in a web browser and follow the instructions:</p>\n",
       "        <p><a href=https://code.earthengine.google.com/client-auth?scopes=https%3A//www.googleapis.com/auth/earthengine%20https%3A//www.googleapis.com/auth/devstorage.full_control&request_id=Ka2PTP8G-GI9D-U5PuoJuip4W0Hmq2SZeiryheep_wU&tc=chBNiyuGEpq9Nb16EMEVwZaFnDgXASQH_v-DXrXSptw&cc=HMukz0HHHLvBeVnE8Mq-z0laTG1IO2rX3vDsonaYN2I>https://code.earthengine.google.com/client-auth?scopes=https%3A//www.googleapis.com/auth/earthengine%20https%3A//www.googleapis.com/auth/devstorage.full_control&request_id=Ka2PTP8G-GI9D-U5PuoJuip4W0Hmq2SZeiryheep_wU&tc=chBNiyuGEpq9Nb16EMEVwZaFnDgXASQH_v-DXrXSptw&cc=HMukz0HHHLvBeVnE8Mq-z0laTG1IO2rX3vDsonaYN2I</a></p>\n",
       "        <p>The authorization workflow will generate a code, which you should paste in the box below.</p>\n",
       "        "
      ],
      "text/plain": [
       "<IPython.core.display.HTML object>"
      ]
     },
     "metadata": {},
     "output_type": "display_data"
    },
    {
     "name": "stdout",
     "output_type": "stream",
     "text": [
      "Enter verification code: 4/1AWtgzh779L-enRrLkGSJsQ0tLtAVnkxpN6beVxFx52ND8SS2SziPaP6lFJk\n",
      "\n",
      "Successfully saved authorization token.\n"
     ]
    }
   ],
   "source": [
    "# Setting up Google Earth Engine (GEE)\n",
    "# Getting tokens and activate EE\n",
    "ee.Authenticate()\n",
    "\n",
    "# Start up this session\n",
    "ee.Initialize()"
   ]
  },
  {
   "cell_type": "markdown",
   "id": "2bf94769",
   "metadata": {},
   "source": [
    "## Masking clouds"
   ]
  },
  {
   "cell_type": "markdown",
   "id": "de95ce5f",
   "metadata": {},
   "source": [
    "### Sentinel 2"
   ]
  },
  {
   "cell_type": "code",
   "execution_count": 3,
   "id": "f30c308b",
   "metadata": {},
   "outputs": [],
   "source": [
    "# Using QA band to filter clouds\n",
    "def maskS2clouds(image):\n",
    "  qa = image.select('QA60')\n",
    "\n",
    "  # Bits 10 and 11 are clouds and cirrus.\n",
    "  cloudBitMask = 1 << 10\n",
    "  cirrusBitMask = 1 << 11\n",
    "\n",
    "  # Both flags should be set to zero, indicating clear conditions.\n",
    "  mask = qa.bitwiseAnd(cloudBitMask).eq(0)\n",
    "  mask2 = qa.bitwiseAnd(cirrusBitMask).eq(0)\n",
    "  mask3 = qa.bitwiseAnd(cloudBitMask).eq(0).bitwiseAnd(cirrusBitMask).eq(0)\n",
    "\n",
    "  return image.updateMask(mask).updateMask(mask2)"
   ]
  },
  {
   "cell_type": "markdown",
   "id": "c8df50da",
   "metadata": {},
   "source": [
    "### Landsat 8"
   ]
  },
  {
   "cell_type": "code",
   "execution_count": 4,
   "id": "946b3e53",
   "metadata": {},
   "outputs": [],
   "source": [
    "def maskL8clouds(image):\n",
    "  qa = image.select('pixel_qa')\n",
    "\n",
    "  # Bits 3 and 5 are clouds and cloud shadows.\n",
    "  cloudBitMask = 1 << 3\n",
    "  cloudShadowBitMask = 1 << 5\n",
    "\n",
    "  # Both flags should be set to zero, indicating clear conditions.\n",
    "  mask = qa.bitwiseAnd(cloudBitMask).eq(0)\n",
    "  mask2 = qa.bitwiseAnd(cloudShadowBitMask).eq(0)\n",
    "  mask3 = qa.bitwiseAnd(cloudBitMask).eq(0).bitwiseAnd(cloudShadowBitMask).eq(0)\n",
    "\n",
    "  return image.updateMask(mask).updateMask(mask2)"
   ]
  },
  {
   "cell_type": "markdown",
   "id": "26afbaff",
   "metadata": {},
   "source": [
    "### Landsat 7"
   ]
  },
  {
   "cell_type": "code",
   "execution_count": 5,
   "id": "765e6981",
   "metadata": {},
   "outputs": [],
   "source": [
    "def maskL7clouds(image):\n",
    "  qa = image.select('pixel_qa')\n",
    "\n",
    "  # Bits 4 and 6 are clouds and cloud shadows.\n",
    "  cloudBitMask = 1 << 4\n",
    "  cloudShadowBitMask = 1 << 6\n",
    "\n",
    "  # Both flags should be set to zero, indicating clear conditions.\n",
    "  mask = qa.bitwiseAnd(cloudBitMask).eq(0)\n",
    "  mask2 = qa.bitwiseAnd(cloudShadowBitMask).eq(0)\n",
    "  mask3 = qa.bitwiseAnd(cloudBitMask).eq(0).bitwiseAnd(cloudShadowBitMask).eq(0)\n",
    "\n",
    "  return image.updateMask(mask).updateMask(mask2)"
   ]
  },
  {
   "cell_type": "markdown",
   "id": "03bdf373",
   "metadata": {},
   "source": [
    "# NDVI Bands Setup"
   ]
  },
  {
   "cell_type": "markdown",
   "id": "20d9750a",
   "metadata": {},
   "source": [
    "### Sentinel 2"
   ]
  },
  {
   "cell_type": "code",
   "execution_count": 6,
   "id": "919e6f67",
   "metadata": {},
   "outputs": [],
   "source": [
    "# NDVI for Sentine 2 bands\n",
    "def senNDVI(image):\n",
    "    return image.normalizedDifference(['B8', 'B4'])"
   ]
  },
  {
   "cell_type": "markdown",
   "id": "07e8ae21",
   "metadata": {},
   "source": [
    "### Landsat 8"
   ]
  },
  {
   "cell_type": "code",
   "execution_count": 7,
   "id": "c2357fc3",
   "metadata": {},
   "outputs": [],
   "source": [
    "# NDVI for Landsat 8 bands\n",
    "def l8NDVI(image):\n",
    "    return image.normalizedDifference(['B5', 'B4'])"
   ]
  },
  {
   "cell_type": "markdown",
   "id": "68347d9d",
   "metadata": {},
   "source": [
    "### Landsat 7"
   ]
  },
  {
   "cell_type": "code",
   "execution_count": 8,
   "id": "2948dd98",
   "metadata": {},
   "outputs": [],
   "source": [
    "# NDVI for Landsat 7 bands\n",
    "def l7NDVI(image):\n",
    "    return image.normalizedDifference(['B4', 'B3'])"
   ]
  },
  {
   "cell_type": "markdown",
   "id": "59aa1ceb",
   "metadata": {},
   "source": [
    "# Set study area"
   ]
  },
  {
   "cell_type": "code",
   "execution_count": 9,
   "id": "ef8ff2f2",
   "metadata": {},
   "outputs": [],
   "source": [
    "# Rim Fire, CA\n",
    "coords = [-119.634, 37.824]\n",
    "\n",
    "# Create earth engine point\n",
    "point = {'type':'Point', 'coordinates':coords}"
   ]
  },
  {
   "cell_type": "markdown",
   "id": "ee718503",
   "metadata": {},
   "source": [
    "# Time Period: Before Fire and its NDVI Analysis"
   ]
  },
  {
   "cell_type": "code",
   "execution_count": 10,
   "id": "bc30786d",
   "metadata": {},
   "outputs": [],
   "source": [
    "# Set start and end date\n",
    "startTime = datetime.datetime(2011, 1, 1)\n",
    "endTime = datetime.datetime(2012, 12, 31)"
   ]
  },
  {
   "cell_type": "code",
   "execution_count": 12,
   "id": "048289d0",
   "metadata": {},
   "outputs": [],
   "source": [
    "# Getting L7 image collection\n",
    "collection = ee.ImageCollection(\"LANDSAT/LE07/C01/T2\").filterDate(startTime, endTime).filterBounds(point)"
   ]
  },
  {
   "cell_type": "markdown",
   "id": "f9e61d7e",
   "metadata": {},
   "source": [
    "# Time Period: During Fire and its NDVI Analysis¶"
   ]
  },
  {
   "cell_type": "code",
   "execution_count": null,
   "id": "2c97878b",
   "metadata": {},
   "outputs": [],
   "source": [
    "# Set start and end date\n",
    "startTime = datetime.datetime(2013, 8, 1)\n",
    "endTime = datetime.datetime(2012, 10, 31)"
   ]
  },
  {
   "cell_type": "markdown",
   "id": "45f510c1",
   "metadata": {},
   "source": [
    "# Time Period: After Fire and its NDVI Analysis¶"
   ]
  },
  {
   "cell_type": "code",
   "execution_count": null,
   "id": "00bd8366",
   "metadata": {},
   "outputs": [],
   "source": [
    "# Set start and end date\n",
    "startTime = datetime.datetime(2020, 1, 1)\n",
    "endTime = datetime.datetime(2020, 12, 31)"
   ]
  }
 ],
 "metadata": {
  "kernelspec": {
   "display_name": "Python 3 (ipykernel)",
   "language": "python",
   "name": "python3"
  },
  "language_info": {
   "codemirror_mode": {
    "name": "ipython",
    "version": 3
   },
   "file_extension": ".py",
   "mimetype": "text/x-python",
   "name": "python",
   "nbconvert_exporter": "python",
   "pygments_lexer": "ipython3",
   "version": "3.9.13"
  },
  "vscode": {
   "interpreter": {
    "hash": "19d1d53a962d236aa061289c2ac16dc8e6d9648c89fe79f459ae9a3493bc67b4"
   }
  }
 },
 "nbformat": 4,
 "nbformat_minor": 5
}
