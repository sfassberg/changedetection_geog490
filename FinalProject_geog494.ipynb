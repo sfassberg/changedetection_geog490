{
 "cells": [
  {
   "cell_type": "code",
   "execution_count": 1,
   "id": "f96b5bf4",
   "metadata": {},
   "outputs": [],
   "source": [
    "import os\n",
    "import glob\n",
    "import geemap\n",
    "import ee, datetime\n",
    "from IPython.display import Image\n",
    "import pandas as pd\n",
    "import geopandas as gpd\n",
    "from pylab import *\n",
    "import seaborn as sns\n",
    "import rasterio\n",
    "import folium\n",
    "import numpy as np\n",
    "import matplotlib.pyplot as plt\n",
    "%matplotlib inline\n",
    "import altair as alt\n",
    "from ipyleaflet import Map, basemaps, basemap_to_tiles, ImageOverlay"
   ]
  },
  {
   "cell_type": "code",
   "execution_count": 2,
   "id": "11117018",
   "metadata": {},
   "outputs": [
    {
     "data": {
      "text/html": [
       "<p>To authorize access needed by Earth Engine, open the following\n",
       "        URL in a web browser and follow the instructions:</p>\n",
       "        <p><a href=https://code.earthengine.google.com/client-auth?scopes=https%3A//www.googleapis.com/auth/earthengine%20https%3A//www.googleapis.com/auth/devstorage.full_control&request_id=CcfwiqZT9IQNdDv58X3t1izDgwDktRsjUfGa3UK5kc8&tc=KA0LxitButdoi1xvEnX8ZPcMaGvmhNSXAJMeEehiWmc&cc=mTO2VET8-GY45OKE19QNlC-VOeS_3hSbPYE22h2WETU>https://code.earthengine.google.com/client-auth?scopes=https%3A//www.googleapis.com/auth/earthengine%20https%3A//www.googleapis.com/auth/devstorage.full_control&request_id=CcfwiqZT9IQNdDv58X3t1izDgwDktRsjUfGa3UK5kc8&tc=KA0LxitButdoi1xvEnX8ZPcMaGvmhNSXAJMeEehiWmc&cc=mTO2VET8-GY45OKE19QNlC-VOeS_3hSbPYE22h2WETU</a></p>\n",
       "        <p>The authorization workflow will generate a code, which you should paste in the box below.</p>\n",
       "        "
      ],
      "text/plain": [
       "<IPython.core.display.HTML object>"
      ]
     },
     "metadata": {},
     "output_type": "display_data"
    },
    {
     "name": "stdout",
     "output_type": "stream",
     "text": [
      "Enter verification code: 4/1AWtgzh4OPu84Bls2AXlSFEKKTm1I862RNPINR1rfZyq44-sPDvAxEzeSNek\n",
      "\n",
      "Successfully saved authorization token.\n"
     ]
    }
   ],
   "source": [
    "# Setting up Google Earth Engine (GEE)\n",
    "# Getting tokens and activate EE\n",
    "ee.Authenticate()\n",
    "\n",
    "# Start up this session\n",
    "ee.Initialize()"
   ]
  },
  {
   "cell_type": "markdown",
   "id": "9231f83e",
   "metadata": {},
   "source": [
    "## Masking clouds"
   ]
  },
  {
   "cell_type": "markdown",
   "id": "1e3c2060",
   "metadata": {},
   "source": [
    "### Sentinel 2"
   ]
  },
  {
   "cell_type": "code",
   "execution_count": 3,
   "id": "668f4bab",
   "metadata": {},
   "outputs": [],
   "source": [
    "# Using QA band to filter clouds\n",
    "def maskS2clouds(image):\n",
    "  qa = image.select('QA60')\n",
    "\n",
    "  # Bits 10 and 11 are clouds and cirrus.\n",
    "  cloudBitMask = 1 << 10\n",
    "  cirrusBitMask = 1 << 11\n",
    "\n",
    "  # Both flags should be set to zero, indicating clear conditions.\n",
    "  mask = qa.bitwiseAnd(cloudBitMask).eq(0)\n",
    "  mask2 = qa.bitwiseAnd(cirrusBitMask).eq(0)\n",
    "  mask3 = qa.bitwiseAnd(cloudBitMask).eq(0).bitwiseAnd(cirrusBitMask).eq(0)\n",
    "\n",
    "  return image.updateMask(mask).updateMask(mask2)"
   ]
  },
  {
   "cell_type": "markdown",
   "id": "723d8d6f",
   "metadata": {},
   "source": [
    "### Landsat 8"
   ]
  },
  {
   "cell_type": "code",
   "execution_count": 4,
   "id": "59431209",
   "metadata": {},
   "outputs": [],
   "source": [
    "def maskL8clouds(image):\n",
    "  qa = image.select('pixel_qa')\n",
    "\n",
    "  # Bits 3 and 5 are clouds and cloud shadows.\n",
    "  cloudBitMask = 1 << 3\n",
    "  cloudShadowBitMask = 1 << 5\n",
    "\n",
    "  # Both flags should be set to zero, indicating clear conditions.\n",
    "  mask = qa.bitwiseAnd(cloudBitMask).eq(0)\n",
    "  mask2 = qa.bitwiseAnd(cloudShadowBitMask).eq(0)\n",
    "  mask3 = qa.bitwiseAnd(cloudBitMask).eq(0).bitwiseAnd(cloudShadowBitMask).eq(0)\n",
    "\n",
    "  return image.updateMask(mask).updateMask(mask2)"
   ]
  },
  {
   "cell_type": "markdown",
   "id": "80b9404e",
   "metadata": {},
   "source": [
    "### Landsat 7"
   ]
  },
  {
   "cell_type": "code",
   "execution_count": 5,
   "id": "e02667e4",
   "metadata": {},
   "outputs": [],
   "source": [
    "def maskL7clouds(image):\n",
    "  qa = image.select('pixel_qa')\n",
    "\n",
    "  # Bits 4 and 6 are clouds and cloud shadows.\n",
    "  cloudBitMask = 1 << 4\n",
    "  cloudShadowBitMask = 1 << 6\n",
    "\n",
    "  # Both flags should be set to zero, indicating clear conditions.\n",
    "  mask = qa.bitwiseAnd(cloudBitMask).eq(0)\n",
    "  mask2 = qa.bitwiseAnd(cloudShadowBitMask).eq(0)\n",
    "  mask3 = qa.bitwiseAnd(cloudBitMask).eq(0).bitwiseAnd(cloudShadowBitMask).eq(0)\n",
    "\n",
    "  return image.updateMask(mask).updateMask(mask2)"
   ]
  },
  {
   "cell_type": "markdown",
   "id": "9bb85cc1",
   "metadata": {},
   "source": [
    "# NDVI Bands Setup"
   ]
  },
  {
   "cell_type": "markdown",
   "id": "f71135bf",
   "metadata": {},
   "source": [
    "### Sentinel 2"
   ]
  },
  {
   "cell_type": "code",
   "execution_count": 6,
   "id": "ea7dad7d",
   "metadata": {},
   "outputs": [],
   "source": [
    "# NDVI for Sentine 2 bands\n",
    "def senNDVI(image):\n",
    "    return image.normalizedDifference(['B8', 'B4'])"
   ]
  },
  {
   "cell_type": "markdown",
   "id": "ff8e3868",
   "metadata": {},
   "source": [
    "### Landsat 8"
   ]
  },
  {
   "cell_type": "code",
   "execution_count": 7,
   "id": "c8c05c6c",
   "metadata": {},
   "outputs": [],
   "source": [
    "# NDVI for Landsat 8 bands\n",
    "def l8NDVI(image):\n",
    "    return image.normalizedDifference(['SR_B5', 'SR_B4'])"
   ]
  },
  {
   "cell_type": "markdown",
   "id": "379ceacc",
   "metadata": {},
   "source": [
    "### Landsat 7"
   ]
  },
  {
   "cell_type": "code",
   "execution_count": 8,
   "id": "9bb1f95d",
   "metadata": {},
   "outputs": [],
   "source": [
    "# NDVI for Landsat 7 bands\n",
    "def l7NDVI(image):\n",
    "    return image.normalizedDifference(['SR_B4', 'SR_B3'])"
   ]
  },
  {
   "cell_type": "markdown",
   "id": "e9c1ed26",
   "metadata": {},
   "source": [
    "# Set study area"
   ]
  },
  {
   "cell_type": "code",
   "execution_count": 9,
   "id": "81a3cabd",
   "metadata": {},
   "outputs": [],
   "source": [
    "# Rim Fire, CA\n",
    "coords = [-119.634, 37.824]\n",
    "\n",
    "# Create earth engine point\n",
    "point = {'type':'Point', 'coordinates':coords}"
   ]
  },
  {
   "cell_type": "markdown",
   "id": "f9a37d82",
   "metadata": {},
   "source": [
    "# Time Period: Before Fire and its NDVI Analysis"
   ]
  },
  {
   "cell_type": "code",
   "execution_count": 10,
   "id": "55ee0b5b",
   "metadata": {},
   "outputs": [
    {
     "name": "stdout",
     "output_type": "stream",
     "text": [
      "Recent images: {'type': 'ImageCollection', 'bands': [], 'id': 'LANDSAT/LE07/C02/T2_L2', 'version': 1678566570120617, 'properties': {'date_range': [915148800000, 1649203200000], 'visualization_2_bands': 'SR_B7,SR_B4,SR_B2', 'visualization_2_name': 'Shortwave Infrared (742)', 'period': 0, 'type_name': 'ImageCollection', 'keywords': ['cfmask', 'cloud', 'etm', 'fmask', 'global', 'landsat', 'lasrc', 'lst', 'reflectance', 'sr', 'usgs'], 'visualization_1_bands': 'SR_B4,SR_B3,SR_B2', 'thumb': 'https://mw1.google.com/ges/dd/images/LANDSAT_SR_thumb.png', 'visualization_2_gain': '1.8,1.9,1.9', 'description': '<p>This dataset contains atmospherically corrected\\nsurface reflectance and land surface temperature derived from the data\\nproduced by the Landsat 7 ETM+ sensor.\\nThese images contain 4 visible and near-infrared (VNIR) bands and\\n2 short-wave infrared (SWIR) bands processed to orthorectified surface\\nreflectance, and one thermal infrared (TIR) band processed to orthorectified\\nsurface temperature. They also contain intermediate bands used in\\ncalculation of the ST products, as well as QA bands.</p><p>Landsat 7 SR products are created with the Landsat Ecosystem Disturbance\\nAdaptive Processing System (LEDAPS) algorithm (version 3.4.0).\\nAll Collection 2 ST products are created with a single-channel algorithm\\njointly created by the Rochester Institute of Technology (RIT) and\\nNational Aeronautics and Space Administration (NASA)\\nJet Propulsion Laboratory (JPL).</p><p>Strips of collected data are packaged into overlapping &quot;scenes&quot; covering approximately\\n170km x 183km using a <a href=\"https://landsat.gsfc.nasa.gov/about/worldwide-reference-system\">standardized reference grid</a>.</p><p>Note that\\n<a href=\"https://www.sciencedirect.com/science/article/pii/S2666017221000134?via%3Dihub\">Landsat 7&#39;s orbit has been drifting to an earlier acquisition time since 2017</a>.</p><p>Some assets have only SR data, in which case ST bands are present but empty.\\nFor assets with both ST and SR bands, &#39;PROCESSING_LEVEL&#39; is set to &#39;L2SP&#39;.\\nFor assets with only SR bands, &#39;PROCESSING_LEVEL&#39; is set to &#39;L2SR&#39;.</p><p><a href=\"/earth-engine/guides/landsat\">Additional documentation and usage examples.</a></p><p>Data provider notes:</p><ul><li><p>Data products must contain both optical and thermal data to be\\nsuccessfully processed to surface temperature, as ASTER NDVI is\\nrequired to temporally adjust the ASTER GED product to the target Landsat\\nscene. Therefore, night time acquisitions cannot be processed to\\nsurface temperature.</p></li><li><p>A known error exists in the surface temperature retrievals relative\\nto clouds and possibly cloud shadows. The characterization of these\\nissues has been documented by\\n<a href=\"https://doi.org/10.3390/rs61111244\">Cook et al., (2014)</a>.</p></li><li><p>For Landsat 7 ETM+ products, Band 6 TOA BT and ST data are generated from\\nETM+ Band 6 High (6H) and 6 Low (6L) merged together. The merged band\\ncontains unsaturated pixels from Band 6H. If Band 6H pixels have a BT\\noutside of the 6H dynamic range (240 to 322 Kelvin) then 6L band pixels\\nare used. Pixels that are saturated in Band 6L remain saturated in the\\nmerged Band 6 product. The merged thermal radiance is then used in the\\ncreation of the TOA BT and ST data.</p></li></ul><p><b>Provider: <a href=\"https://www.usgs.gov/core-science-systems/nli/landsat/landsat-collection-2-level-2-science-products\">USGS</a></b><br><p><b>Resolution</b><br>30 meters\\n</p><p><b>Revisit Interval</b><br>\\n  16 days\\n</p><p><b>Bands</b><table class=\"eecat\"><tr><th scope=\"col\">Name</th><th scope=\"col\">Units</th><th scope=\"col\">Min</th><th scope=\"col\">Max</th><th scope=\"col\">Scale</th><th scope=\"col\">Offset</th><th scope=\"col\">Wavelength</th><th scope=\"col\">Description</th></tr><tr><td>SR_B1</td><td></td><td>\\n          1\\n</td><td>\\n          65455\\n</td><td>2.75e-05</td><td>-0.2</td><td>0.45-0.52 &mu;m</td><td><p>Band 1 (blue) surface reflectance</p></td></tr><tr><td>SR_B2</td><td></td><td>\\n          1\\n</td><td>\\n          65455\\n</td><td>2.75e-05</td><td>-0.2</td><td>0.52-0.60 &mu;m</td><td><p>Band 2 (green) surface reflectance</p></td></tr><tr><td>SR_B3</td><td></td><td>\\n          1\\n</td><td>\\n          65455\\n</td><td>2.75e-05</td><td>-0.2</td><td>0.63-0.69 &mu;m</td><td><p>Band 3 (red) surface reflectance</p></td></tr><tr><td>SR_B4</td><td></td><td>\\n          1\\n</td><td>\\n          65455\\n</td><td>2.75e-05</td><td>-0.2</td><td>0.77-0.90 &mu;m</td><td><p>Band 4 (near infrared) surface reflectance</p></td></tr><tr><td>SR_B5</td><td></td><td>\\n          1\\n</td><td>\\n          65455\\n</td><td>2.75e-05</td><td>-0.2</td><td>1.55-1.75 &mu;m</td><td><p>Band 5 (shortwave infrared 1) surface reflectance</p></td></tr><tr><td>SR_B7</td><td></td><td>\\n          1\\n</td><td>\\n          65455\\n</td><td>2.75e-05</td><td>-0.2</td><td>2.08-2.35 &mu;m</td><td><p>Band 7 (shortwave infrared 2) surface reflectance</p></td></tr><tr><td>SR_ATMOS_OPACITY</td><td></td><td>\\n          0\\n</td><td>\\n          10000\\n</td><td>0.001</td><td></td><td></td><td><p>A general interpretation of atmospheric opacity\\ngenerated by LEDAPS and based on the radiance viewed over Dark Dense\\nVegetation (DDV) within the scene. A general interpretation of atmospheric\\nopacity is that values (after scaling by 0.001 is applied)\\nless than 0.1 are clear, 0.1-0.3 are average,\\nand values greater than 0.3 indicate haze or other cloud situations.\\nSR values from pixels with high atmospheric opacity will be less reliable,\\nespecially under high solar zenith angle conditions. The\\nSR_ATMOS_OPACITY band is provided for advanced users and for product quality\\nassessment and has not been validated. Most users are advised to instead use\\nthe QA_PIXEL band information for cloud discrimination.</p></td></tr><tr><td>SR_CLOUD_QA</td><td></td><td></td><td></td><td></td><td></td><td></td><td><p>Cloud Quality Assessment</p></td></tr><tr><td colspan=100>\\n      Bitmask for SR_CLOUD_QA\\n<ul><li>\\n          Bit 0: Dark Dense Vegetation (DDV)\\n<ul></ul></li><li>\\n          Bit 1: Cloud\\n<ul></ul></li><li>\\n          Bit 2: Cloud Shadow\\n<ul></ul></li><li>\\n          Bit 3: Adjacent to Cloud\\n<ul></ul></li><li>\\n          Bit 4: Snow\\n<ul></ul></li><li>\\n          Bit 5: Water\\n<ul></ul></li></ul></td></tr><tr><td>ST_B6</td><td>Kelvin</td><td>\\n          0\\n</td><td>\\n          65535\\n</td><td>0.00341802</td><td>149</td><td>10.40-12.50 &mu;m</td><td><p>Band 6 surface temperature. If &#39;PROCESSING_LEVEL&#39; is set to &#39;L2SR&#39;, this band is fully masked out.</p></td></tr><tr><td>ST_ATRAN</td><td></td><td>\\n          0\\n</td><td>\\n          10000\\n</td><td>0.0001</td><td></td><td></td><td><p>Atmospheric Transmittance. If &#39;PROCESSING_LEVEL&#39; is set to &#39;L2SR&#39;, this band is fully masked out.</p></td></tr><tr><td>ST_CDIST</td><td>km</td><td>\\n          0\\n</td><td>\\n          24000\\n</td><td>0.01</td><td></td><td></td><td><p>Pixel distance to cloud. If &#39;PROCESSING_LEVEL&#39; is set to &#39;L2SR&#39;, this band is fully masked out.</p></td></tr><tr><td>ST_DRAD</td><td>W/(m^2*sr*um)/ DN</td><td>\\n          0\\n</td><td>\\n          28000\\n</td><td>0.001</td><td></td><td></td><td><p>Downwelled Radiance. If &#39;PROCESSING_LEVEL&#39; is set to &#39;L2SR&#39;, this band is fully masked out.</p></td></tr><tr><td>ST_EMIS</td><td></td><td>\\n          0\\n</td><td>\\n          10000\\n</td><td>0.0001</td><td></td><td></td><td><p>Emissivity estimated from ASTER GED. If &#39;PROCESSING_LEVEL&#39; is set to &#39;L2SR&#39;, this band is fully masked out.</p></td></tr><tr><td>ST_EMSD</td><td></td><td>\\n          0\\n</td><td>\\n          10000\\n</td><td>0.0001</td><td></td><td></td><td><p>Emissivity standard deviation. If &#39;PROCESSING_LEVEL&#39; is set to &#39;L2SR&#39;, this band is fully masked out.</p></td></tr><tr><td>ST_QA</td><td>K</td><td>\\n          0\\n</td><td>\\n          32767\\n</td><td>0.01</td><td></td><td></td><td><p>Uncertainty of the Surface Temperature band. If &#39;PROCESSING_LEVEL&#39; is set to &#39;L2SR&#39;, this band is fully masked out.</p></td></tr><tr><td>ST_TRAD</td><td>W/(m^2*sr*um)/ DN</td><td>\\n          0\\n</td><td>\\n          22000\\n</td><td>0.001</td><td></td><td></td><td><p>Thermal band converted to radiance. If &#39;PROCESSING_LEVEL&#39; is set to &#39;L2SR&#39;, this band is fully masked out.</p></td></tr><tr><td>ST_URAD</td><td>W/(m^2*sr*um)/ DN</td><td>\\n          0\\n</td><td>\\n          28000\\n</td><td>0.001</td><td></td><td></td><td><p>Upwelled Radiance. If &#39;PROCESSING_LEVEL&#39; is set to &#39;L2SR&#39;, this band is fully masked out.</p></td></tr><tr><td>QA_PIXEL</td><td></td><td></td><td></td><td></td><td></td><td></td><td><p>Pixel quality attributes generated from the CFMASK algorithm.</p></td></tr><tr><td colspan=100>\\n      Bitmask for QA_PIXEL\\n<ul><li>\\n          Bit 0: Fill\\n<ul></ul></li><li>\\n          Bit 1: Dilated Cloud\\n<ul></ul></li><li>\\n          Bit 2: Unused\\n<ul></ul></li><li>\\n          Bit 3: Cloud\\n<ul></ul></li><li>\\n          Bit 4: Cloud Shadow\\n<ul></ul></li><li>\\n          Bit 5: Snow\\n<ul></ul></li><li>\\n          Bit 6: Clear\\n<ul><li>0: Cloud or Dilated Cloud bits are set</li><li>1: Cloud and Dilated Cloud bits are not set</li></ul></li><li>\\n          Bit 7: Water\\n<ul></ul></li><li>\\n          Bits 8-9: Cloud Confidence\\n<ul><li>0: None</li><li>1: Low</li><li>2: Medium</li><li>3: High</li></ul></li><li>\\n          Bits 10-11: Cloud Shadow Confidence\\n<ul><li>0: None</li><li>1: Low</li><li>2: Medium</li><li>3: High</li></ul></li><li>\\n          Bits 12-13: Snow/Ice Confidence\\n<ul><li>0: None</li><li>1: Low</li><li>2: Medium</li><li>3: High</li></ul></li><li>\\n          Bits 14-15: Cirrus Confidence\\n<ul><li>0: None</li><li>1: Low</li><li>2: Medium</li><li>3: High</li></ul></li></ul></td></tr><tr><td>QA_RADSAT</td><td></td><td></td><td></td><td></td><td></td><td></td><td><p>Radiometric saturation QA</p></td></tr><tr><td colspan=100>\\n      Bitmask for QA_RADSAT\\n<ul><li>\\n          Bit 0: Band 1 data saturated\\n<ul></ul></li><li>\\n          Bit 1: Band 2 data saturated\\n<ul></ul></li><li>\\n          Bit 2: Band 3 data saturated\\n<ul></ul></li><li>\\n          Bit 3: Band 4 data saturated\\n<ul></ul></li><li>\\n          Bit 4: Band 5 data saturated\\n<ul></ul></li><li>\\n          Bit 5: Band 6L data saturated\\n<ul></ul></li><li>\\n          Bit 6: Band 7 data saturated\\n<ul></ul></li><li>\\n          Bit 7: Unused\\n<ul></ul></li><li>\\n          Bit 8: Band 6H data saturated\\n<ul></ul></li><li>\\n          Bit 9: Dropped pixel\\n<ul><li>0: Pixel present</li><li>1: Detector doesn&#39;t have a value</li></ul></li></ul></td></tr></table><p><b>Image Properties</b><table class=\"eecat\"><tr><th scope=\"col\">Name</th><th scope=\"col\">Type</th><th scope=\"col\">Description</th></tr><tr><td>ALGORITHM_SOURCE_SURFACE_REFLECTANCE</td><td>STRING</td><td><p>Name and version of the surface reflectance algorithm.</p></td></tr><tr><td>ALGORITHM_SOURCE_SURFACE_TEMPERATURE</td><td>STRING</td><td><p>Name and version of the surface temperature algorithm.</p></td></tr><tr><td>CLOUD_COVER</td><td>DOUBLE</td><td><p>Percentage cloud cover (0-100), -1 = not calculated.</p></td></tr><tr><td>CLOUD_COVER_LAND</td><td>DOUBLE</td><td><p>Percentage cloud cover over land (0-100), -1 = not calculated.</p></td></tr><tr><td>COLLECTION_CATEGORY</td><td>STRING</td><td><p>Scene collection category, &quot;T1&quot; or &quot;T2&quot;.</p></td></tr><tr><td>DATA_SOURCE_AIR_TEMPERATURE</td><td>STRING</td><td><p>Air temperature data source.</p></td></tr><tr><td>DATA_SOURCE_ELEVATION</td><td>STRING</td><td><p>Elevation data source.</p></td></tr><tr><td>DATA_SOURCE_OZONE</td><td>STRING</td><td><p>Ozone data source.</p></td></tr><tr><td>DATA_SOURCE_PRESSURE</td><td>STRING</td><td><p>Pressure data source.</p></td></tr><tr><td>DATA_SOURCE_REANALYSIS</td><td>STRING</td><td><p>Reanalysis data source.</p></td></tr><tr><td>DATA_SOURCE_WATER_VAPOR</td><td>STRING</td><td><p>Water vapor data source.</p></td></tr><tr><td>DATE_PRODUCT_GENERATED</td><td>DOUBLE</td><td><p>Timestamp of the date when the product was generated.</p></td></tr><tr><td>EARTH_SUN_DISTANCE</td><td>DOUBLE</td><td><p>Earth-Sun distance (AU).</p></td></tr><tr><td>EPHEMERIS_TYPE</td><td>PROPERTY_TYPE_UNSPECIFIED</td><td><p>Identifier to inform the user of the orbital ephemeris type used:\\n&quot;DEFINITIVE&quot; or &quot;PREDICTIVE&quot;. If the field is not present, the user should\\nassume &quot;PREDICTIVE&quot;.</p></td></tr><tr><td>GEOMETRIC_RMSE_MODEL</td><td>DOUBLE</td><td><p>Combined RMSE (Root Mean Square Error) of the geometric\\nresiduals (meters) in both across-track and along-track\\ndirections.</p></td></tr><tr><td>GEOMETRIC_RMSE_MODEL_X</td><td>DOUBLE</td><td><p>RMSE (Root Mean Square Error) of the geometric residuals (meters)\\nmeasured on the GCPs (Ground Control Points) used in geometric\\nprecision correction in the across-track direction.</p></td></tr><tr><td>GEOMETRIC_RMSE_MODEL_Y</td><td>DOUBLE</td><td><p>RMSE (Root Mean Square Error) of the geometric residuals (meters)\\nmeasured on the GCPs (Ground Control Points) used in geometric\\nprecision correction in the along-track direction.</p></td></tr><tr><td>GROUND_CONTROL_POINTS_MODEL</td><td>DOUBLE</td><td><p>Number of GCPs used in the precision correction process.\\nThis parameter is only present if the PROCESSING_LEVEL is L1TP.</p></td></tr><tr><td>GROUND_CONTROL_POINTS_VERSION</td><td>DOUBLE</td><td><p>GCP dataset version used in the precision correction process. This\\nparameter is only present if the PROCESSING_LEVEL is L1TP.</p></td></tr><tr><td>IMAGE_QUALITY</td><td>INT</td><td><p>Composite image quality for the bands.\\n0 = worst, 9 = best, -1 = quality not calculated or assessed.</p></td></tr><tr><td>L1_DATE_PRODUCT_GENERATED</td><td>STRING</td><td><p>Product generation date for the corresponding L1 product.</p></td></tr><tr><td>L1_LANDSAT_PRODUCT_ID</td><td>STRING</td><td><p>Landsat Product Identifier for the corresponding L1 product.</p></td></tr><tr><td>L1_PROCESSING_LEVEL</td><td>STRING</td><td><p>Processing Level for the corresponding L1 product.</p></td></tr><tr><td>L1_PROCESSING_SOFTWARE_VERSION</td><td>STRING</td><td><p>Processing software version for the corresponding L1 product.</p></td></tr><tr><td>LANDSAT_PRODUCT_ID</td><td>STRING</td><td><p>Landsat Product Identifier</p></td></tr><tr><td>LANDSAT_SCENE_ID</td><td>STRING</td><td><p>Short Landsat Scene Identifier</p></td></tr><tr><td>PROCESSING_LEVEL</td><td>STRING</td><td><p>&quot;L2SP&quot; when both SR and LST bands are present, or &quot;L2SR&quot; when only\\nSR bands are present.</p></td></tr><tr><td>PROCESSING_SOFTWARE_VERSION</td><td>STRING</td><td><p>The processing software version that created the product.</p></td></tr><tr><td>SCENE_CENTER_TIME</td><td>STRING</td><td><p>Time of the observations as in ISO 8601 string.</p></td></tr><tr><td>SENSOR_ID</td><td>STRING</td><td><p>Name of the sensor.</p></td></tr><tr><td>SPACECRAFT_ID</td><td>STRING</td><td><p>Name of the spacecraft.</p></td></tr><tr><td>SUN_AZIMUTH</td><td>DOUBLE</td><td><p>Sun azimuth angle in degrees for the image center location at the\\nimage center acquisition time. A positive value indicates angles to the\\neast or clockwise from the north. A negative value indicates angles to\\nthe west or counterclockwise from the north.</p></td></tr><tr><td>SUN_ELEVATION</td><td>DOUBLE</td><td><p>Sun elevation angle in degrees for the image center location at the\\nimage center acquisition time. A positive value indicates a daytime\\nscene. A negative value indicates a nighttime scene.\\nNote: For reflectance calculation, the sun zenith angle is needed,\\nwhich is 90 - sun elevation angle.</p></td></tr><tr><td>TEMPERATURE_MAXIMUM_BAND_ST_B6</td><td>DOUBLE</td><td><p>Maximum achievable temperature value for Band 6.</p></td></tr><tr><td>TEMPERATURE_MINIMUM_BAND_ST_B6</td><td>DOUBLE</td><td><p>Minimum achievable temperature value for Band 6.</p></td></tr><tr><td>WRS_PATH</td><td>INT</td><td><p>WRS path number of scene.</p></td></tr><tr><td>WRS_ROW</td><td>INT</td><td><p>WRS row number of scene.</p></td></tr></table><p><b>Terms of Use</b><br><p>Landsat datasets are federally created data\\nand therefore reside in the public domain and may be used, transferred, or reproduced without copyright restriction.</p><p>Acknowledgement or credit of the USGS as data source should be provided\\nby including a line of text citation such as the example shown below.</p><p>(Product, Image, Photograph, or Dataset Name) courtesy of\\nthe U.S. Geological Survey</p><p>Example: Landsat-7 image courtesy of the U.S. Geological Survey</p><p>See the\\n<a href=\"https://www.usgs.gov/information-policies-and-instructions/usgs-visual-identity-system\">USGS Visual Identity System Guidance</a>\\nfor further details on proper citation and acknowledgement of USGS products.</p><style>\\n  table.eecat {\\n  border: 1px solid black;\\n  border-collapse: collapse;\\n  font-size: 13px;\\n  }\\n  table.eecat td, tr, th {\\n  text-align: left; vertical-align: top;\\n  border: 1px solid gray; padding: 3px;\\n  }\\n  td.nobreak { white-space: nowrap; }\\n</style>', 'source_tags': ['landsat', 'usgs'], 'visualization_1_name': 'Near Infrared (432)', 'provider_url': 'https://www.usgs.gov/core-science-systems/nli/landsat/landsat-collection-2-level-2-science-products', 'title': 'USGS Landsat 7 Level 2, Collection 2, Tier 2', 'visualization_0_gain': '1.4,1.2,1.0', 'sample': 'https://mw1.google.com/ges/dd/images/LANDSAT_SR_sample.png', 'tags': ['cfmask', 'cloud', 'etm', 'fmask', 'global', 'landsat', 'lasrc', 'lst', 'reflectance', 'sr', 'usgs'], 'product_tags': ['global', 'sr', 'reflectance', 'lst', 'cloud', 'lasrc', 'fmask', 'cfmask', 'etm', 'le07'], 'visualization_1_gain': '1.4,1.2,1.4', 'provider': 'USGS', 'visualization_0_name': 'True Color (321)', 'visualization_0_bands': 'SR_B3,SR_B2,SR_B1'}, 'features': [{'type': 'Image', 'bands': [{'id': 'SR_B1', 'data_type': {'type': 'PixelType', 'precision': 'int', 'min': 0, 'max': 65535}, 'dimensions': [7991, 7041], 'crs': 'EPSG:32610', 'crs_transform': [30, 0, 597285, 0, -30, 4259715]}, {'id': 'SR_B2', 'data_type': {'type': 'PixelType', 'precision': 'int', 'min': 0, 'max': 65535}, 'dimensions': [7991, 7041], 'crs': 'EPSG:32610', 'crs_transform': [30, 0, 597285, 0, -30, 4259715]}, {'id': 'SR_B3', 'data_type': {'type': 'PixelType', 'precision': 'int', 'min': 0, 'max': 65535}, 'dimensions': [7991, 7041], 'crs': 'EPSG:32610', 'crs_transform': [30, 0, 597285, 0, -30, 4259715]}, {'id': 'SR_B4', 'data_type': {'type': 'PixelType', 'precision': 'int', 'min': 0, 'max': 65535}, 'dimensions': [7991, 7041], 'crs': 'EPSG:32610', 'crs_transform': [30, 0, 597285, 0, -30, 4259715]}, {'id': 'SR_B5', 'data_type': {'type': 'PixelType', 'precision': 'int', 'min': 0, 'max': 65535}, 'dimensions': [7991, 7041], 'crs': 'EPSG:32610', 'crs_transform': [30, 0, 597285, 0, -30, 4259715]}, {'id': 'SR_B7', 'data_type': {'type': 'PixelType', 'precision': 'int', 'min': 0, 'max': 65535}, 'dimensions': [7991, 7041], 'crs': 'EPSG:32610', 'crs_transform': [30, 0, 597285, 0, -30, 4259715]}, {'id': 'SR_ATMOS_OPACITY', 'data_type': {'type': 'PixelType', 'precision': 'int', 'min': -32768, 'max': 32767}, 'dimensions': [7991, 7041], 'crs': 'EPSG:32610', 'crs_transform': [30, 0, 597285, 0, -30, 4259715]}, {'id': 'SR_CLOUD_QA', 'data_type': {'type': 'PixelType', 'precision': 'int', 'min': 0, 'max': 255}, 'dimensions': [7991, 7041], 'crs': 'EPSG:32610', 'crs_transform': [30, 0, 597285, 0, -30, 4259715]}, {'id': 'ST_B6', 'data_type': {'type': 'PixelType', 'precision': 'int', 'min': 0, 'max': 65535}, 'dimensions': [7991, 7041], 'crs': 'EPSG:32610', 'crs_transform': [30, 0, 597285, 0, -30, 4259715]}, {'id': 'ST_ATRAN', 'data_type': {'type': 'PixelType', 'precision': 'int', 'min': -32768, 'max': 32767}, 'dimensions': [7991, 7041], 'crs': 'EPSG:32610', 'crs_transform': [30, 0, 597285, 0, -30, 4259715]}, {'id': 'ST_CDIST', 'data_type': {'type': 'PixelType', 'precision': 'int', 'min': -32768, 'max': 32767}, 'dimensions': [7991, 7041], 'crs': 'EPSG:32610', 'crs_transform': [30, 0, 597285, 0, -30, 4259715]}, {'id': 'ST_DRAD', 'data_type': {'type': 'PixelType', 'precision': 'int', 'min': -32768, 'max': 32767}, 'dimensions': [7991, 7041], 'crs': 'EPSG:32610', 'crs_transform': [30, 0, 597285, 0, -30, 4259715]}, {'id': 'ST_EMIS', 'data_type': {'type': 'PixelType', 'precision': 'int', 'min': -32768, 'max': 32767}, 'dimensions': [7991, 7041], 'crs': 'EPSG:32610', 'crs_transform': [30, 0, 597285, 0, -30, 4259715]}, {'id': 'ST_EMSD', 'data_type': {'type': 'PixelType', 'precision': 'int', 'min': -32768, 'max': 32767}, 'dimensions': [7991, 7041], 'crs': 'EPSG:32610', 'crs_transform': [30, 0, 597285, 0, -30, 4259715]}, {'id': 'ST_QA', 'data_type': {'type': 'PixelType', 'precision': 'int', 'min': -32768, 'max': 32767}, 'dimensions': [7991, 7041], 'crs': 'EPSG:32610', 'crs_transform': [30, 0, 597285, 0, -30, 4259715]}, {'id': 'ST_TRAD', 'data_type': {'type': 'PixelType', 'precision': 'int', 'min': -32768, 'max': 32767}, 'dimensions': [7991, 7041], 'crs': 'EPSG:32610', 'crs_transform': [30, 0, 597285, 0, -30, 4259715]}, {'id': 'ST_URAD', 'data_type': {'type': 'PixelType', 'precision': 'int', 'min': -32768, 'max': 32767}, 'dimensions': [7991, 7041], 'crs': 'EPSG:32610', 'crs_transform': [30, 0, 597285, 0, -30, 4259715]}, {'id': 'QA_PIXEL', 'data_type': {'type': 'PixelType', 'precision': 'int', 'min': 0, 'max': 65535}, 'dimensions': [7991, 7041], 'crs': 'EPSG:32610', 'crs_transform': [30, 0, 597285, 0, -30, 4259715]}, {'id': 'QA_RADSAT', 'data_type': {'type': 'PixelType', 'precision': 'int', 'min': 0, 'max': 65535}, 'dimensions': [7991, 7041], 'crs': 'EPSG:32610', 'crs_transform': [30, 0, 597285, 0, -30, 4259715]}], 'id': 'LANDSAT/LE07/C02/T2_L2/LE07_043034_20120921', 'version': 1628941206374170.0, 'properties': {'IMAGE_QUALITY': 9, 'WRS_TYPE': 2, 'CORRECTION_GAIN_BAND_6_VCID_2': 'CPF', 'CORRECTION_GAIN_BAND_6_VCID_1': 'CPF', 'CORRECTION_GAIN_BAND_2': 'CPF', 'CORRECTION_GAIN_BAND_1': 'CPF', 'TEMPERATURE_ADD_BAND_ST_B6': 149, 'system:footprint': {'type': 'LinearRing', 'coordinates': [[-121.83947487243809, 36.86125533055938], [-121.8352382154751, 36.85965759611189], [-121.65821193505202, 36.83502336842505], [-121.00417107259103, 36.74169545518551], [-119.72350141700682, 36.5481374751373], [-119.71812676667133, 36.56140498483622], [-119.68939018762585, 36.65337597519689], [-119.63120320296599, 36.84096069357358], [-119.56480403169215, 37.05471526369556], [-119.52205289669571, 37.19312684466186], [-119.36923059233861, 37.685147653783766], [-119.22682951881747, 38.1368641936019], [-119.22564651166998, 38.14457768025115], [-121.37864510543986, 38.46251242854743], [-121.38986381987428, 38.45675997017364], [-121.39284096629713, 38.4480450647357], [-121.61600406346102, 37.67372515109768], [-121.83433565798941, 36.89880571417866], [-121.84112229694148, 36.87317492859979], [-121.84306621251356, 36.86391648037754], [-121.83947487243809, 36.86125533055938]]}, 'REFLECTIVE_SAMPLES': 7991, 'TEMPERATURE_MINIMUM_BAND_ST_B6': 149.003418, 'CORRECTION_GAIN_BAND_8': 'CPF', 'CORRECTION_GAIN_BAND_7': 'CPF', 'CORRECTION_GAIN_BAND_5': 'CPF', 'SUN_AZIMUTH': 149.02326006, 'CORRECTION_GAIN_BAND_4': 'CPF', 'CORRECTION_GAIN_BAND_3': 'CPF', 'GAIN_CHANGE_BAND_7': 'HH', 'GAIN_CHANGE_BAND_8': 'LL', 'GAIN_CHANGE_BAND_5': 'HH', 'DATE_ACQUIRED': '2012-09-21', 'GAIN_CHANGE_BAND_3': 'HH', 'ELLIPSOID': 'WGS84', 'GAIN_CHANGE_BAND_4': 'LL', 'GAIN_CHANGE_BAND_1': 'HH', 'GAIN_CHANGE_BAND_2': 'HH', 'SENSOR_MODE': 'BUMPER', 'STATION_ID': 'EDC', 'DATA_SOURCE_REANALYSIS': 'GEOS-5 FP-IT', 'ORIENTATION': 'NORTH_UP', 'WRS_ROW': 34, 'GAIN_BAND_6_VCID_2': 'H', 'GAIN_BAND_6_VCID_1': 'L', 'CLOUD_COVER': 8, 'COLLECTION_CATEGORY': 'T2', 'GRID_CELL_SIZE_REFLECTIVE': 30, 'ALGORITHM_SOURCE_SURFACE_TEMPERATURE': 'st_1.3.0', 'CLOUD_COVER_LAND': 8, 'COLLECTION_NUMBER': 2, 'DATA_SOURCE_WATER_VAPOR': 'NCEP', 'LANDSAT_SCENE_ID': 'LE70430342012265EDC00', 'WRS_PATH': 43, 'L1_PROCESSING_SOFTWARE_VERSION': 'LPGS_15.3.1c', 'REFLECTIVE_LINES': 7041, 'system:asset_size': 651165280, 'DATA_SOURCE_AIR_TEMPERATURE': 'NCEP', 'system:index': 'LE07_043034_20120921', 'DATA_SOURCE_ELEVATION': 'GLS2000', 'SENSOR_ANOMALIES': 'NONE', 'GAIN_BAND_4': 'L', 'REFLECTANCE_ADD_BAND_1': -0.2, 'GAIN_BAND_5': 'H', 'REFLECTANCE_ADD_BAND_2': -0.2, 'DATUM': 'WGS84', 'GAIN_BAND_2': 'H', 'REFLECTANCE_ADD_BAND_3': -0.2, 'GAIN_BAND_3': 'H', 'REFLECTANCE_ADD_BAND_4': -0.2, 'GAIN_BAND_8': 'L', 'REFLECTANCE_ADD_BAND_5': -0.2, 'REFLECTANCE_ADD_BAND_7': -0.2, 'GAIN_BAND_7': 'H', 'GAIN_BAND_1': 'H', 'CORRECTION_BIAS_BAND_2': 'INTERNAL_CALIBRATION', 'CORRECTION_BIAS_BAND_1': 'INTERNAL_CALIBRATION', 'CORRECTION_BIAS_BAND_4': 'INTERNAL_CALIBRATION', 'CORRECTION_BIAS_BAND_3': 'INTERNAL_CALIBRATION', 'GAIN_CHANGE_SCAN_BAND_6_VCID_1': 0, 'UTM_ZONE': 10, 'GAIN_CHANGE_SCAN_BAND_6_VCID_2': 0, 'system:time_end': 1348252523870, 'DATA_SOURCE_PRESSURE': 'NCEP', 'LANDSAT_PRODUCT_ID': 'LE07_L2SP_043034_20120921_20200908_02_T2', 'REFLECTANCE_MULT_BAND_7': 2.75e-05, 'system:time_start': 1348252523870, 'L1_PROCESSING_LEVEL': 'L1GT', 'PROCESSING_SOFTWARE_VERSION': 'LPGS_15.3.1c', 'L1_DATE_PRODUCT_GENERATED': '2020-09-08T10:50:07Z', 'EPHEMERIS_TYPE': 'DEFINITIVE', 'CORRECTION_BIAS_BAND_6_VCID_2': 'INTERNAL_CALIBRATION', 'REFLECTANCE_MULT_BAND_1': 2.75e-05, 'CORRECTION_BIAS_BAND_6_VCID_1': 'INTERNAL_CALIBRATION', 'REFLECTANCE_MULT_BAND_3': 2.75e-05, 'CORRECTION_BIAS_BAND_5': 'INTERNAL_CALIBRATION', 'REFLECTANCE_MULT_BAND_2': 2.75e-05, 'CORRECTION_BIAS_BAND_8': 'INTERNAL_CALIBRATION', 'REFLECTANCE_MULT_BAND_5': 2.75e-05, 'CORRECTION_BIAS_BAND_7': 'INTERNAL_CALIBRATION', 'REFLECTANCE_MULT_BAND_4': 2.75e-05, 'THERMAL_LINES': 7041, 'GAIN_CHANGE_SCAN_BAND_1': 0, 'GRID_CELL_SIZE_THERMAL': 30, 'GAIN_CHANGE_SCAN_BAND_2': 0, 'GAIN_CHANGE_SCAN_BAND_3': 0, 'GAIN_CHANGE_SCAN_BAND_4': 0, 'GAIN_CHANGE_SCAN_BAND_5': 0, 'REQUEST_ID': 'L2', 'EARTH_SUN_DISTANCE': 1.0037791, 'TEMPERATURE_MAXIMUM_BAND_ST_B6': 372.999941, 'SCENE_CENTER_TIME': '18:35:23.8700290Z', 'SUN_ELEVATION': 48.56576478, 'SATURATION_BAND_6_VCID_1': 'N', 'SATURATION_BAND_6_VCID_2': 'N', 'DATE_PRODUCT_GENERATED': 1599563032000, 'L1_REQUEST_ID': 'L2', 'DATA_SOURCE_OZONE': 'TOMS', 'SATURATION_BAND_1': 'Y', 'SENSOR_MODE_SLC': 'OFF', 'SATURATION_BAND_2': 'Y', 'SATURATION_BAND_3': 'Y', 'SATURATION_BAND_4': 'Y', 'SATURATION_BAND_5': 'Y', 'MAP_PROJECTION': 'UTM', 'SENSOR_ID': 'ETM', 'SATURATION_BAND_7': 'Y', 'TEMPERATURE_MULT_BAND_ST_B6': 0.00341802, 'SATURATION_BAND_8': 'N', 'L1_LANDSAT_PRODUCT_ID': 'LE07_L1GT_043034_20120921_20200908_02_T2', 'PROCESSING_LEVEL': 'L2SP', 'ALGORITHM_SOURCE_SURFACE_REFLECTANCE': 'LEDAPS_3.4.0', 'SPACECRAFT_ID': 'LANDSAT_7', 'GAIN_CHANGE_SCAN_BAND_7': 0, 'GAIN_CHANGE_SCAN_BAND_8': 0, 'GAIN_CHANGE_BAND_6_VCID_1': 'LL', 'GAIN_CHANGE_BAND_6_VCID_2': 'HH', 'THERMAL_SAMPLES': 7991}}]}\n",
      "\n"
     ]
    }
   ],
   "source": [
    "# Set start and end date\n",
    "startTime = datetime.datetime(2012, 1, 1)\n",
    "endTime = datetime.datetime(2012, 9, 30)\n",
    "\n",
    "# Getting L7 image collection\n",
    "collection = ee.ImageCollection(\"LANDSAT/LE07/C02/T2_L2\").filterDate(startTime, endTime).filterBounds(point)\n",
    "\n",
    "# Limit the collection to the 1 most recent images.\n",
    "recent = collection.sort('system:time_start', False).limit(1)\n",
    "# Pull the image from the collection\n",
    "image = recent.first()\n",
    "print('Recent images: ' + str(recent.getInfo()) + '\\n')"
   ]
  },
  {
   "cell_type": "code",
   "execution_count": 11,
   "id": "1a8ccee2",
   "metadata": {},
   "outputs": [
    {
     "data": {
      "text/html": [
       "<img src=\"https://earthengine.googleapis.com/v1alpha/projects/earthengine-legacy/thumbnails/0db2c0d1e2d0cce18e8b2396868785af-36f8eedc779035025c5971d9d061c893:getPixels\"/>"
      ],
      "text/plain": [
       "<IPython.core.display.Image object>"
      ]
     },
     "execution_count": 11,
     "metadata": {},
     "output_type": "execute_result"
    }
   ],
   "source": [
    "# Set the visualization parameters for the output\n",
    "visParams = {'bands': ['SR_B3', 'SR_B2', 'SR_B1'], 'dimensions': 1000}\n",
    "\n",
    "# Create image thumbnail in earth engine and view\n",
    "thumbnail = image.getThumbUrl(visParams)\n",
    "Image(url = thumbnail)"
   ]
  },
  {
   "cell_type": "code",
   "execution_count": 12,
   "id": "311921a2",
   "metadata": {},
   "outputs": [
    {
     "name": "stdout",
     "output_type": "stream",
     "text": [
      "2012-09-21 11:35:23.870000\n"
     ]
    }
   ],
   "source": [
    "# Get the timestamp and convert it to a date.\n",
    "date = ee.Date(image.get('system:time_start')).getInfo()\n",
    "x = date['value']\n",
    "print(datetime.datetime.fromtimestamp(x/1000))"
   ]
  },
  {
   "cell_type": "code",
   "execution_count": 13,
   "id": "34522599",
   "metadata": {},
   "outputs": [
    {
     "name": "stdout",
     "output_type": "stream",
     "text": [
      "Metadata properties: ['date_range', 'visualization_2_bands', 'visualization_2_name', 'period', 'type_name', 'keywords', 'visualization_1_bands', 'thumb', 'visualization_2_gain', 'description', 'source_tags', 'visualization_1_name', 'system:id', 'provider_url', 'title', 'visualization_0_gain', 'sample', 'tags', 'product_tags', 'visualization_1_gain', 'provider', 'system:version', 'visualization_0_name', 'visualization_0_bands']\n"
     ]
    }
   ],
   "source": [
    "# Get a list of all metadata properties\n",
    "properties = collection.propertyNames()\n",
    "print('Metadata properties: '+str(properties.getInfo())) "
   ]
  },
  {
   "cell_type": "code",
   "execution_count": 14,
   "id": "d8c49402",
   "metadata": {},
   "outputs": [
    {
     "name": "stdout",
     "output_type": "stream",
     "text": [
      "WRS_ROW = 34\n",
      "WRS_PATH = 43\n",
      "Metadata properties: ['IMAGE_QUALITY', 'WRS_TYPE', 'system:id', 'CORRECTION_GAIN_BAND_6_VCID_2', 'CORRECTION_GAIN_BAND_6_VCID_1', 'CORRECTION_GAIN_BAND_2', 'CORRECTION_GAIN_BAND_1', 'TEMPERATURE_ADD_BAND_ST_B6', 'system:footprint', 'REFLECTIVE_SAMPLES', 'TEMPERATURE_MINIMUM_BAND_ST_B6', 'CORRECTION_GAIN_BAND_8', 'CORRECTION_GAIN_BAND_7', 'CORRECTION_GAIN_BAND_5', 'SUN_AZIMUTH', 'CORRECTION_GAIN_BAND_4', 'CORRECTION_GAIN_BAND_3', 'GAIN_CHANGE_BAND_7', 'GAIN_CHANGE_BAND_8', 'GAIN_CHANGE_BAND_5', 'DATE_ACQUIRED', 'GAIN_CHANGE_BAND_3', 'ELLIPSOID', 'GAIN_CHANGE_BAND_4', 'GAIN_CHANGE_BAND_1', 'GAIN_CHANGE_BAND_2', 'SENSOR_MODE', 'STATION_ID', 'DATA_SOURCE_REANALYSIS', 'ORIENTATION', 'WRS_ROW', 'GAIN_BAND_6_VCID_2', 'GAIN_BAND_6_VCID_1', 'CLOUD_COVER', 'COLLECTION_CATEGORY', 'GRID_CELL_SIZE_REFLECTIVE', 'ALGORITHM_SOURCE_SURFACE_TEMPERATURE', 'CLOUD_COVER_LAND', 'COLLECTION_NUMBER', 'DATA_SOURCE_WATER_VAPOR', 'LANDSAT_SCENE_ID', 'WRS_PATH', 'L1_PROCESSING_SOFTWARE_VERSION', 'REFLECTIVE_LINES', 'system:asset_size', 'DATA_SOURCE_AIR_TEMPERATURE', 'system:index', 'DATA_SOURCE_ELEVATION', 'SENSOR_ANOMALIES', 'GAIN_BAND_4', 'REFLECTANCE_ADD_BAND_1', 'GAIN_BAND_5', 'REFLECTANCE_ADD_BAND_2', 'DATUM', 'GAIN_BAND_2', 'REFLECTANCE_ADD_BAND_3', 'GAIN_BAND_3', 'REFLECTANCE_ADD_BAND_4', 'GAIN_BAND_8', 'REFLECTANCE_ADD_BAND_5', 'REFLECTANCE_ADD_BAND_7', 'GAIN_BAND_7', 'system:version', 'GAIN_BAND_1', 'CORRECTION_BIAS_BAND_2', 'CORRECTION_BIAS_BAND_1', 'CORRECTION_BIAS_BAND_4', 'CORRECTION_BIAS_BAND_3', 'GAIN_CHANGE_SCAN_BAND_6_VCID_1', 'UTM_ZONE', 'GAIN_CHANGE_SCAN_BAND_6_VCID_2', 'system:time_end', 'DATA_SOURCE_PRESSURE', 'LANDSAT_PRODUCT_ID', 'REFLECTANCE_MULT_BAND_7', 'system:time_start', 'L1_PROCESSING_LEVEL', 'PROCESSING_SOFTWARE_VERSION', 'L1_DATE_PRODUCT_GENERATED', 'EPHEMERIS_TYPE', 'CORRECTION_BIAS_BAND_6_VCID_2', 'REFLECTANCE_MULT_BAND_1', 'CORRECTION_BIAS_BAND_6_VCID_1', 'REFLECTANCE_MULT_BAND_3', 'CORRECTION_BIAS_BAND_5', 'REFLECTANCE_MULT_BAND_2', 'CORRECTION_BIAS_BAND_8', 'REFLECTANCE_MULT_BAND_5', 'CORRECTION_BIAS_BAND_7', 'REFLECTANCE_MULT_BAND_4', 'THERMAL_LINES', 'GAIN_CHANGE_SCAN_BAND_1', 'GRID_CELL_SIZE_THERMAL', 'GAIN_CHANGE_SCAN_BAND_2', 'GAIN_CHANGE_SCAN_BAND_3', 'GAIN_CHANGE_SCAN_BAND_4', 'GAIN_CHANGE_SCAN_BAND_5', 'REQUEST_ID', 'EARTH_SUN_DISTANCE', 'TEMPERATURE_MAXIMUM_BAND_ST_B6', 'SCENE_CENTER_TIME', 'SUN_ELEVATION', 'SATURATION_BAND_6_VCID_1', 'SATURATION_BAND_6_VCID_2', 'DATE_PRODUCT_GENERATED', 'L1_REQUEST_ID', 'DATA_SOURCE_OZONE', 'SATURATION_BAND_1', 'SENSOR_MODE_SLC', 'SATURATION_BAND_2', 'SATURATION_BAND_3', 'SATURATION_BAND_4', 'SATURATION_BAND_5', 'MAP_PROJECTION', 'SENSOR_ID', 'SATURATION_BAND_7', 'TEMPERATURE_MULT_BAND_ST_B6', 'SATURATION_BAND_8', 'L1_LANDSAT_PRODUCT_ID', 'PROCESSING_LEVEL', 'ALGORITHM_SOURCE_SURFACE_REFLECTANCE', 'SPACECRAFT_ID', 'GAIN_CHANGE_SCAN_BAND_7', 'GAIN_CHANGE_SCAN_BAND_8', 'GAIN_CHANGE_BAND_6_VCID_1', 'GAIN_CHANGE_BAND_6_VCID_2', 'THERMAL_SAMPLES', 'system:bands', 'system:band_names']\n",
      "LANDSAT_SCENE_ID = LE70430342012265EDC00\n"
     ]
    }
   ],
   "source": [
    "# Get the 'WRS_ROW' location identifier\n",
    "target_row = 'WRS_ROW'\n",
    "meta_row = image.get(target_row).getInfo()\n",
    "print(f'{target_row} = {meta_row}')\n",
    "\n",
    "# Get the 'WRS_PATH' location identifier\n",
    "target_path = 'WRS_PATH'\n",
    "meta_path = image.get(target_path).getInfo()\n",
    "print(f'{target_path} = {meta_path}')\n",
    "\n",
    "# List of data fields in the image\n",
    "properties = image.propertyNames()\n",
    "print('Metadata properties: '+str(properties.getInfo())) \n",
    "\n",
    "# Get the scene id\n",
    "target = 'LANDSAT_SCENE_ID'\n",
    "meta = image.get(target).getInfo()\n",
    "print(f'{target} = {meta}')"
   ]
  },
  {
   "cell_type": "code",
   "execution_count": 15,
   "id": "67686dd4",
   "metadata": {},
   "outputs": [
    {
     "name": "stdout",
     "output_type": "stream",
     "text": [
      "CLOUD_COVER = 8\n"
     ]
    }
   ],
   "source": [
    "# Estimating the cloud cover\n",
    "target = 'CLOUD_COVER'\n",
    "meta = image.get(target).getInfo()\n",
    "print(f'{target} = {meta}')"
   ]
  },
  {
   "cell_type": "markdown",
   "id": "ccc4cb2f",
   "metadata": {},
   "source": [
    "#### Calculating NDVI"
   ]
  },
  {
   "cell_type": "code",
   "execution_count": 16,
   "id": "aa19d436",
   "metadata": {},
   "outputs": [
    {
     "data": {
      "text/html": [
       "<img src=\"https://earthengine.googleapis.com/v1alpha/projects/earthengine-legacy/thumbnails/c1840d0f9f6e365a727cdce3a10b5615-dfd0cbdf3afd2dcd7f1af96a3f8504a7:getPixels\"/>"
      ],
      "text/plain": [
       "<IPython.core.display.Image object>"
      ]
     },
     "execution_count": 16,
     "metadata": {},
     "output_type": "execute_result"
    }
   ],
   "source": [
    "# Run the Landsat 7 NDVI function\n",
    "l7ndvi = l7NDVI(image)\n",
    "\n",
    "# Change visualization setting for the NDVI data\n",
    "visParams = {'min':0, 'max': 1, 'dimensions':1000}\n",
    "thumbnail = l7ndvi.getThumbUrl(visParams)\n",
    "Image(url=thumbnail)"
   ]
  },
  {
   "cell_type": "markdown",
   "id": "25ee4048",
   "metadata": {},
   "source": [
    "#### Interactive NDVI graph"
   ]
  },
  {
   "cell_type": "code",
   "execution_count": 17,
   "id": "e7d01909",
   "metadata": {},
   "outputs": [
    {
     "data": {
      "application/vnd.jupyter.widget-view+json": {
       "model_id": "b99b2236685f461b9722f0ae7f1f6508",
       "version_major": 2,
       "version_minor": 0
      },
      "text/plain": [
       "Map(center=[37.824, -119.634], controls=(WidgetControl(options=['position', 'transparent_bg'], widget=HBox(chi…"
      ]
     },
     "metadata": {},
     "output_type": "display_data"
    }
   ],
   "source": [
    "# Visualization settings\n",
    "rgbParams = {'bands': ['SR_B3', 'SR_B2', 'SR_B1'], 'gamma': [1.4, 1.2, 1.4]}\n",
    "ndviParams = {'min':0, 'max': 1}\n",
    "\n",
    "# Create the map\n",
    "Map = geemap.Map(location=coords[::-1], zoom = 11)\n",
    "\n",
    "# Add a marker to show the location\n",
    "Map.add_marker(coords[::-1])\n",
    "\n",
    "# Add the Landsat 7 image to the map\n",
    "Map.addLayer(image, rgbParams, 'Natural Color Landsat 7');\n",
    "\n",
    "# Add the NDVI image to the map\n",
    "Map.addLayer(l7ndvi, ndviParams, 'NDVI')\n",
    "\n",
    "# Add layer control\n",
    "Map.addLayerControl()\n",
    "\n",
    "# Display the map\n",
    "Map"
   ]
  },
  {
   "cell_type": "markdown",
   "id": "b1dfecd3",
   "metadata": {},
   "source": [
    "# Time Period: During Fire and its NDVI Analysis¶"
   ]
  },
  {
   "cell_type": "code",
   "execution_count": 18,
   "id": "a7c1a595",
   "metadata": {},
   "outputs": [
    {
     "name": "stdout",
     "output_type": "stream",
     "text": [
      "Recent images: {'type': 'ImageCollection', 'bands': [], 'id': 'LANDSAT/LC08/C02/T1_L2', 'version': 1677795896637188, 'properties': {'type_name': 'ImageCollection', 'keywords': ['cfmask', 'cloud', 'fmask', 'global', 'l8sr', 'landsat', 'lasrc', 'lst', 'reflectance', 'sr', 'usgs'], 'visualization_1_bands': 'SR_B5,SR_B4,SR_B3', 'thumb': 'https://mw1.google.com/ges/dd/images/LANDSAT_SR_thumb.png', 'visualization_1_max': '30000.0', 'description': '<p>This dataset contains atmospherically corrected\\nsurface reflectance and land surface temperature derived from the data\\nproduced by the Landsat 8 OLI/TIRS sensors.\\nThese images contain 5 visible and near-infrared (VNIR) bands and\\n2 short-wave infrared (SWIR) bands processed to orthorectified surface\\nreflectance, and one thermal infrared (TIR) band processed to orthorectified\\nsurface temperature. They also contain intermediate bands used in\\ncalculation of the ST products, as well as QA bands.</p><p>Landsat 8 SR products are created with the Land Surface Reflectance Code\\n(LaSRC). All Collection 2 ST products are created with a single-channel\\nalgorithm jointly created by the Rochester Institute of Technology (RIT) and\\nNational Aeronautics and Space Administration (NASA)\\nJet Propulsion Laboratory (JPL).</p><p>Strips of collected data are packaged into overlapping &quot;scenes&quot; covering approximately\\n170km x 183km using a <a href=\"https://landsat.gsfc.nasa.gov/about/worldwide-reference-system\">standardized reference grid</a>.</p><p>Some assets have only SR data, in which case ST bands are present but empty.\\nFor assets with both ST and SR bands, &#39;PROCESSING_LEVEL&#39; is set to &#39;L2SP&#39;.\\nFor assets with only SR bands, &#39;PROCESSING_LEVEL&#39; is set to &#39;L2SR&#39;.</p><p><a href=\"/earth-engine/guides/landsat\">Additional documentation and usage examples.</a></p><p>Data provider notes:</p><ul><li><p>Data products must contain both optical and thermal data to be\\nsuccessfully processed to surface temperature, as ASTER NDVI is\\nrequired to temporally adjust the ASTER GED product to the target Landsat\\nscene. Therefore, night time acquisitions cannot be processed to\\nsurface temperature.</p></li><li><p>A known error exists in the surface temperature retrievals relative\\nto clouds and possibly cloud shadows. The characterization of these\\nissues has been documented by\\n<a href=\"https://doi.org/10.3390/rs61111244\">Cook et al., (2014)</a>.</p></li></ul><p><b>Provider: <a href=\"https://www.usgs.gov/core-science-systems/nli/landsat/landsat-collection-2-level-2-science-products\">USGS</a></b><br><p><b>Resolution</b><br>30 meters\\n</p><p><b>Revisit Interval</b><br>\\n  16 days\\n</p><p><b>Bands</b><table class=\"eecat\"><tr><th scope=\"col\">Name</th><th scope=\"col\">Units</th><th scope=\"col\">Min</th><th scope=\"col\">Max</th><th scope=\"col\">Scale</th><th scope=\"col\">Offset</th><th scope=\"col\">Wavelength</th><th scope=\"col\">Description</th></tr><tr><td>SR_B1</td><td></td><td>\\n          1\\n</td><td>\\n          65455\\n</td><td>2.75e-05</td><td>-0.2</td><td>0.435-0.451 &mu;m</td><td><p>Band 1 (ultra blue, coastal aerosol) surface reflectance</p></td></tr><tr><td>SR_B2</td><td></td><td>\\n          1\\n</td><td>\\n          65455\\n</td><td>2.75e-05</td><td>-0.2</td><td>0.452-0.512 &mu;m</td><td><p>Band 2 (blue) surface reflectance</p></td></tr><tr><td>SR_B3</td><td></td><td>\\n          1\\n</td><td>\\n          65455\\n</td><td>2.75e-05</td><td>-0.2</td><td>0.533-0.590 &mu;m</td><td><p>Band 3 (green) surface reflectance</p></td></tr><tr><td>SR_B4</td><td></td><td>\\n          1\\n</td><td>\\n          65455\\n</td><td>2.75e-05</td><td>-0.2</td><td>0.636-0.673 &mu;m</td><td><p>Band 4 (red) surface reflectance</p></td></tr><tr><td>SR_B5</td><td></td><td>\\n          1\\n</td><td>\\n          65455\\n</td><td>2.75e-05</td><td>-0.2</td><td>0.851-0.879 &mu;m</td><td><p>Band 5 (near infrared) surface reflectance</p></td></tr><tr><td>SR_B6</td><td></td><td>\\n          1\\n</td><td>\\n          65455\\n</td><td>2.75e-05</td><td>-0.2</td><td>1.566-1.651 &mu;m</td><td><p>Band 6 (shortwave infrared 1) surface reflectance</p></td></tr><tr><td>SR_B7</td><td></td><td>\\n          1\\n</td><td>\\n          65455\\n</td><td>2.75e-05</td><td>-0.2</td><td>2.107-2.294 &mu;m</td><td><p>Band 7 (shortwave infrared 2) surface reflectance</p></td></tr><tr><td>SR_QA_AEROSOL</td><td></td><td></td><td></td><td></td><td></td><td></td><td><p>Aerosol attributes</p></td></tr><tr><td colspan=100>\\n      Bitmask for SR_QA_AEROSOL\\n<ul><li>\\n          Bit 0: Fill\\n<ul></ul></li><li>\\n          Bit 1: Aerosol retrieval - valid\\n<ul></ul></li><li>\\n          Bit 2: Water pixel\\n<ul></ul></li><li>\\n          Bit 3: Unused\\n<ul></ul></li><li>\\n          Bit 4: Unused\\n<ul></ul></li><li>\\n          Bit 5: Interpolated Aerosol\\n<ul></ul></li><li>\\n          Bits 6-7: Aerosol Level\\n<ul><li>0: Climatology</li><li>1: Low</li><li>2: Medium</li><li>3: High</li></ul></li></ul></td></tr><tr><td>ST_B10</td><td>Kelvin</td><td>\\n          0\\n</td><td>\\n          65535\\n</td><td>0.00341802</td><td>149</td><td>10.60-11.19 &mu;m</td><td><p>Band 10 surface temperature.\\nIf &#39;PROCESSING_LEVEL&#39; is set to &#39;L2SR&#39;, this band is fully masked out.</p></td></tr><tr><td>ST_ATRAN</td><td></td><td>\\n          0\\n</td><td>\\n          10000\\n</td><td>0.0001</td><td></td><td></td><td><p>Atmospheric Transmittance.\\nIf &#39;PROCESSING_LEVEL&#39; is set to &#39;L2SR&#39;, this band is fully masked out.</p></td></tr><tr><td>ST_CDIST</td><td>km</td><td>\\n          0\\n</td><td>\\n          24000\\n</td><td>0.01</td><td></td><td></td><td><p>Pixel distance to cloud.\\nIf &#39;PROCESSING_LEVEL&#39; is set to &#39;L2SR&#39;, this band is fully masked out.</p></td></tr><tr><td>ST_DRAD</td><td>W/(m^2*sr*um)/ DN</td><td>\\n          0\\n</td><td>\\n          28000\\n</td><td>0.001</td><td></td><td></td><td><p>Downwelled Radiance.\\nIf &#39;PROCESSING_LEVEL&#39; is set to &#39;L2SR&#39;, this band is fully masked out.</p></td></tr><tr><td>ST_EMIS</td><td></td><td>\\n          0\\n</td><td>\\n          10000\\n</td><td>0.0001</td><td></td><td></td><td><p>Emissivity of Band 10 estimated from ASTER GED.\\nIf &#39;PROCESSING_LEVEL&#39; is set to &#39;L2SR&#39;, this band is fully masked out.</p></td></tr><tr><td>ST_EMSD</td><td></td><td>\\n          0\\n</td><td>\\n          10000\\n</td><td>0.0001</td><td></td><td></td><td><p>Emissivity standard deviation.\\nIf &#39;PROCESSING_LEVEL&#39; is set to &#39;L2SR&#39;, this band is fully masked out.</p></td></tr><tr><td>ST_QA</td><td>K</td><td>\\n          0\\n</td><td>\\n          32767\\n</td><td>0.01</td><td></td><td></td><td><p>Uncertainty of the Surface Temperature band.\\nIf &#39;PROCESSING_LEVEL&#39; is set to &#39;L2SR&#39;, this band is fully masked out.</p></td></tr><tr><td>ST_TRAD</td><td>W/(m^2*sr*um)/ DN</td><td>\\n          0\\n</td><td>\\n          22000\\n</td><td>0.001</td><td></td><td></td><td><p>Thermal band converted to radiance.\\nIf &#39;PROCESSING_LEVEL&#39; is set to &#39;L2SR&#39;, this band is fully masked out.</p></td></tr><tr><td>ST_URAD</td><td>W/(m^2*sr*um)/ DN</td><td>\\n          0\\n</td><td>\\n          28000\\n</td><td>0.001</td><td></td><td></td><td><p>Upwelled Radiance. If &#39;PROCESSING_LEVEL&#39; is set to &#39;L2SR&#39;, this band is fully masked out.</p></td></tr><tr><td>QA_PIXEL</td><td></td><td></td><td></td><td></td><td></td><td></td><td><p>Pixel quality attributes generated from the CFMASK algorithm.</p></td></tr><tr><td colspan=100>\\n      Bitmask for QA_PIXEL\\n<ul><li>\\n          Bit 0: Fill\\n<ul></ul></li><li>\\n          Bit 1: Dilated Cloud\\n<ul></ul></li><li>\\n          Bit 2: Cirrus (high confidence)\\n<ul></ul></li><li>\\n          Bit 3: Cloud\\n<ul></ul></li><li>\\n          Bit 4: Cloud Shadow\\n<ul></ul></li><li>\\n          Bit 5: Snow\\n<ul></ul></li><li>\\n          Bit 6: Clear\\n<ul><li>0: Cloud or Dilated Cloud bits are set</li><li>1: Cloud and Dilated Cloud bits are not set</li></ul></li><li>\\n          Bit 7: Water\\n<ul></ul></li><li>\\n          Bits 8-9: Cloud Confidence\\n<ul><li>0: None</li><li>1: Low</li><li>2: Medium</li><li>3: High</li></ul></li><li>\\n          Bits 10-11: Cloud Shadow Confidence\\n<ul><li>0: None</li><li>1: Low</li><li>2: Medium</li><li>3: High</li></ul></li><li>\\n          Bits 12-13: Snow/Ice Confidence\\n<ul><li>0: None</li><li>1: Low</li><li>2: Medium</li><li>3: High</li></ul></li><li>\\n          Bits 14-15: Cirrus Confidence\\n<ul><li>0: None</li><li>1: Low</li><li>2: Medium</li><li>3: High</li></ul></li></ul></td></tr><tr><td>QA_RADSAT</td><td></td><td></td><td></td><td></td><td></td><td></td><td><p>Radiometric saturation QA</p></td></tr><tr><td colspan=100>\\n      Bitmask for QA_RADSAT\\n<ul><li>\\n          Bit 0: Band 1 data saturated\\n<ul></ul></li><li>\\n          Bit 1: Band 2 data saturated\\n<ul></ul></li><li>\\n          Bit 2: Band 3 data saturated\\n<ul></ul></li><li>\\n          Bit 3: Band 4 data saturated\\n<ul></ul></li><li>\\n          Bit 4: Band 5 data saturated\\n<ul></ul></li><li>\\n          Bit 5: Band 6 data saturated\\n<ul></ul></li><li>\\n          Bit 6: Band 7 data saturated\\n<ul></ul></li><li>\\n          Bit 7: Unused\\n<ul></ul></li><li>\\n          Bit 8: Band 9 data saturated\\n<ul></ul></li><li>\\n          Bit 9: Unused\\n<ul></ul></li><li>\\n          Bit 10: Unused\\n<ul></ul></li><li>\\n          Bit 11: Terrain occlusion\\n<ul></ul></li></ul></td></tr></table><p><b>Image Properties</b><table class=\"eecat\"><tr><th scope=\"col\">Name</th><th scope=\"col\">Type</th><th scope=\"col\">Description</th></tr><tr><td>ALGORITHM_SOURCE_SURFACE_REFLECTANCE</td><td>STRING</td><td><p>Name and version of the surface reflectance algorithm.</p></td></tr><tr><td>ALGORITHM_SOURCE_SURFACE_TEMPERATURE</td><td>STRING</td><td><p>Name and version of the surface temperature algorithm.</p></td></tr><tr><td>CLOUD_COVER</td><td>DOUBLE</td><td><p>Percentage cloud cover (0-100), -1 = not calculated.</p></td></tr><tr><td>CLOUD_COVER_LAND</td><td>DOUBLE</td><td><p>Percentage cloud cover over land (0-100), -1 = not calculated.</p></td></tr><tr><td>COLLECTION_CATEGORY</td><td>STRING</td><td><p>Scene collection category, &quot;T1&quot; or &quot;T2&quot;.</p></td></tr><tr><td>DATA_SOURCE_AIR_TEMPERATURE</td><td>STRING</td><td><p>Air temperature data source.</p></td></tr><tr><td>DATA_SOURCE_ELEVATION</td><td>STRING</td><td><p>Elevation data source.</p></td></tr><tr><td>DATA_SOURCE_OZONE</td><td>STRING</td><td><p>Ozone data source.</p></td></tr><tr><td>DATA_SOURCE_PRESSURE</td><td>STRING</td><td><p>Pressure data source.</p></td></tr><tr><td>DATA_SOURCE_REANALYSIS</td><td>STRING</td><td><p>Reanalysis data source.</p></td></tr><tr><td>DATA_SOURCE_TIRS_STRAY_LIGHT_CORRECTION</td><td>STRING</td><td><p>TIRS stray light correction data source.</p></td></tr><tr><td>DATA_SOURCE_WATER_VAPOR</td><td>STRING</td><td><p>Water vapor data source.</p></td></tr><tr><td>DATE_PRODUCT_GENERATED</td><td>DOUBLE</td><td><p>Timestamp of the date when the product was generated.</p></td></tr><tr><td>EARTH_SUN_DISTANCE</td><td>DOUBLE</td><td><p>Earth-Sun distance (AU).</p></td></tr><tr><td>EPHEMERIS_TYPE</td><td>STRING</td><td><p>Identifier to inform the user of the orbital ephemeris type used:\\n&quot;DEFINITIVE&quot; or &quot;PREDICTIVE&quot;. If the field is not present, the user should\\nassume &quot;PREDICTIVE&quot;.</p></td></tr><tr><td>GEOMETRIC_RMSE_MODEL</td><td>DOUBLE</td><td><p>Combined RMSE (Root Mean Square Error) of the geometric\\nresiduals (meters) in both across-track and along-track\\ndirections.</p></td></tr><tr><td>GEOMETRIC_RMSE_MODEL_X</td><td>DOUBLE</td><td><p>RMSE (Root Mean Square Error) of the geometric residuals (meters)\\nmeasured on the GCPs (Ground Control Points) used in geometric\\nprecision correction in the across-track direction.</p></td></tr><tr><td>GEOMETRIC_RMSE_MODEL_Y</td><td>DOUBLE</td><td><p>RMSE (Root Mean Square Error) of the geometric residuals (meters)\\nmeasured on the GCPs (Ground Control Points) used in geometric\\nprecision correction in the along-track direction.</p></td></tr><tr><td>GEOMETRIC_RMSE_VERIFY</td><td>DOUBLE</td><td><p>RMSE of the geometric residuals (meters) measured on the\\nterrain-corrected product independently using GLS2000.</p></td></tr><tr><td>GROUND_CONTROL_POINTS_MODEL</td><td>DOUBLE</td><td><p>Number of GCPs used in the precision correction process.\\nThis parameter is only present if the PROCESSING_LEVEL is L1TP.</p></td></tr><tr><td>GROUND_CONTROL_POINTS_VERIFY</td><td>DOUBLE</td><td><p>Number of GCPs (Ground Control Points) used in the verification\\nof the terrain corrected product.</p></td></tr><tr><td>GROUND_CONTROL_POINTS_VERSION</td><td>DOUBLE</td><td><p>GCP dataset version used in the precision correction process. This\\nparameter is only present if the PROCESSING_LEVEL is L1TP.</p></td></tr><tr><td>IMAGE_QUALITY_OLI</td><td>INT</td><td><p>Image quality of the OLI bands.\\n1 = worst, 9 = best, 0 = quality not calculated.\\nFor Landsat 8, this parameter is adjusted downward for\\nscenes collected using the lower 12 bits from the OLI sensor\\n(TRUNCATION_OLI = &quot;LOWER&quot;).</p></td></tr><tr><td>IMAGE_QUALITY_TIRS</td><td>INT</td><td><p>Image quality of the TIRS bands.\\n1 = worst, 9 = best, 0 = quality not calculated.\\nIt is also adjusted downward for scenes processed with\\n&quot;SWITCHED&quot; for the TIRS_SSM_POSITION_STATUS value.</p></td></tr><tr><td>L1_DATE_PRODUCT_GENERATED</td><td>STRING</td><td><p>Product generation date for the corresponding L1 product.</p></td></tr><tr><td>L1_LANDSAT_PRODUCT_ID</td><td>STRING</td><td><p>Landsat Product Identifier for the corresponding L1 product.</p></td></tr><tr><td>L1_PROCESSING_LEVEL</td><td>STRING</td><td><p>Processing Level for the corresponding L1 product.</p></td></tr><tr><td>L1_PROCESSING_SOFTWARE_VERSION</td><td>STRING</td><td><p>Processing software version for the corresponding L1 product.</p></td></tr><tr><td>LANDSAT_PRODUCT_ID</td><td>STRING</td><td><p>Landsat Product Identifier</p></td></tr><tr><td>LANDSAT_SCENE_ID</td><td>STRING</td><td><p>Short Landsat Scene Identifier</p></td></tr><tr><td>PROCESSING_LEVEL</td><td>STRING</td><td><p>&quot;L2SP&quot; when both SR and LST bands are present, or &quot;L2SR&quot; when only\\nSR bands are present.</p></td></tr><tr><td>PROCESSING_SOFTWARE_VERSION</td><td>STRING</td><td><p>The processing software version that created the product.</p></td></tr><tr><td>ROLL_ANGLE</td><td>DOUBLE</td><td><p>The amount of spacecraft roll angle at the scene center. The roll value is\\ngiven in the Yaw Steering Frame (YSF) reference, whose x-axis is\\naligned with the instantaneous ground track velocity vector. Rolls about\\nthis x-axis go by the right-hand rule: a positive roll results in the\\ninstruments pointing to the left of the ground track, while a negative\\nroll results in the instrument pointing to the right.</p></td></tr><tr><td>SCENE_CENTER_TIME</td><td>STRING</td><td><p>Time of the observations as in ISO 8601 string.</p></td></tr><tr><td>SENSOR_ID</td><td>STRING</td><td><p>Name of the sensor.</p></td></tr><tr><td>SPACECRAFT_ID</td><td>STRING</td><td><p>Name of the spacecraft.</p></td></tr><tr><td>SUN_AZIMUTH</td><td>DOUBLE</td><td><p>Sun azimuth angle in degrees for the image center location at the\\nimage center acquisition time. A positive value indicates angles to the\\neast or clockwise from the north. A negative value indicates angles to\\nthe west or counterclockwise from the north.</p></td></tr><tr><td>SUN_ELEVATION</td><td>DOUBLE</td><td><p>Sun elevation angle in degrees for the image center location at the\\nimage center acquisition time. A positive value indicates a daytime\\nscene. A negative value indicates a nighttime scene.\\nNote: For reflectance calculation, the sun zenith angle is needed,\\nwhich is 90 - sun elevation angle.</p></td></tr><tr><td>TARGET_WRS_PATH</td><td>INT</td><td><p>Nearest WRS-2 path to the Line-ofSight (LOS) scene center of the image.</p></td></tr><tr><td>TARGET_WRS_ROW</td><td>INT</td><td><p>Nearest WRS-2 row to the LOS scene center of the image. Rows 880-889\\nare reserved for the north pole and 990-999 are reserved for the south\\npole, where WRS-2 is not defined.</p></td></tr><tr><td>TEMPERATURE_MAXIMUM_BAND_ST_B10</td><td>DOUBLE</td><td><p>Maximum achievable temperature value for Band 10.</p></td></tr><tr><td>TEMPERATURE_MINIMUM_BAND_ST_B10</td><td>DOUBLE</td><td><p>Minimum achievable temperature value for Band 10.</p></td></tr><tr><td>TIRS_SSM_MODEL</td><td>STRING</td><td><p>Indicates how the Landsat 8 TIRS Scene Select Mirror (SSM) position\\nwas determined.</p><ul><li><p>&quot;FINAL&quot; indicates final estimated encoder values generated after\\nthe switch event.</p></li><li><p>&quot;ACTUAL&quot; indicates actual encoder values.</p></li></ul></td></tr><tr><td>TIRS_SSM_POSITION_STATUS</td><td>STRING</td><td><ul><li><p>&quot;NOMINAL&quot; indicates the SSM was functioning normally for this scene.</p></li><li><p>&quot;SWITCHED&quot; indicates the SSM switched operating modes in the scene and\\nmay have TIRS image quality issues, which directly impact the\\nIMAGE_QUALITY_TIRS value.</p></li><li><p>&quot;ESTIMATED&quot; indicates the SSM position was estimated, which may not be\\nas accurate as the &quot;NOMINAL&quot; status.</p></li></ul></td></tr><tr><td>TRUNCATION_OLI</td><td>STRING</td><td><ul><li><p>&quot;LOWER&quot; indicates that the lower 12 bits were used.</p></li><li><p>&quot;UPPER&quot; indicates the upper 12 bits were used.</p></li></ul><p>The normal truncation mode is &quot;UPPER&quot;.</p></td></tr><tr><td>WRS_PATH</td><td>INT</td><td><p>WRS path number of scene.</p></td></tr><tr><td>WRS_ROW</td><td>INT</td><td><p>WRS row number of scene.</p></td></tr></table><p><b>Terms of Use</b><br><p>Landsat datasets are federally created data\\nand therefore reside in the public domain and may be used, transferred, or reproduced without copyright restriction.</p><p>Acknowledgement or credit of the USGS as data source should be provided\\nby including a line of text citation such as the example shown below.</p><p>(Product, Image, Photograph, or Dataset Name) courtesy of\\nthe U.S. Geological Survey</p><p>Example: Landsat-7 image courtesy of the U.S. Geological Survey</p><p>See the\\n<a href=\"https://www.usgs.gov/information-policies-and-instructions/usgs-visual-identity-system\">USGS Visual Identity System Guidance</a>\\nfor further details on proper citation and acknowledgement of USGS products.</p><style>\\n  table.eecat {\\n  border: 1px solid black;\\n  border-collapse: collapse;\\n  font-size: 13px;\\n  }\\n  table.eecat td, tr, th {\\n  text-align: left; vertical-align: top;\\n  border: 1px solid gray; padding: 3px;\\n  }\\n  td.nobreak { white-space: nowrap; }\\n</style>', 'source_tags': ['landsat', 'usgs'], 'visualization_1_name': 'Near Infrared (543)', 'visualization_0_max': '30000.0', 'title': 'USGS Landsat 8 Level 2, Collection 2, Tier 1', 'product_tags': ['global', 'sr', 'reflectance', 'l8sr', 'lst', 'cloud', 'lasrc', 'fmask', 'cfmask', 'lc08'], 'provider': 'USGS', 'visualization_1_min': '0.0', 'visualization_0_min': '0.0', 'visualization_0_name': 'True Color (432)', 'date_range': [1365638400000, 1654560000000], 'visualization_2_bands': 'SR_B7,SR_B5,SR_B3', 'visualization_2_name': 'Shortwave Infrared (753)', 'period': 0, 'visualization_2_min': '0.0', 'provider_url': 'https://www.usgs.gov/core-science-systems/nli/landsat/landsat-collection-2-level-2-science-products', 'sample': 'https://mw1.google.com/ges/dd/images/LANDSAT_SR_sample.png', 'tags': ['cfmask', 'cloud', 'fmask', 'global', 'l8sr', 'landsat', 'lasrc', 'lst', 'reflectance', 'sr', 'usgs'], 'visualization_2_max': '30000.0', 'visualization_0_bands': 'SR_B4,SR_B3,SR_B2'}, 'features': [{'type': 'Image', 'bands': [{'id': 'SR_B1', 'data_type': {'type': 'PixelType', 'precision': 'int', 'min': 0, 'max': 65535}, 'dimensions': [7591, 7721], 'crs': 'EPSG:32610', 'crs_transform': [30, 0, 598185, 0, -30, 4265415]}, {'id': 'SR_B2', 'data_type': {'type': 'PixelType', 'precision': 'int', 'min': 0, 'max': 65535}, 'dimensions': [7591, 7721], 'crs': 'EPSG:32610', 'crs_transform': [30, 0, 598185, 0, -30, 4265415]}, {'id': 'SR_B3', 'data_type': {'type': 'PixelType', 'precision': 'int', 'min': 0, 'max': 65535}, 'dimensions': [7591, 7721], 'crs': 'EPSG:32610', 'crs_transform': [30, 0, 598185, 0, -30, 4265415]}, {'id': 'SR_B4', 'data_type': {'type': 'PixelType', 'precision': 'int', 'min': 0, 'max': 65535}, 'dimensions': [7591, 7721], 'crs': 'EPSG:32610', 'crs_transform': [30, 0, 598185, 0, -30, 4265415]}, {'id': 'SR_B5', 'data_type': {'type': 'PixelType', 'precision': 'int', 'min': 0, 'max': 65535}, 'dimensions': [7591, 7721], 'crs': 'EPSG:32610', 'crs_transform': [30, 0, 598185, 0, -30, 4265415]}, {'id': 'SR_B6', 'data_type': {'type': 'PixelType', 'precision': 'int', 'min': 0, 'max': 65535}, 'dimensions': [7591, 7721], 'crs': 'EPSG:32610', 'crs_transform': [30, 0, 598185, 0, -30, 4265415]}, {'id': 'SR_B7', 'data_type': {'type': 'PixelType', 'precision': 'int', 'min': 0, 'max': 65535}, 'dimensions': [7591, 7721], 'crs': 'EPSG:32610', 'crs_transform': [30, 0, 598185, 0, -30, 4265415]}, {'id': 'SR_QA_AEROSOL', 'data_type': {'type': 'PixelType', 'precision': 'int', 'min': 0, 'max': 255}, 'dimensions': [7591, 7721], 'crs': 'EPSG:32610', 'crs_transform': [30, 0, 598185, 0, -30, 4265415]}, {'id': 'ST_B10', 'data_type': {'type': 'PixelType', 'precision': 'int', 'min': 0, 'max': 65535}, 'dimensions': [7591, 7721], 'crs': 'EPSG:32610', 'crs_transform': [30, 0, 598185, 0, -30, 4265415]}, {'id': 'ST_ATRAN', 'data_type': {'type': 'PixelType', 'precision': 'int', 'min': -32768, 'max': 32767}, 'dimensions': [7591, 7721], 'crs': 'EPSG:32610', 'crs_transform': [30, 0, 598185, 0, -30, 4265415]}, {'id': 'ST_CDIST', 'data_type': {'type': 'PixelType', 'precision': 'int', 'min': -32768, 'max': 32767}, 'dimensions': [7591, 7721], 'crs': 'EPSG:32610', 'crs_transform': [30, 0, 598185, 0, -30, 4265415]}, {'id': 'ST_DRAD', 'data_type': {'type': 'PixelType', 'precision': 'int', 'min': -32768, 'max': 32767}, 'dimensions': [7591, 7721], 'crs': 'EPSG:32610', 'crs_transform': [30, 0, 598185, 0, -30, 4265415]}, {'id': 'ST_EMIS', 'data_type': {'type': 'PixelType', 'precision': 'int', 'min': -32768, 'max': 32767}, 'dimensions': [7591, 7721], 'crs': 'EPSG:32610', 'crs_transform': [30, 0, 598185, 0, -30, 4265415]}, {'id': 'ST_EMSD', 'data_type': {'type': 'PixelType', 'precision': 'int', 'min': -32768, 'max': 32767}, 'dimensions': [7591, 7721], 'crs': 'EPSG:32610', 'crs_transform': [30, 0, 598185, 0, -30, 4265415]}, {'id': 'ST_QA', 'data_type': {'type': 'PixelType', 'precision': 'int', 'min': -32768, 'max': 32767}, 'dimensions': [7591, 7721], 'crs': 'EPSG:32610', 'crs_transform': [30, 0, 598185, 0, -30, 4265415]}, {'id': 'ST_TRAD', 'data_type': {'type': 'PixelType', 'precision': 'int', 'min': -32768, 'max': 32767}, 'dimensions': [7591, 7721], 'crs': 'EPSG:32610', 'crs_transform': [30, 0, 598185, 0, -30, 4265415]}, {'id': 'ST_URAD', 'data_type': {'type': 'PixelType', 'precision': 'int', 'min': -32768, 'max': 32767}, 'dimensions': [7591, 7721], 'crs': 'EPSG:32610', 'crs_transform': [30, 0, 598185, 0, -30, 4265415]}, {'id': 'QA_PIXEL', 'data_type': {'type': 'PixelType', 'precision': 'int', 'min': 0, 'max': 65535}, 'dimensions': [7591, 7721], 'crs': 'EPSG:32610', 'crs_transform': [30, 0, 598185, 0, -30, 4265415]}, {'id': 'QA_RADSAT', 'data_type': {'type': 'PixelType', 'precision': 'int', 'min': 0, 'max': 65535}, 'dimensions': [7591, 7721], 'crs': 'EPSG:32610', 'crs_transform': [30, 0, 598185, 0, -30, 4265415]}], 'id': 'LANDSAT/LC08/C02/T1_L2/LC08_043034_20230216', 'version': 1677307963025249, 'properties': {'DATA_SOURCE_ELEVATION': 'GLS2000', 'WRS_TYPE': 2, 'REFLECTANCE_ADD_BAND_1': -0.2, 'REFLECTANCE_ADD_BAND_2': -0.2, 'DATUM': 'WGS84', 'REFLECTANCE_ADD_BAND_3': -0.2, 'REFLECTANCE_ADD_BAND_4': -0.2, 'REFLECTANCE_ADD_BAND_5': -0.2, 'REFLECTANCE_ADD_BAND_6': -0.2, 'REFLECTANCE_ADD_BAND_7': -0.2, 'system:footprint': {'type': 'LinearRing', 'coordinates': [[-121.39004969750333, 38.52283029237008], [-121.39112125748319, 38.5228450134086], [-121.39230070344857, 38.51886234330521], [-121.63792346094527, 37.66559842063162], [-121.87983650288339, 36.803905097817434], [-121.87985456754068, 36.80266149650416], [-120.98811694123593, 36.636512869113304], [-119.96566363710731, 36.4369610922968], [-119.85328589118271, 36.414454118353945], [-119.8527153317377, 36.41530581829146], [-119.84308548297352, 36.446693474513914], [-119.81222855893097, 36.547229672824635], [-119.76800028399553, 36.6909500468284], [-119.75444976470635, 36.734903860834706], [-119.69117502580532, 36.93968865620402], [-119.65979204630692, 37.04125539717743], [-119.61210144103833, 37.19586415346881], [-119.46761776383286, 37.6650316598695], [-119.32100402668479, 38.134128466666], [-119.32242795114229, 38.13455367407465], [-120.2484197658906, 38.31342862642477], [-121.39004969750333, 38.52283029237008]]}, 'REFLECTIVE_SAMPLES': 7591, 'GROUND_CONTROL_POINTS_VERSION': 5, 'SUN_AZIMUTH': 150.72828091, 'DATA_SOURCE_TIRS_STRAY_LIGHT_CORRECTION': 'TIRS', 'UTM_ZONE': 10, 'DATE_ACQUIRED': '2023-02-16', 'ELLIPSOID': 'WGS84', 'system:time_end': 1676572808380, 'DATA_SOURCE_PRESSURE': 'Calculated', 'LANDSAT_PRODUCT_ID': 'LC08_L2SP_043034_20230216_20230223_02_T1', 'STATION_ID': 'LGN', 'TEMPERATURE_ADD_BAND_ST_B10': 149, 'DATA_SOURCE_REANALYSIS': 'GEOS-5 FP-IT', 'REFLECTANCE_MULT_BAND_7': 2.75e-05, 'system:time_start': 1676572808380, 'REFLECTANCE_MULT_BAND_6': 2.75e-05, 'L1_PROCESSING_LEVEL': 'L1TP', 'PROCESSING_SOFTWARE_VERSION': 'LPGS_16.2.0', 'L1_DATE_PRODUCT_GENERATED': '2023-02-23T18:34:28Z', 'ORIENTATION': 'NORTH_UP', 'REFLECTANCE_MULT_BAND_1': 2.75e-05, 'WRS_ROW': 34, 'REFLECTANCE_MULT_BAND_3': 2.75e-05, 'REFLECTANCE_MULT_BAND_2': 2.75e-05, 'TARGET_WRS_ROW': 34, 'REFLECTANCE_MULT_BAND_5': 2.75e-05, 'REFLECTANCE_MULT_BAND_4': 2.75e-05, 'THERMAL_LINES': 7721, 'TIRS_SSM_POSITION_STATUS': 'ESTIMATED', 'GRID_CELL_SIZE_THERMAL': 30, 'IMAGE_QUALITY_TIRS': 9, 'TRUNCATION_OLI': 'UPPER', 'NADIR_OFFNADIR': 'NADIR', 'CLOUD_COVER': 75.84, 'REQUEST_ID': '1641750_00019', 'EARTH_SUN_DISTANCE': 0.9879549, 'GEOMETRIC_RMSE_VERIFY': 3.832, 'TIRS_SSM_MODEL': 'FINAL', 'COLLECTION_CATEGORY': 'T1', 'SCENE_CENTER_TIME': '18:40:08.3800570Z', 'GRID_CELL_SIZE_REFLECTIVE': 30, 'SUN_ELEVATION': 35.39768956, 'ALGORITHM_SOURCE_SURFACE_TEMPERATURE': 'st_1.3.0', 'TEMPERATURE_MAXIMUM_BAND_ST_B10': 372.999941, 'CLOUD_COVER_LAND': 75.88, 'GEOMETRIC_RMSE_MODEL': 8.176, 'ROLL_ANGLE': 0, 'COLLECTION_NUMBER': 2, 'DATE_PRODUCT_GENERATED': 1677178402000, 'L1_REQUEST_ID': '1641750_00019', 'DATA_SOURCE_OZONE': 'MODIS', 'SATURATION_BAND_1': 'N', 'DATA_SOURCE_WATER_VAPOR': 'MODIS', 'SATURATION_BAND_2': 'N', 'SATURATION_BAND_3': 'N', 'IMAGE_QUALITY_OLI': 9, 'SATURATION_BAND_4': 'N', 'LANDSAT_SCENE_ID': 'LC80430342023047LGN00', 'SATURATION_BAND_5': 'N', 'MAP_PROJECTION': 'UTM', 'SATURATION_BAND_6': 'Y', 'SENSOR_ID': 'OLI_TIRS', 'SATURATION_BAND_7': 'Y', 'SATURATION_BAND_8': 'N', 'WRS_PATH': 43, 'SATURATION_BAND_9': 'N', 'TARGET_WRS_PATH': 43, 'L1_PROCESSING_SOFTWARE_VERSION': 'LPGS_16.2.0', 'TEMPERATURE_MULT_BAND_ST_B10': 0.00341802, 'L1_LANDSAT_PRODUCT_ID': 'LC08_L1TP_043034_20230216_20230223_02_T1', 'PROCESSING_LEVEL': 'L2SP', 'ALGORITHM_SOURCE_SURFACE_REFLECTANCE': 'LaSRC_1.5.0', 'GROUND_CONTROL_POINTS_MODEL': 774, 'SPACECRAFT_ID': 'LANDSAT_8', 'TEMPERATURE_MINIMUM_BAND_ST_B10': 149.003418, 'GEOMETRIC_RMSE_MODEL_Y': 6.134, 'REFLECTIVE_LINES': 7721, 'GEOMETRIC_RMSE_MODEL_X': 5.405, 'THERMAL_SAMPLES': 7591, 'system:asset_size': 926540108, 'DATA_SOURCE_AIR_TEMPERATURE': 'MODIS', 'GROUND_CONTROL_POINTS_VERIFY': 198, 'system:index': 'LC08_043034_20230216'}}]}\n",
      "\n"
     ]
    }
   ],
   "source": [
    "# Set start and end date\n",
    "startTime = datetime.datetime(2013,11,15)\n",
    "endTime = datetime.datetime(2014,5,30)\n",
    "\n",
    "# Get the Landsat 8 image collection\n",
    "collection = ee.ImageCollection(\"LANDSAT/LC08/C02/T1_L2\").filterBounds(point)\n",
    "\n",
    "# Limit the collection to the 1 most recent images.\n",
    "recent = collection.sort('system:time_start', False).limit(1)\n",
    "# Pull the image from the collection\n",
    "image = recent.first()\n",
    "\n",
    "print('Recent images: ' + str(recent.getInfo()) + '\\n')"
   ]
  },
  {
   "cell_type": "code",
   "execution_count": 19,
   "id": "18e91b11",
   "metadata": {
    "scrolled": true
   },
   "outputs": [
    {
     "data": {
      "text/html": [
       "<img src=\"https://earthengine.googleapis.com/v1alpha/projects/earthengine-legacy/thumbnails/16252bf39bd2e61697a69d7b57efa6d0-0e70659e205297c116d3a65ffb85fb20:getPixels\"/>"
      ],
      "text/plain": [
       "<IPython.core.display.Image object>"
      ]
     },
     "execution_count": 19,
     "metadata": {},
     "output_type": "execute_result"
    }
   ],
   "source": [
    "# Define the visualization parameters\n",
    "visParams = {'bands': ['SR_B4', 'SR_B3', 'SR_B2'], 'dimensions': 1000}\n",
    "\n",
    "# Create a thumbnail from the image\n",
    "thumbnail = image.getThumbUrl(visParams)\n",
    "\n",
    "# Display the image\n",
    "Image(url=thumbnail)"
   ]
  },
  {
   "cell_type": "code",
   "execution_count": 20,
   "id": "d2cc9955",
   "metadata": {},
   "outputs": [
    {
     "name": "stdout",
     "output_type": "stream",
     "text": [
      "2023-02-16 10:40:08.380000\n"
     ]
    }
   ],
   "source": [
    "# Get the timestamp and convert it to a date.\n",
    "date = ee.Date(image.get('system:time_start')).getInfo()\n",
    "x = date['value']\n",
    "print(datetime.datetime.fromtimestamp(x/1000))"
   ]
  },
  {
   "cell_type": "code",
   "execution_count": 21,
   "id": "3406fa1d",
   "metadata": {},
   "outputs": [
    {
     "name": "stdout",
     "output_type": "stream",
     "text": [
      "CLOUD_COVER = 75.84\n"
     ]
    }
   ],
   "source": [
    "# Estimating the cloud cover\n",
    "target = 'CLOUD_COVER'\n",
    "meta = image.get(target).getInfo()\n",
    "print(f'{target} = {meta}')"
   ]
  },
  {
   "cell_type": "code",
   "execution_count": 22,
   "id": "22b3aaa6",
   "metadata": {},
   "outputs": [],
   "source": [
    "# Getting the lowest cloud coverage as possible\n",
    "sorted = collection.sort('CLOUD_COVERAGE_ASSESSMENT').limit(10)\n",
    "\n",
    "# Get the first (least cloudy) image.\n",
    "image = sorted.first();"
   ]
  },
  {
   "cell_type": "code",
   "execution_count": 23,
   "id": "95c79cdd",
   "metadata": {},
   "outputs": [
    {
     "name": "stdout",
     "output_type": "stream",
     "text": [
      "2013-03-22 11:37:20.760000\n"
     ]
    }
   ],
   "source": [
    "#Get the timestamp and convert it to a date.\n",
    "date = ee.Date(image.get('system:time_start')).getInfo()\n",
    "# print(date['value'])\n",
    "x = date['value']\n",
    "print(datetime.datetime.fromtimestamp(x/1000))"
   ]
  },
  {
   "cell_type": "code",
   "execution_count": 24,
   "id": "7981b9d3",
   "metadata": {},
   "outputs": [
    {
     "data": {
      "text/html": [
       "<img src=\"https://earthengine.googleapis.com/v1alpha/projects/earthengine-legacy/thumbnails/c22d63f55708adf98e023686816f8bcd-43039d2793e2101a55a86e030b754277:getPixels\"/>"
      ],
      "text/plain": [
       "<IPython.core.display.Image object>"
      ]
     },
     "execution_count": 24,
     "metadata": {},
     "output_type": "execute_result"
    }
   ],
   "source": [
    "# Define the visualization parameters\n",
    "visParams = {'bands': ['SR_B4', 'SR_B3', 'SR_B2'], 'dimensions': 1000}\n",
    "\n",
    "# Create a thumbnail from the image\n",
    "thumbnail = image.getThumbUrl(visParams)\n",
    "\n",
    "# Display the image\n",
    "Image(url=thumbnail)"
   ]
  },
  {
   "cell_type": "code",
   "execution_count": 25,
   "id": "d45fd065",
   "metadata": {},
   "outputs": [
    {
     "name": "stdout",
     "output_type": "stream",
     "text": [
      "CLOUD_COVER = 5.3\n"
     ]
    }
   ],
   "source": [
    "# Estimating the cloud cover\n",
    "target = 'CLOUD_COVER'\n",
    "meta = image.get(target).getInfo()\n",
    "print(f'{target} = {meta}')"
   ]
  },
  {
   "cell_type": "markdown",
   "id": "9166e878",
   "metadata": {},
   "source": [
    "#### Calculating NDVI"
   ]
  },
  {
   "cell_type": "code",
   "execution_count": 26,
   "id": "caa846d2",
   "metadata": {},
   "outputs": [
    {
     "data": {
      "text/html": [
       "<img src=\"https://earthengine.googleapis.com/v1alpha/projects/earthengine-legacy/thumbnails/0746cf2a9999ab2e0085f3276d3b86dd-491ebf496af1618039e25e787340cc39:getPixels\"/>"
      ],
      "text/plain": [
       "<IPython.core.display.Image object>"
      ]
     },
     "execution_count": 26,
     "metadata": {},
     "output_type": "execute_result"
    }
   ],
   "source": [
    "# Run the Landsat 8 NDVI function\n",
    "l8ndvi = l8NDVI(image)\n",
    "\n",
    "# Change visualization setting for the NDVI data\n",
    "visParams = {'min':0, 'max': 1, 'dimensions':1000}\n",
    "thumbnail = l8ndvi.getThumbUrl(visParams)\n",
    "Image(url = thumbnail)"
   ]
  },
  {
   "cell_type": "markdown",
   "id": "09256dee",
   "metadata": {},
   "source": [
    "#### Interactive NDVI graph"
   ]
  },
  {
   "cell_type": "code",
   "execution_count": 27,
   "id": "94794577",
   "metadata": {},
   "outputs": [
    {
     "data": {
      "application/vnd.jupyter.widget-view+json": {
       "model_id": "555c54163d4640b1a0d95e3562c6c83f",
       "version_major": 2,
       "version_minor": 0
      },
      "text/plain": [
       "Map(center=[37.824, -119.634], controls=(WidgetControl(options=['position', 'transparent_bg'], widget=HBox(chi…"
      ]
     },
     "metadata": {},
     "output_type": "display_data"
    }
   ],
   "source": [
    "# Visualization settings\n",
    "rgbParams = {'bands': ['SR_B4', 'SR_B3', 'SR_B2'], 'max': 3000, 'gamma': [1.4, 1.2, 1.4]}\n",
    "ndviParams = {'min':0, 'max': 1}\n",
    "\n",
    "# Create the map\n",
    "Map = geemap.Map(location = coords[::-1], zoom = 12)\n",
    "\n",
    "# Add a marker to show the location\n",
    "Map.add_marker(coords[::-1])\n",
    "\n",
    "# Add the Landsat 8 image to the map\n",
    "Map.addLayer(image, rgbParams, 'Natural Color Landsat 8');\n",
    "\n",
    "# Add the NDVI image to the map\n",
    "Map.addLayer(l8ndvi, ndviParams, 'NDVI')\n",
    "\n",
    "# Add layer control\n",
    "Map.addLayerControl()\n",
    "\n",
    "# Display the map\n",
    "Map"
   ]
  },
  {
   "cell_type": "markdown",
   "id": "09b3fb18",
   "metadata": {},
   "source": [
    "# Time Period: After Fire and its NDVI Analysis¶"
   ]
  },
  {
   "cell_type": "code",
   "execution_count": 32,
   "id": "673c726f",
   "metadata": {},
   "outputs": [
    {
     "name": "stdout",
     "output_type": "stream",
     "text": [
      "Recent images: {'type': 'ImageCollection', 'bands': [{'id': 'B1', 'data_type': {'type': 'PixelType', 'precision': 'int', 'min': 0, 'max': 65535}}, {'id': 'B2', 'data_type': {'type': 'PixelType', 'precision': 'int', 'min': 0, 'max': 65535}}, {'id': 'B3', 'data_type': {'type': 'PixelType', 'precision': 'int', 'min': 0, 'max': 65535}}, {'id': 'B4', 'data_type': {'type': 'PixelType', 'precision': 'int', 'min': 0, 'max': 65535}}, {'id': 'B5', 'data_type': {'type': 'PixelType', 'precision': 'int', 'min': 0, 'max': 65535}}, {'id': 'B6', 'data_type': {'type': 'PixelType', 'precision': 'int', 'min': 0, 'max': 65535}}, {'id': 'B7', 'data_type': {'type': 'PixelType', 'precision': 'int', 'min': 0, 'max': 65535}}, {'id': 'B8', 'data_type': {'type': 'PixelType', 'precision': 'int', 'min': 0, 'max': 65535}}, {'id': 'B8A', 'data_type': {'type': 'PixelType', 'precision': 'int', 'min': 0, 'max': 65535}}, {'id': 'B9', 'data_type': {'type': 'PixelType', 'precision': 'int', 'min': 0, 'max': 65535}}, {'id': 'B11', 'data_type': {'type': 'PixelType', 'precision': 'int', 'min': 0, 'max': 65535}}, {'id': 'B12', 'data_type': {'type': 'PixelType', 'precision': 'int', 'min': 0, 'max': 65535}}, {'id': 'AOT', 'data_type': {'type': 'PixelType', 'precision': 'int', 'min': 0, 'max': 65535}}, {'id': 'WVP', 'data_type': {'type': 'PixelType', 'precision': 'int', 'min': 0, 'max': 65535}}, {'id': 'SCL', 'data_type': {'type': 'PixelType', 'precision': 'int', 'min': 0, 'max': 255}}, {'id': 'TCI_R', 'data_type': {'type': 'PixelType', 'precision': 'int', 'min': 0, 'max': 255}}, {'id': 'TCI_G', 'data_type': {'type': 'PixelType', 'precision': 'int', 'min': 0, 'max': 255}}, {'id': 'TCI_B', 'data_type': {'type': 'PixelType', 'precision': 'int', 'min': 0, 'max': 255}}, {'id': 'MSK_CLDPRB', 'data_type': {'type': 'PixelType', 'precision': 'int', 'min': 0, 'max': 255}}, {'id': 'MSK_SNWPRB', 'data_type': {'type': 'PixelType', 'precision': 'int', 'min': 0, 'max': 255}}, {'id': 'QA10', 'data_type': {'type': 'PixelType', 'precision': 'int', 'min': 0, 'max': 65535}}, {'id': 'QA20', 'data_type': {'type': 'PixelType', 'precision': 'int', 'min': 0, 'max': 4294967295}}, {'id': 'QA60', 'data_type': {'type': 'PixelType', 'precision': 'int', 'min': 0, 'max': 65535}}], 'id': 'COPERNICUS/S2_SR_HARMONIZED', 'version': 1678580648579539, 'properties': {'date_range': [1490659200000, 1647907200000], 'period': 0, 'system:visualization_0_min': '0.0', 'type_name': 'ImageCollection', 'keywords': ['copernicus', 'esa', 'eu', 'msi', 'reflectance', 'sentinel', 'sr'], 'system:visualization_0_bands': 'B4,B3,B2', 'thumb': 'https://mw1.google.com/ges/dd/images/COPERNICUS_S2_SR_thumb.png', 'description': '<p>Sentinel-2 is a wide-swath, high-resolution, multi-spectral\\nimaging mission supporting Copernicus Land Monitoring studies,\\nincluding the monitoring of vegetation, soil and water cover,\\nas well as observation of inland waterways and coastal areas.</p><p>The Sentinel-2 L2 data are downloaded from scihub. They were\\ncomputed by running sen2cor. WARNING: ESA did not produce L2 data\\nfor all L1 assets, and earlier L2 coverage is not global.</p><p>The assets contain\\n12 UINT16 spectral bands representing SR scaled by 10000 (unlike in L1 data,\\nthere is no B10). There are also several more L2-specific bands (see band\\nlist for details). See the\\n<a href=\"https://sentinel.esa.int/documents/247904/685211/Sentinel-2_User_Handbook\">Sentinel-2 User Handbook</a>\\nfor details. In addition, three QA bands are present where one\\n(QA60) is a bitmask band with cloud mask information. For more\\ndetails, <a href=\"https://sentinel.esa.int/web/sentinel/technical-guides/sentinel-2-msi/level-1c/cloud-masks\">see the full explanation of how cloud masks are computed.</a></p><p>EE asset ids for Sentinel-2 L2 assets have the following format:\\nCOPERNICUS/S2_SR/20151128T002653_20151128T102149_T56MNN. Here the\\nfirst numeric part represents the sensing date and time, the\\nsecond numeric part represents the product generation date and\\ntime, and the final 6-character string is a unique granule identifier\\nindicating its UTM grid reference (see <a href=\"https://en.wikipedia.org/wiki/Military_Grid_Reference_System\">MGRS</a>).</p><p>Clouds can be removed by using\\n<a href=\"COPERNICUS_S2_CLOUD_PROBABILITY\">COPERNICUS/S2_CLOUD_PROBABILITY</a>.\\nSee\\n<a href=\"https://developers.google.com/earth-engine/tutorials/community/sentinel-2-s2cloudless\">this tutorial</a>\\nexplaining how to apply the cloud mask.</p><p>For more details on Sentinel-2 radiometric resolution, <a href=\"https://earth.esa.int/web/sentinel/user-guides/sentinel-2-msi/resolutions/radiometric\">see this page</a>.</p><p><b>Provider: <a href=\"https://earth.esa.int/web/sentinel/user-guides/sentinel-2-msi/product-types/level-2a\">European Union/ESA/Copernicus</a></b><br><p><b>Revisit Interval</b><br>\\n  5 days\\n</p><p><b>Bands</b><table class=\"eecat\"><tr><th scope=\"col\">Name</th><th scope=\"col\">Description</th></tr><tr><td>B1</td><td><p>Aerosols</p></td></tr><tr><td>B2</td><td><p>Blue</p></td></tr><tr><td>B3</td><td><p>Green</p></td></tr><tr><td>B4</td><td><p>Red</p></td></tr><tr><td>B5</td><td><p>Red Edge 1</p></td></tr><tr><td>B6</td><td><p>Red Edge 2</p></td></tr><tr><td>B7</td><td><p>Red Edge 3</p></td></tr><tr><td>B8</td><td><p>NIR</p></td></tr><tr><td>B8A</td><td><p>Red Edge 4</p></td></tr><tr><td>B9</td><td><p>Water vapor</p></td></tr><tr><td>B11</td><td><p>SWIR 1</p></td></tr><tr><td>B12</td><td><p>SWIR 2</p></td></tr><tr><td>AOT</td><td><p>Aerosol Optical Thickness</p></td></tr><tr><td>WVP</td><td><p>Water Vapor Pressure. The height the water would occupy if the vapor were condensed into\\nliquid and spread evenly across the column.</p></td></tr><tr><td>SCL</td><td><p>Scene Classification Map (The &quot;No Data&quot; value of 0 is masked out)</p></td></tr><tr><td>TCI_R</td><td><p>True Color Image, Red channel</p></td></tr><tr><td>TCI_G</td><td><p>True Color Image, Green channel</p></td></tr><tr><td>TCI_B</td><td><p>True Color Image, Blue channel</p></td></tr><tr><td>MSK_CLDPRB</td><td><p>Cloud Probability Map (missing in some products)</p></td></tr><tr><td>MSK_SNWPRB</td><td><p>Snow Probability Map (missing in some products)</p></td></tr><tr><td>QA10</td><td><p>Always empty</p></td></tr><tr><td>QA20</td><td><p>Always empty</p></td></tr><tr><td>QA60</td><td><p>Cloud mask</p></td></tr><tr><td colspan=100>\\n      Bitmask for QA60\\n<ul><li>\\n          Bit 10: Opaque clouds\\n<ul><li>0: No opaque clouds</li><li>1: Opaque clouds present</li></ul></li><li>\\n          Bit 11: Cirrus clouds\\n<ul><li>0: No cirrus clouds</li><li>1: Cirrus clouds present</li></ul></li></ul></td></tr></table><p><b>Image Properties</b><table class=\"eecat\"><tr><th scope=\"col\">Name</th><th scope=\"col\">Type</th><th scope=\"col\">Description</th></tr><tr><td>AOT_RETRIEVAL_ACCURACY</td><td>DOUBLE</td><td><p>Accuracy of Aerosol Optical thickness model</p></td></tr><tr><td>CLOUDY_PIXEL_PERCENTAGE</td><td>DOUBLE</td><td><p>Granule-specific cloudy pixel percentage taken from the original metadata</p></td></tr><tr><td>CLOUD_COVERAGE_ASSESSMENT</td><td>DOUBLE</td><td><p>Cloudy pixel percentage for the whole archive that\\ncontains this granule. Taken from the original metadata</p></td></tr><tr><td>CLOUDY_SHADOW_PERCENTAGE</td><td>DOUBLE</td><td><p>Percentage of pixels classified as cloud shadow</p></td></tr><tr><td>DARK_FEATURES_PERCENTAGE</td><td>DOUBLE</td><td><p>Percentage of pixels classified as dark features or shadows</p></td></tr><tr><td>DATASTRIP_ID</td><td>STRING</td><td><p>Unique identifier of the datastrip Product Data Item (PDI)</p></td></tr><tr><td>DATATAKE_IDENTIFIER</td><td>STRING</td><td><p>Uniquely identifies a given Datatake. The ID contains\\nthe Sentinel-2 satellite, start date and time, absolute orbit\\nnumber, and processing baseline.</p></td></tr><tr><td>DATATAKE_TYPE</td><td>STRING</td><td><p>MSI operation mode</p></td></tr><tr><td>DEGRADED_MSI_DATA_PERCENTAGE</td><td>DOUBLE</td><td><p>Percentage of degraded MSI and ancillary data</p></td></tr><tr><td>FORMAT_CORRECTNESS</td><td>STRING</td><td><p>Synthesis of the On-Line Quality Control (OLQC) checks\\nperformed at granule (Product_Syntax) and datastrip (Product\\nSyntax and DS_Consistency) levels</p></td></tr><tr><td>GENERAL_QUALITY</td><td>STRING</td><td><p>Synthesis of the OLQC checks performed at the datastrip level (Relative_Orbit_Number)</p></td></tr><tr><td>GENERATION_TIME</td><td>DOUBLE</td><td><p>Product generation time</p></td></tr><tr><td>GEOMETRIC_QUALITY</td><td>STRING</td><td><p>Synthesis of the OLQC checks performed at the datastrip level (Attitude_Quality_Indicator)</p></td></tr><tr><td>GRANULE_ID</td><td>STRING</td><td><p>Unique identifier of the granule PDI (PDI_ID)</p></td></tr><tr><td>HIGH_PROBA_CLOUDS_PERCENTAGE</td><td>DOUBLE</td><td><p>Percentage of pixels classified as high probability clouds</p></td></tr><tr><td>MEAN_INCIDENCE_AZIMUTH_ANGLE_B1</td><td>DOUBLE</td><td><p>Mean value containing viewing incidence azimuth angle average for band B1 and for all detectors</p></td></tr><tr><td>MEAN_INCIDENCE_AZIMUTH_ANGLE_B2</td><td>DOUBLE</td><td><p>Mean value containing viewing incidence azimuth angle average for band B2 and for all detectors</p></td></tr><tr><td>MEAN_INCIDENCE_AZIMUTH_ANGLE_B3</td><td>DOUBLE</td><td><p>Mean value containing viewing incidence azimuth angle average for band B3 and for all detectors</p></td></tr><tr><td>MEAN_INCIDENCE_AZIMUTH_ANGLE_B4</td><td>DOUBLE</td><td><p>Mean value containing viewing incidence azimuth angle average for band B4 and for all detectors</p></td></tr><tr><td>MEAN_INCIDENCE_AZIMUTH_ANGLE_B5</td><td>DOUBLE</td><td><p>Mean value containing viewing incidence azimuth angle average for band B5 and for all detectors</p></td></tr><tr><td>MEAN_INCIDENCE_AZIMUTH_ANGLE_B6</td><td>DOUBLE</td><td><p>Mean value containing viewing incidence azimuth angle average for band B6 and for all detectors</p></td></tr><tr><td>MEAN_INCIDENCE_AZIMUTH_ANGLE_B7</td><td>DOUBLE</td><td><p>Mean value containing viewing incidence azimuth angle average for band B7 and for all detectors</p></td></tr><tr><td>MEAN_INCIDENCE_AZIMUTH_ANGLE_B8</td><td>DOUBLE</td><td><p>Mean value containing viewing incidence azimuth angle average for band B8 and for all detectors</p></td></tr><tr><td>MEAN_INCIDENCE_AZIMUTH_ANGLE_B8A</td><td>DOUBLE</td><td><p>Mean value containing viewing incidence azimuth angle average for band B8a and for all detectors</p></td></tr><tr><td>MEAN_INCIDENCE_AZIMUTH_ANGLE_B9</td><td>DOUBLE</td><td><p>Mean value containing viewing incidence azimuth angle average for band B9 and for all detectors</p></td></tr><tr><td>MEAN_INCIDENCE_AZIMUTH_ANGLE_B10</td><td>DOUBLE</td><td><p>Mean value containing viewing incidence azimuth angle average for band B10 and for all detectors</p></td></tr><tr><td>MEAN_INCIDENCE_AZIMUTH_ANGLE_B11</td><td>DOUBLE</td><td><p>Mean value containing viewing incidence azimuth angle average for band B11 and for all detectors</p></td></tr><tr><td>MEAN_INCIDENCE_AZIMUTH_ANGLE_B12</td><td>DOUBLE</td><td><p>Mean value containing viewing incidence azimuth angle average for band B12 and for all detectors</p></td></tr><tr><td>MEAN_INCIDENCE_ZENITH_ANGLE_B1</td><td>DOUBLE</td><td><p>Mean value containing viewing incidence zenith angle average for band B1 and for all detectors</p></td></tr><tr><td>MEAN_INCIDENCE_ZENITH_ANGLE_B2</td><td>DOUBLE</td><td><p>Mean value containing viewing incidence zenith angle average for band B2 and for all detectors</p></td></tr><tr><td>MEAN_INCIDENCE_ZENITH_ANGLE_B3</td><td>DOUBLE</td><td><p>Mean value containing viewing incidence zenith angle average for band B3 and for all detectors</p></td></tr><tr><td>MEAN_INCIDENCE_ZENITH_ANGLE_B4</td><td>DOUBLE</td><td><p>Mean value containing viewing incidence zenith angle average for band B4 and for all detectors</p></td></tr><tr><td>MEAN_INCIDENCE_ZENITH_ANGLE_B5</td><td>DOUBLE</td><td><p>Mean value containing viewing incidence zenith angle average for band B5 and for all detectors</p></td></tr><tr><td>MEAN_INCIDENCE_ZENITH_ANGLE_B6</td><td>DOUBLE</td><td><p>Mean value containing viewing incidence zenith angle average for band B6 and for all detectors</p></td></tr><tr><td>MEAN_INCIDENCE_ZENITH_ANGLE_B7</td><td>DOUBLE</td><td><p>Mean value containing viewing incidence zenith angle average for band B7 and for all detectors</p></td></tr><tr><td>MEAN_INCIDENCE_ZENITH_ANGLE_B8</td><td>DOUBLE</td><td><p>Mean value containing viewing incidence zenith angle average for band B8 and for all detectors</p></td></tr><tr><td>MEAN_INCIDENCE_ZENITH_ANGLE_B8A</td><td>DOUBLE</td><td><p>Mean value containing viewing incidence zenith angle average for band B8a and for all detectors</p></td></tr><tr><td>MEAN_INCIDENCE_ZENITH_ANGLE_B9</td><td>DOUBLE</td><td><p>Mean value containing viewing incidence zenith angle average for band B9 and for all detectors</p></td></tr><tr><td>MEAN_INCIDENCE_ZENITH_ANGLE_B10</td><td>DOUBLE</td><td><p>Mean value containing viewing incidence zenith angle average for band B10 and for all detectors</p></td></tr><tr><td>MEAN_INCIDENCE_ZENITH_ANGLE_B11</td><td>DOUBLE</td><td><p>Mean value containing viewing incidence zenith angle average for band B11 and for all detectors</p></td></tr><tr><td>MEAN_INCIDENCE_ZENITH_ANGLE_B12</td><td>DOUBLE</td><td><p>Mean value containing viewing incidence zenith angle average for band B12 and for all detectors</p></td></tr><tr><td>MEAN_SOLAR_AZIMUTH_ANGLE</td><td>DOUBLE</td><td><p>Mean value containing sun azimuth angle average for all bands and detectors</p></td></tr><tr><td>MEAN_SOLAR_ZENITH_ANGLE</td><td>DOUBLE</td><td><p>Mean value containing sun zenith angle average for all bands and detectors</p></td></tr><tr><td>MEDIUM_PROBA_CLOUDS_PERCENTAGE</td><td>DOUBLE</td><td><p>Percentage of pixels classified as medium probability clouds</p></td></tr><tr><td>MGRS_TILE</td><td>STRING</td><td><p>US-Military Grid Reference System (MGRS) tile</p></td></tr><tr><td>NODATA_PIXEL_PERCENTAGE</td><td>DOUBLE</td><td><p>Percentage of No Data pixels</p></td></tr><tr><td>NOT_VEGETATED_PERCENTAGE</td><td>DOUBLE</td><td><p>Percentage of pixels classified as non-vegetated</p></td></tr><tr><td>PROCESSING_BASELINE</td><td>STRING</td><td><p>Configuration baseline used at the time of the product\\ngeneration in terms of processor software version and major Ground\\nImage Processing Parameters (GIPP) version</p></td></tr><tr><td>PRODUCT_ID</td><td>STRING</td><td><p>The full id of the original Sentinel-2 product</p></td></tr><tr><td>RADIATIVE_TRANSFER_ACCURACY</td><td>DOUBLE</td><td><p>Accuracy of radiative transfer model</p></td></tr><tr><td>RADIOMETRIC_QUALITY</td><td>STRING</td><td><p>Based on the OLQC reports contained in the Datastrips/QI_DATA with RADIOMETRIC_QUALITY checklist name</p></td></tr><tr><td>REFLECTANCE_CONVERSION_CORRECTION</td><td>DOUBLE</td><td><p>Earth-Sun distance correction factor</p></td></tr><tr><td>SATURATED_DEFECTIVE_PIXEL_PERCENTAGE</td><td>DOUBLE</td><td><p>Percentage of saturated or defective pixels</p></td></tr><tr><td>SENSING_ORBIT_DIRECTION</td><td>STRING</td><td><p>Imaging orbit direction</p></td></tr><tr><td>SENSING_ORBIT_NUMBER</td><td>DOUBLE</td><td><p>Imaging orbit number</p></td></tr><tr><td>SENSOR_QUALITY</td><td>STRING</td><td><p>Synthesis of the OLQC checks performed at granule\\n(Missing_Lines, Corrupted_ISP, and Sensing_Time) and datastrip\\n(Degraded_SAD and Datation_Model) levels</p></td></tr><tr><td>SOLAR_IRRADIANCE_B1</td><td>DOUBLE</td><td><p>Mean solar exoatmospheric irradiance for band B1</p></td></tr><tr><td>SOLAR_IRRADIANCE_B2</td><td>DOUBLE</td><td><p>Mean solar exoatmospheric irradiance for band B2</p></td></tr><tr><td>SOLAR_IRRADIANCE_B3</td><td>DOUBLE</td><td><p>Mean solar exoatmospheric irradiance for band B3</p></td></tr><tr><td>SOLAR_IRRADIANCE_B4</td><td>DOUBLE</td><td><p>Mean solar exoatmospheric irradiance for band B4</p></td></tr><tr><td>SOLAR_IRRADIANCE_B5</td><td>DOUBLE</td><td><p>Mean solar exoatmospheric irradiance for band B5</p></td></tr><tr><td>SOLAR_IRRADIANCE_B6</td><td>DOUBLE</td><td><p>Mean solar exoatmospheric irradiance for band B6</p></td></tr><tr><td>SOLAR_IRRADIANCE_B7</td><td>DOUBLE</td><td><p>Mean solar exoatmospheric irradiance for band B7</p></td></tr><tr><td>SOLAR_IRRADIANCE_B8</td><td>DOUBLE</td><td><p>Mean solar exoatmospheric irradiance for band B8</p></td></tr><tr><td>SOLAR_IRRADIANCE_B8A</td><td>DOUBLE</td><td><p>Mean solar exoatmospheric irradiance for band B8a</p></td></tr><tr><td>SOLAR_IRRADIANCE_B9</td><td>DOUBLE</td><td><p>Mean solar exoatmospheric irradiance for band B9</p></td></tr><tr><td>SOLAR_IRRADIANCE_B10</td><td>DOUBLE</td><td><p>Mean solar exoatmospheric irradiance for band B10</p></td></tr><tr><td>SOLAR_IRRADIANCE_B11</td><td>DOUBLE</td><td><p>Mean solar exoatmospheric irradiance for band B11</p></td></tr><tr><td>SOLAR_IRRADIANCE_B12</td><td>DOUBLE</td><td><p>Mean solar exoatmospheric irradiance for band B12</p></td></tr><tr><td>SNOW_ICE_PERCENTAGE</td><td>DOUBLE</td><td><p>Percentage of pixels classified as snow or ice</p></td></tr><tr><td>SPACECRAFT_NAME</td><td>STRING</td><td><p>Sentinel-2 spacecraft name: Sentinel-2A, Sentinel-2B</p></td></tr><tr><td>THIN_CIRRUS_PERCENTAGE</td><td>DOUBLE</td><td><p>Percentage of pixels classified as thin cirrus clouds</p></td></tr><tr><td>UNCLASSIFIED_PERCENTAGE</td><td>DOUBLE</td><td><p>Percentage of unclassified pixels</p></td></tr><tr><td>VEGETATION_PERCENTAGE</td><td>DOUBLE</td><td><p>Percentage of pixels classified as vegetation</p></td></tr><tr><td>WATER_PERCENTAGE</td><td>DOUBLE</td><td><p>Percentage of pixels classified as water</p></td></tr><tr><td>WATER_VAPOUR_RETRIEVAL_ACCURACY</td><td>DOUBLE</td><td><p>Declared accuracy of the Water Vapor model</p></td></tr></table><p><b>Terms of Use</b><br><p>The use of Sentinel data is governed by the <a href=\"https://scihub.copernicus.eu/twiki/pub/SciHubWebPortal/TermsConditions/Sentinel_Data_Terms_and_Conditions.pdf\">Copernicus\\nSentinel Data Terms and Conditions.</a></p><style>\\n  table.eecat {\\n  border: 1px solid black;\\n  border-collapse: collapse;\\n  font-size: 13px;\\n  }\\n  table.eecat td, tr, th {\\n  text-align: left; vertical-align: top;\\n  border: 1px solid gray; padding: 3px;\\n  }\\n  td.nobreak { white-space: nowrap; }\\n</style>', 'source_tags': ['eu', 'esa', 'copernicus', 'sentinel'], 'visualization_0_max': '3000.0', 'provider_url': 'https://earth.esa.int/web/sentinel/user-guides/sentinel-2-msi/product-types/level-2a', 'title': 'Sentinel-2 MSI: MultiSpectral Instrument, Level-2A', 'sample': 'https://mw1.google.com/ges/dd/images/COPERNICUS_S2_SR_sample.png', 'tags': ['copernicus', 'esa', 'eu', 'msi', 'reflectance', 'sentinel', 'sr'], 'system:visualization_0_max': '3000.0', 'product_tags': ['msi', 'sr', 'reflectance'], 'provider': 'European Union/ESA/Copernicus', 'visualization_0_min': '0.0', 'system:visualization_0_name': 'RGB', 'visualization_0_name': 'RGB', 'visualization_0_bands': 'B4,B3,B2'}, 'features': [{'type': 'Image', 'bands': [{'id': 'B1', 'data_type': {'type': 'PixelType', 'precision': 'int', 'min': 0, 'max': 65535}, 'dimensions': [1830, 1830], 'crs': 'EPSG:32610', 'crs_transform': [60, 0, 699960, 0, -60, 4200000]}, {'id': 'B2', 'data_type': {'type': 'PixelType', 'precision': 'int', 'min': 0, 'max': 65535}, 'dimensions': [10980, 10980], 'crs': 'EPSG:32610', 'crs_transform': [10, 0, 699960, 0, -10, 4200000]}, {'id': 'B3', 'data_type': {'type': 'PixelType', 'precision': 'int', 'min': 0, 'max': 65535}, 'dimensions': [10980, 10980], 'crs': 'EPSG:32610', 'crs_transform': [10, 0, 699960, 0, -10, 4200000]}, {'id': 'B4', 'data_type': {'type': 'PixelType', 'precision': 'int', 'min': 0, 'max': 65535}, 'dimensions': [10980, 10980], 'crs': 'EPSG:32610', 'crs_transform': [10, 0, 699960, 0, -10, 4200000]}, {'id': 'B5', 'data_type': {'type': 'PixelType', 'precision': 'int', 'min': 0, 'max': 65535}, 'dimensions': [5490, 5490], 'crs': 'EPSG:32610', 'crs_transform': [20, 0, 699960, 0, -20, 4200000]}, {'id': 'B6', 'data_type': {'type': 'PixelType', 'precision': 'int', 'min': 0, 'max': 65535}, 'dimensions': [5490, 5490], 'crs': 'EPSG:32610', 'crs_transform': [20, 0, 699960, 0, -20, 4200000]}, {'id': 'B7', 'data_type': {'type': 'PixelType', 'precision': 'int', 'min': 0, 'max': 65535}, 'dimensions': [5490, 5490], 'crs': 'EPSG:32610', 'crs_transform': [20, 0, 699960, 0, -20, 4200000]}, {'id': 'B8', 'data_type': {'type': 'PixelType', 'precision': 'int', 'min': 0, 'max': 65535}, 'dimensions': [10980, 10980], 'crs': 'EPSG:32610', 'crs_transform': [10, 0, 699960, 0, -10, 4200000]}, {'id': 'B8A', 'data_type': {'type': 'PixelType', 'precision': 'int', 'min': 0, 'max': 65535}, 'dimensions': [5490, 5490], 'crs': 'EPSG:32610', 'crs_transform': [20, 0, 699960, 0, -20, 4200000]}, {'id': 'B9', 'data_type': {'type': 'PixelType', 'precision': 'int', 'min': 0, 'max': 65535}, 'dimensions': [1830, 1830], 'crs': 'EPSG:32610', 'crs_transform': [60, 0, 699960, 0, -60, 4200000]}, {'id': 'B11', 'data_type': {'type': 'PixelType', 'precision': 'int', 'min': 0, 'max': 65535}, 'dimensions': [5490, 5490], 'crs': 'EPSG:32610', 'crs_transform': [20, 0, 699960, 0, -20, 4200000]}, {'id': 'B12', 'data_type': {'type': 'PixelType', 'precision': 'int', 'min': 0, 'max': 65535}, 'dimensions': [5490, 5490], 'crs': 'EPSG:32610', 'crs_transform': [20, 0, 699960, 0, -20, 4200000]}, {'id': 'AOT', 'data_type': {'type': 'PixelType', 'precision': 'int', 'min': 0, 'max': 65535}, 'dimensions': [10980, 10980], 'crs': 'EPSG:32610', 'crs_transform': [10, 0, 699960, 0, -10, 4200000]}, {'id': 'WVP', 'data_type': {'type': 'PixelType', 'precision': 'int', 'min': 0, 'max': 65535}, 'dimensions': [10980, 10980], 'crs': 'EPSG:32610', 'crs_transform': [10, 0, 699960, 0, -10, 4200000]}, {'id': 'SCL', 'data_type': {'type': 'PixelType', 'precision': 'int', 'min': 0, 'max': 255}, 'dimensions': [5490, 5490], 'crs': 'EPSG:32610', 'crs_transform': [20, 0, 699960, 0, -20, 4200000]}, {'id': 'TCI_R', 'data_type': {'type': 'PixelType', 'precision': 'int', 'min': 0, 'max': 255}, 'dimensions': [10980, 10980], 'crs': 'EPSG:32610', 'crs_transform': [10, 0, 699960, 0, -10, 4200000]}, {'id': 'TCI_G', 'data_type': {'type': 'PixelType', 'precision': 'int', 'min': 0, 'max': 255}, 'dimensions': [10980, 10980], 'crs': 'EPSG:32610', 'crs_transform': [10, 0, 699960, 0, -10, 4200000]}, {'id': 'TCI_B', 'data_type': {'type': 'PixelType', 'precision': 'int', 'min': 0, 'max': 255}, 'dimensions': [10980, 10980], 'crs': 'EPSG:32610', 'crs_transform': [10, 0, 699960, 0, -10, 4200000]}, {'id': 'MSK_CLDPRB', 'data_type': {'type': 'PixelType', 'precision': 'int', 'min': 0, 'max': 255}, 'dimensions': [5490, 5490], 'crs': 'EPSG:32610', 'crs_transform': [20, 0, 699960, 0, -20, 4200000]}, {'id': 'MSK_SNWPRB', 'data_type': {'type': 'PixelType', 'precision': 'int', 'min': 0, 'max': 255}, 'dimensions': [5490, 5490], 'crs': 'EPSG:32610', 'crs_transform': [20, 0, 699960, 0, -20, 4200000]}, {'id': 'QA10', 'data_type': {'type': 'PixelType', 'precision': 'int', 'min': 0, 'max': 65535}, 'dimensions': [10980, 10980], 'crs': 'EPSG:32610', 'crs_transform': [10, 0, 699960, 0, -10, 4200000]}, {'id': 'QA20', 'data_type': {'type': 'PixelType', 'precision': 'int', 'min': 0, 'max': 4294967295}, 'dimensions': [5490, 5490], 'crs': 'EPSG:32610', 'crs_transform': [20, 0, 699960, 0, -20, 4200000]}, {'id': 'QA60', 'data_type': {'type': 'PixelType', 'precision': 'int', 'min': 0, 'max': 65535}, 'dimensions': [1830, 1830], 'crs': 'EPSG:32610', 'crs_transform': [60, 0, 699960, 0, -60, 4200000]}], 'version': 1678580648579539, 'id': 'COPERNICUS/S2_SR_HARMONIZED/20230307T184221_20230307T184739_T10SGG', 'properties': {'SPACECRAFT_NAME': 'Sentinel-2A', 'SATURATED_DEFECTIVE_PIXEL_PERCENTAGE': 0, 'BOA_ADD_OFFSET_B12': -1000, 'CLOUD_SHADOW_PERCENTAGE': 9.203301, 'system:footprint': {'type': 'LinearRing', 'coordinates': [[-120.72503635300224, 37.92561494719686], [-120.72504038761178, 37.92560028049844], [-120.74009392233789, 37.43123590722853], [-120.75478401300423, 36.93683267194441], [-120.7547394675146, 36.93679037148168], [-120.7547019370503, 36.93674390925528], [-120.75468352256601, 36.93674076882363], [-119.52366566531997, 36.90706843007514], [-119.52361221051198, 36.907103439165866], [-119.5235536226036, 36.90713286982675], [-119.52354946303821, 36.90714749953644], [-119.5122618179207, 37.154096807031216], [-119.50083608884174, 37.40102528109151], [-119.48927020830695, 37.647940379581534], [-119.47756219638579, 37.8948420795326], [-119.47760646119407, 37.89488487058117], [-119.47764364362256, 37.89493174840925], [-119.47766223483322, 37.8949350924051], [-120.724923734718, 37.92568049878508], [-120.72497741260449, 37.925644995116066], [-120.72503635300224, 37.92561494719686]]}, 'SENSOR_QUALITY': 'PASSED', 'GENERATION_TIME': 1678233479000, 'CLOUDY_PIXEL_OVER_LAND_PERCENTAGE': 11.876348, 'CLOUD_COVERAGE_ASSESSMENT': 11.814553, 'THIN_CIRRUS_PERCENTAGE': 0.181084, 'GRANULE_MEAN_WV': 0.712899, 'BOA_ADD_OFFSET_B1': -1000, 'BOA_ADD_OFFSET_B2': -1000, 'DATASTRIP_ID': 'S2A_OPER_MSI_L2A_DS_2APS_20230307T235759_S20230307T184739_N05.09', 'BOA_ADD_OFFSET_B5': -1000, 'BOA_ADD_OFFSET_B6': -1000, 'BOA_ADD_OFFSET_B3': -1000, 'BOA_ADD_OFFSET_B4': -1000, 'BOA_ADD_OFFSET_B9': -1000, 'BOA_ADD_OFFSET_B7': -1000, 'BOA_ADD_OFFSET_B8': -1000, 'GRANULE_ID': 'L2A_T10SGG_A040250_20230307T184739', 'MEAN_INCIDENCE_AZIMUTH_ANGLE_B8': 101.805825631758, 'DATATAKE_TYPE': 'INS-NOBS', 'MEAN_INCIDENCE_AZIMUTH_ANGLE_B9': 99.2697938236061, 'MEAN_INCIDENCE_AZIMUTH_ANGLE_B6': 99.9894262077265, 'MEAN_INCIDENCE_AZIMUTH_ANGLE_B7': 99.7714511217323, 'MEAN_INCIDENCE_AZIMUTH_ANGLE_B4': 100.55442347962, 'NOT_VEGETATED_PERCENTAGE': 16.175789, 'MEAN_INCIDENCE_AZIMUTH_ANGLE_B5': 100.260167833203, 'RADIOMETRIC_QUALITY': 'PASSED', 'MEAN_INCIDENCE_AZIMUTH_ANGLE_B2': 102.4366931631, 'MEAN_INCIDENCE_AZIMUTH_ANGLE_B3': 101.283948538336, 'MEAN_INCIDENCE_AZIMUTH_ANGLE_B1': 99.4313610510123, 'HIGH_PROBA_CLOUDS_PERCENTAGE': 5.33397, 'UNCLASSIFIED_PERCENTAGE': 0.638077, 'OZONE_SOURCE': 'AUX_ECMWFT', 'GRANULE_MEAN_AOT': 0.149399, 'BOA_ADD_OFFSET_B8A': -1000, 'SNOW_ICE_PERCENTAGE': 18.605588, 'BOA_ADD_OFFSET_B11': -1000, 'BOA_ADD_OFFSET_B10': -1000, 'GEOMETRIC_QUALITY': 'PASSED', 'system:asset_size': 1830687884, 'system:index': '20230307T184221_20230307T184739_T10SGG', 'DATATAKE_IDENTIFIER': 'GS2A_20230307T184221_040250_N05.09', 'AOT_RETRIEVAL_ACCURACY': 0, 'AOT_RETRIEVAL_METHOD': 'SEN2COR_DDV', 'MEAN_INCIDENCE_AZIMUTH_ANGLE_B8A': 99.5709711015095, 'MEAN_SOLAR_AZIMUTH_ANGLE': 152.807539334913, 'VEGETATION_PERCENTAGE': 42.166391, 'SOLAR_IRRADIANCE_B12': 85.25, 'SOLAR_IRRADIANCE_B10': 367.15, 'SOLAR_IRRADIANCE_B11': 245.59, 'SOLAR_IRRADIANCE_B8A': 955.32, 'FORMAT_CORRECTNESS': 'PASSED', 'system:time_end': 1678215242267, 'WATER_VAPOUR_RETRIEVAL_ACCURACY': 0, 'OZONE_VALUE': 384.466234, 'system:time_start': 1678215242267, 'PROCESSING_BASELINE': '05.09', 'SENSING_ORBIT_NUMBER': 70, 'NODATA_PIXEL_PERCENTAGE': 0, 'SENSING_ORBIT_DIRECTION': 'DESCENDING', 'GENERAL_QUALITY': 'PASSED', 'REFLECTANCE_CONVERSION_CORRECTION': 1.01775980366749, 'MEDIUM_PROBA_CLOUDS_PERCENTAGE': 6.299498, 'MEAN_INCIDENCE_ZENITH_ANGLE_B1': 5.35400689765777, 'MEAN_INCIDENCE_ZENITH_ANGLE_B5': 5.13841353941725, 'MEAN_INCIDENCE_ZENITH_ANGLE_B4': 5.09335367631201, 'MEAN_INCIDENCE_ZENITH_ANGLE_B3': 5.02636315867967, 'MEAN_INCIDENCE_ZENITH_ANGLE_B2': 4.9611545124889, 'MEAN_INCIDENCE_ZENITH_ANGLE_B9': 5.41784078322973, 'MEAN_INCIDENCE_ZENITH_ANGLE_B8': 4.9905108614962, 'MEAN_INCIDENCE_ZENITH_ANGLE_B7': 5.23995508630469, 'DARK_FEATURES_PERCENTAGE': 0.165371, 'MEAN_INCIDENCE_ZENITH_ANGLE_B6': 5.18738555024524, 'MEAN_SOLAR_ZENITH_ANGLE': 46.2373727115551, 'MEAN_INCIDENCE_ZENITH_ANGLE_B8A': 5.29589029195119, 'RADIATIVE_TRANSFER_ACCURACY': 0, 'MGRS_TILE': '10SGG', 'CLOUDY_PIXEL_PERCENTAGE': 11.814553, 'PRODUCT_ID': 'S2A_MSIL2A_20230307T184221_N0509_R070_T10SGG_20230307T235759', 'MEAN_INCIDENCE_ZENITH_ANGLE_B10': 5.06400500455013, 'SOLAR_IRRADIANCE_B9': 812.92, 'DEGRADED_MSI_DATA_PERCENTAGE': 0.0007, 'MEAN_INCIDENCE_ZENITH_ANGLE_B11': 5.176361299853, 'L2A_QUALITY': 'PASSED', 'MEAN_INCIDENCE_ZENITH_ANGLE_B12': 5.31424749553094, 'SOLAR_IRRADIANCE_B6': 1287.61, 'MEAN_INCIDENCE_AZIMUTH_ANGLE_B10': 100.753902963998, 'SOLAR_IRRADIANCE_B5': 1424.64, 'MEAN_INCIDENCE_AZIMUTH_ANGLE_B11': 100.022354276356, 'SOLAR_IRRADIANCE_B8': 1041.63, 'MEAN_INCIDENCE_AZIMUTH_ANGLE_B12': 99.5593551596197, 'SOLAR_IRRADIANCE_B7': 1162.08, 'SOLAR_IRRADIANCE_B2': 1959.66, 'SOLAR_IRRADIANCE_B1': 1884.69, 'SOLAR_IRRADIANCE_B4': 1512.06, 'SOLAR_IRRADIANCE_B3': 1823.24, 'WATER_PERCENTAGE': 1.230932}}]}\n",
      "\n"
     ]
    }
   ],
   "source": [
    "# Set start and end date\n",
    "startTime = datetime.datetime(2015, 7, 1)\n",
    "endTime = datetime.datetime.now()\n",
    "\n",
    "# Create Sentinel-2 image collection\n",
    "collection = ee.ImageCollection(\"COPERNICUS/S2_SR_HARMONIZED\").filterDate(startTime, endTime).filterBounds(point)\n",
    "\n",
    "# Limit the collection to the 1 most recent images.\n",
    "recent = collection.sort('system:time_start', False).limit(1)\n",
    "# Pull the image from the collection\n",
    "image = recent.first()\n",
    "\n",
    "print('Recent images: ' + str(recent.getInfo()) + '\\n')"
   ]
  },
  {
   "cell_type": "code",
   "execution_count": 33,
   "id": "d0c58a20",
   "metadata": {},
   "outputs": [
    {
     "data": {
      "text/html": [
       "<img src=\"https://earthengine.googleapis.com/v1alpha/projects/earthengine-legacy/thumbnails/777ea207c7e2211886776a83648d87fd-c857c67685695da0726b3ba9141cd4f2:getPixels\"/>"
      ],
      "text/plain": [
       "<IPython.core.display.Image object>"
      ]
     },
     "execution_count": 33,
     "metadata": {},
     "output_type": "execute_result"
    }
   ],
   "source": [
    "# Set the visualization parameters for the output\n",
    "visParams = {'bands': ['B4', 'B3', 'B2'], 'max': 2500, 'dimensions':1000 }\n",
    "\n",
    "# Create image thumbnail in earth engine and view\n",
    "thumbnail = image.getThumbUrl(visParams)\n",
    "Image(url = thumbnail)"
   ]
  },
  {
   "cell_type": "code",
   "execution_count": 34,
   "id": "17b8c6f4",
   "metadata": {},
   "outputs": [
    {
     "name": "stdout",
     "output_type": "stream",
     "text": [
      "2023-03-07 10:54:02.267000\n"
     ]
    }
   ],
   "source": [
    "# Get the timestamp and convert it to a date.\n",
    "date = ee.Date(image.get('system:time_start')).getInfo()\n",
    "x = date['value']\n",
    "print(datetime.datetime.fromtimestamp(x/1000))"
   ]
  },
  {
   "cell_type": "code",
   "execution_count": 35,
   "id": "1091546d",
   "metadata": {},
   "outputs": [
    {
     "name": "stdout",
     "output_type": "stream",
     "text": [
      "2022-03-22 11:54:08.723000\n"
     ]
    }
   ],
   "source": [
    "sorted = collection.sort('CLOUD_COVERAGE_ASSESSMENT').limit(10)\n",
    "\n",
    "# Get the first (least cloudy) image.\n",
    "image = sorted.first();\n",
    "\n",
    "#Get the timestamp and convert it to a date.\n",
    "date = ee.Date(image.get('system:time_start')).getInfo()\n",
    "# print(date['value'])\n",
    "x = date['value']\n",
    "print(datetime.datetime.fromtimestamp(x/1000))"
   ]
  },
  {
   "cell_type": "code",
   "execution_count": 40,
   "id": "8e51d347",
   "metadata": {},
   "outputs": [
    {
     "data": {
      "text/html": [
       "<img src=\"https://earthengine.googleapis.com/v1alpha/projects/earthengine-legacy/thumbnails/8d8633b9ac556ed5de57442d01110a98-ad88ee4b6ee677ff51bb274a8d473ef6:getPixels\"/>"
      ],
      "text/plain": [
       "<IPython.core.display.Image object>"
      ]
     },
     "execution_count": 40,
     "metadata": {},
     "output_type": "execute_result"
    }
   ],
   "source": [
    "# Define the visualization parameters\n",
    "visParams = {'bands': ['B4', 'B3', 'B2'], 'max': 2500, 'dimensions': 1000}\n",
    "\n",
    "# Create a thumbnail from the image\n",
    "thumbnail = image.getThumbUrl(visParams)\n",
    "\n",
    "# Display the image\n",
    "Image(url=thumbnail)"
   ]
  },
  {
   "cell_type": "code",
   "execution_count": 42,
   "id": "2f32b164",
   "metadata": {},
   "outputs": [
    {
     "name": "stdout",
     "output_type": "stream",
     "text": [
      "CLOUD_COVERAGE_ASSESSMENT = 0.000305\n"
     ]
    }
   ],
   "source": [
    "# Estimating the cloud cover\n",
    "target = 'CLOUD_COVERAGE_ASSESSMENT'\n",
    "meta = image.get(target).getInfo()\n",
    "print(f'{target} = {meta}')"
   ]
  },
  {
   "cell_type": "markdown",
   "id": "dfe18bb0",
   "metadata": {},
   "source": [
    "#### Calculating NDVI"
   ]
  },
  {
   "cell_type": "code",
   "execution_count": 46,
   "id": "2576ad93",
   "metadata": {},
   "outputs": [
    {
     "data": {
      "text/html": [
       "<img src=\"https://earthengine.googleapis.com/v1alpha/projects/earthengine-legacy/thumbnails/e9ef498d4a857e19e5a834079269ff9e-5978c32958adc82c5a4a6481f6c45b86:getPixels\"/>"
      ],
      "text/plain": [
       "<IPython.core.display.Image object>"
      ]
     },
     "execution_count": 46,
     "metadata": {},
     "output_type": "execute_result"
    }
   ],
   "source": [
    "# Run the sentinel NDVI function\n",
    "sndvi = senNDVI(image)\n",
    "\n",
    "# visualizing the NDVI data\n",
    "visParams = {'min':0, 'max': 1, 'dimensions':1000}\n",
    "thumbnail = sndvi.getThumbUrl(visParams)\n",
    "Image(url=thumbnail)"
   ]
  },
  {
   "cell_type": "markdown",
   "id": "e511b12f",
   "metadata": {},
   "source": [
    "#### Interactive NDVI graph"
   ]
  },
  {
   "cell_type": "code",
   "execution_count": 56,
   "id": "fb502248",
   "metadata": {},
   "outputs": [
    {
     "data": {
      "application/vnd.jupyter.widget-view+json": {
       "model_id": "422ef54bbe764890929fbea9329c3e09",
       "version_major": 2,
       "version_minor": 0
      },
      "text/plain": [
       "Map(center=[37.824, -119.634], controls=(WidgetControl(options=['position', 'transparent_bg'], widget=HBox(chi…"
      ]
     },
     "metadata": {},
     "output_type": "display_data"
    }
   ],
   "source": [
    "# Visualization settings\n",
    "rgbParams = {'bands': ['B4', 'B3', 'B2'], 'max': 3000, 'gamma': [1.4, 1.2, 1.4]}\n",
    "ndviParams = {'min':0, 'max': 1}\n",
    "\n",
    "# Create the map\n",
    "Map = geemap.Map(location = coords[::-1], zoom = 12)\n",
    "\n",
    "# Add a marker to show the location\n",
    "Map.add_marker(coords[::-1])\n",
    "\n",
    "# Add the Landsat 8 image to the map\n",
    "Map.addLayer(image, rgbParams, 'Natural Color Sentinel 2');\n",
    "\n",
    "# Add the NDVI image to the map\n",
    "Map.addLayer(sndvi, ndviParams, 'NDVI')\n",
    "\n",
    "# Add layer control\n",
    "Map.addLayerControl()\n",
    "\n",
    "# Display the map\n",
    "Map"
   ]
  },
  {
   "cell_type": "code",
   "execution_count": null,
   "id": "f678bd04",
   "metadata": {},
   "outputs": [],
   "source": []
  }
 ],
 "metadata": {
  "kernelspec": {
   "display_name": "Python 3 (ipykernel)",
   "language": "python",
   "name": "python3"
  },
  "language_info": {
   "codemirror_mode": {
    "name": "ipython",
    "version": 3
   },
   "file_extension": ".py",
   "mimetype": "text/x-python",
   "name": "python",
   "nbconvert_exporter": "python",
   "pygments_lexer": "ipython3",
   "version": "3.9.13"
  },
  "vscode": {
   "interpreter": {
    "hash": "19d1d53a962d236aa061289c2ac16dc8e6d9648c89fe79f459ae9a3493bc67b4"
   }
  }
 },
 "nbformat": 4,
 "nbformat_minor": 5
}
