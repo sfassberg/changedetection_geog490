{
 "cells": [
  {
   "cell_type": "code",
   "execution_count": 1,
   "id": "f96b5bf4",
   "metadata": {},
   "outputs": [],
   "source": [
    "import os\n",
    "import glob\n",
    "import geemap\n",
    "import ee, datetime\n",
    "from IPython.display import Image\n",
    "import pandas as pd\n",
    "import geopandas as gpd\n",
    "from pylab import *\n",
    "import seaborn as sns\n",
    "import folium\n",
    "import matplotlib.pyplot as plt\n",
    "%matplotlib inline\n",
    "import altair as alt"
   ]
  },
  {
   "cell_type": "code",
   "execution_count": 2,
   "id": "11117018",
   "metadata": {},
   "outputs": [
    {
     "data": {
      "text/html": [
       "<p>To authorize access needed by Earth Engine, open the following\n",
       "        URL in a web browser and follow the instructions:</p>\n",
       "        <p><a href=https://code.earthengine.google.com/client-auth?scopes=https%3A//www.googleapis.com/auth/earthengine%20https%3A//www.googleapis.com/auth/devstorage.full_control&request_id=vDRLr6DCA8IPIOJw_UKiGB1txultQou9sTPuBTRd5iI&tc=H16hbUacBWPzsT1ceRcDeWUsXCb1-FrgCpNN_Hdo9yY&cc=pUQxzOHBKgw0LX1x7EsgPif5zkzjGtxhO5TYyj2O__Y>https://code.earthengine.google.com/client-auth?scopes=https%3A//www.googleapis.com/auth/earthengine%20https%3A//www.googleapis.com/auth/devstorage.full_control&request_id=vDRLr6DCA8IPIOJw_UKiGB1txultQou9sTPuBTRd5iI&tc=H16hbUacBWPzsT1ceRcDeWUsXCb1-FrgCpNN_Hdo9yY&cc=pUQxzOHBKgw0LX1x7EsgPif5zkzjGtxhO5TYyj2O__Y</a></p>\n",
       "        <p>The authorization workflow will generate a code, which you should paste in the box below.</p>\n",
       "        "
      ],
      "text/plain": [
       "<IPython.core.display.HTML object>"
      ]
     },
     "metadata": {},
     "output_type": "display_data"
    },
    {
     "name": "stdout",
     "output_type": "stream",
     "text": [
      "Enter verification code: 4/1AWtgzh5cNbVdO35eVvD5xltiDFG6TM3NzNYKZMUGTDFwpH-VzsXqZqFtF7U\n",
      "\n",
      "Successfully saved authorization token.\n"
     ]
    }
   ],
   "source": [
    "# Setting up Google Earth Engine (GEE)\n",
    "# Getting tokens and activate EE\n",
    "ee.Authenticate()\n",
    "\n",
    "# Start up this session\n",
    "ee.Initialize()"
   ]
  },
  {
   "cell_type": "markdown",
   "id": "9231f83e",
   "metadata": {},
   "source": [
    "## Masking clouds"
   ]
  },
  {
   "cell_type": "markdown",
   "id": "1e3c2060",
   "metadata": {},
   "source": [
    "### Sentinel 2"
   ]
  },
  {
   "cell_type": "code",
   "execution_count": 3,
   "id": "668f4bab",
   "metadata": {},
   "outputs": [],
   "source": [
    "# Using QA band to filter clouds\n",
    "def maskS2clouds(image):\n",
    "  qa = image.select('QA60')\n",
    "\n",
    "  # Bits 10 and 11 are clouds and cirrus.\n",
    "  cloudBitMask = 1 << 10\n",
    "  cirrusBitMask = 1 << 11\n",
    "\n",
    "  # Both flags should be set to zero, indicating clear conditions.\n",
    "  mask = qa.bitwiseAnd(cloudBitMask).eq(0)\n",
    "  mask2 = qa.bitwiseAnd(cirrusBitMask).eq(0)\n",
    "  mask3 = qa.bitwiseAnd(cloudBitMask).eq(0).bitwiseAnd(cirrusBitMask).eq(0)\n",
    "\n",
    "  return image.updateMask(mask).updateMask(mask2)"
   ]
  },
  {
   "cell_type": "markdown",
   "id": "723d8d6f",
   "metadata": {},
   "source": [
    "### Landsat 8"
   ]
  },
  {
   "cell_type": "code",
   "execution_count": 4,
   "id": "59431209",
   "metadata": {},
   "outputs": [],
   "source": [
    "def maskL8clouds(image):\n",
    "  qa = image.select('pixel_qa')\n",
    "\n",
    "  # Bits 3 and 5 are clouds and cloud shadows.\n",
    "  cloudBitMask = 1 << 3\n",
    "  cloudShadowBitMask = 1 << 5\n",
    "\n",
    "  # Both flags should be set to zero, indicating clear conditions.\n",
    "  mask = qa.bitwiseAnd(cloudBitMask).eq(0)\n",
    "  mask2 = qa.bitwiseAnd(cloudShadowBitMask).eq(0)\n",
    "  mask3 = qa.bitwiseAnd(cloudBitMask).eq(0).bitwiseAnd(cloudShadowBitMask).eq(0)\n",
    "\n",
    "  return image.updateMask(mask).updateMask(mask2)"
   ]
  },
  {
   "cell_type": "markdown",
   "id": "80b9404e",
   "metadata": {},
   "source": [
    "### Landsat 7"
   ]
  },
  {
   "cell_type": "code",
   "execution_count": 5,
   "id": "e02667e4",
   "metadata": {},
   "outputs": [],
   "source": [
    "def maskL7clouds(image):\n",
    "  qa = image.select('pixel_qa')\n",
    "\n",
    "  # Bits 4 and 6 are clouds and cloud shadows.\n",
    "  cloudBitMask = 1 << 4\n",
    "  cloudShadowBitMask = 1 << 6\n",
    "\n",
    "  # Both flags should be set to zero, indicating clear conditions.\n",
    "  mask = qa.bitwiseAnd(cloudBitMask).eq(0)\n",
    "  mask2 = qa.bitwiseAnd(cloudShadowBitMask).eq(0)\n",
    "  mask3 = qa.bitwiseAnd(cloudBitMask).eq(0).bitwiseAnd(cloudShadowBitMask).eq(0)\n",
    "\n",
    "  return image.updateMask(mask).updateMask(mask2)"
   ]
  },
  {
   "cell_type": "markdown",
   "id": "9bb85cc1",
   "metadata": {},
   "source": [
    "# NDVI Bands Setup"
   ]
  },
  {
   "cell_type": "markdown",
   "id": "f71135bf",
   "metadata": {},
   "source": [
    "### Sentinel 2"
   ]
  },
  {
   "cell_type": "code",
   "execution_count": 6,
   "id": "ea7dad7d",
   "metadata": {},
   "outputs": [],
   "source": [
    "# NDVI for Sentine 2 bands\n",
    "def senNDVI(image):\n",
    "    return image.normalizedDifference(['B8', 'B4'])"
   ]
  },
  {
   "cell_type": "markdown",
   "id": "ff8e3868",
   "metadata": {},
   "source": [
    "### Landsat 8"
   ]
  },
  {
   "cell_type": "code",
   "execution_count": 7,
   "id": "c8c05c6c",
   "metadata": {},
   "outputs": [],
   "source": [
    "# NDVI for Landsat 8 bands\n",
    "def l8NDVI(image):\n",
    "    return image.normalizedDifference(['B5', 'B4'])"
   ]
  },
  {
   "cell_type": "markdown",
   "id": "379ceacc",
   "metadata": {},
   "source": [
    "### Landsat 7"
   ]
  },
  {
   "cell_type": "code",
   "execution_count": 8,
   "id": "9bb1f95d",
   "metadata": {},
   "outputs": [],
   "source": [
    "# NDVI for Landsat 7 bands\n",
    "def l7NDVI(image):\n",
    "    return image.normalizedDifference(['B4', 'B3'])"
   ]
  },
  {
   "cell_type": "markdown",
   "id": "e9c1ed26",
   "metadata": {},
   "source": [
    "# Set study area"
   ]
  },
  {
   "cell_type": "code",
   "execution_count": 9,
   "id": "81a3cabd",
   "metadata": {},
   "outputs": [],
   "source": [
    "# Rim Fire, CA\n",
    "coords = [-119.634, 37.824]\n",
    "\n",
    "# Create earth engine point\n",
    "point = {'type':'Point', 'coordinates':coords}"
   ]
  },
  {
   "cell_type": "markdown",
   "id": "f9a37d82",
   "metadata": {},
   "source": [
    "# Time Period: Before Fire and its NDVI Analysis"
   ]
  },
  {
   "cell_type": "code",
   "execution_count": 10,
   "id": "55ee0b5b",
   "metadata": {},
   "outputs": [],
   "source": [
    "# Set start and end date\n",
    "startTime = datetime.datetime(2012, 1, 1)\n",
    "endTime = datetime.datetime(2012, 9, 30)"
   ]
  },
  {
   "cell_type": "code",
   "execution_count": 11,
   "id": "2f028421",
   "metadata": {},
   "outputs": [],
   "source": [
    "# Getting L7 image collection\n",
    "collection = ee.ImageCollection(\"LANDSAT/LE07/C01/T2\").filterDate(startTime, endTime).filterBounds(point)"
   ]
  },
  {
   "cell_type": "code",
   "execution_count": 12,
   "id": "bc97aeca",
   "metadata": {},
   "outputs": [
    {
     "name": "stdout",
     "output_type": "stream",
     "text": [
      "Recent images: {'type': 'ImageCollection', 'bands': [], 'id': 'LANDSAT/LE07/C01/T2', 'version': 1648901714075430.0, 'properties': {'type_name': 'ImageCollection', 'keywords': ['global', 'landsat', 'usgs'], 'visualization_1_bands': 'B4,B3,B2', 'thumb': 'https://mw1.google.com/ges/dd/images/LANDSAT_RAW_thumb.png', 'description': '<p>empty</p><p><b>Provider: <a href=\"https://landsat.usgs.gov/\">USGS</a></b><br><p><b>Revisit Interval</b><br>\\n  16 days\\n</p><p><b>Bands</b><table class=\"eecat\"><tr><th scope=\"col\">Name</th><th scope=\"col\">Pixel Size</th><th scope=\"col\">Wavelength</th><th scope=\"col\">Description</th></tr><tr><td>B1</td><td>\\n      30 meters\\n</td><td>0.45 - 0.52 µm</td><td><p>Blue</p></td></tr><tr><td>B2</td><td>\\n      30 meters\\n</td><td>0.52 - 0.60 µm</td><td><p>Green</p></td></tr><tr><td>B3</td><td>\\n      30 meters\\n</td><td>0.63 - 0.69 µm</td><td><p>Red</p></td></tr><tr><td>B4</td><td>\\n      30 meters\\n</td><td>0.77 - 0.90 µm</td><td><p>Near infrared</p></td></tr><tr><td>B5</td><td>\\n      30 meters\\n</td><td>1.55 - 1.75 µm</td><td><p>Shortwave infrared 1</p></td></tr><tr><td>B6_VCID_1</td><td>\\n      60 meters\\n</td><td>10.40 - 12.50 µm</td><td><p>Low-gain Thermal Infrared 1. This band has expanded dynamic range\\nand lower radiometric resolution (sensitivity), with less\\nsaturation at high Digital Number (DN) values. Resampled from\\n60m to 30m.</p></td></tr><tr><td>B6_VCID_2</td><td>\\n      60 meters\\n</td><td>10.40 - 12.50 µm</td><td><p>High-gain Thermal Infrared 1. This band has higher radiometric\\nresolution (sensitivity), although it has a more restricted dynamic range.\\nResampled from 60m to 30m.</p></td></tr><tr><td>B7</td><td>\\n      30 meters\\n</td><td>2.08 - 2.35 µm</td><td><p>Shortwave infrared 2</p></td></tr><tr><td>B8</td><td>\\n      15 meters\\n</td><td>0.52 - 0.90 µm</td><td><p>Panchromatic</p></td></tr><tr><td>BQA</td><td>\\n      30 meters\\n</td><td></td><td><p>Landsat Collection 1 QA Bitmask (<a href=\"https://www.usgs.gov/land-resources/nli/landsat/landsat-collection-1-level-1-quality-assessment-band\">See Landsat QA page</a>)</p></td></tr><tr><td colspan=100>\\n      Bitmask for BQA\\n<ul><li>\\n          Bit 0: Designated Fill\\n<ul><li>0: No</li><li>1: Yes</li></ul></li><li>\\n          Bit 1: Designated Pixel\\n<ul><li>0: No</li><li>1: Yes</li></ul></li><li>\\n          Bits 2-3: Radiometric Saturation\\n<ul><li>0: No bands contain saturation</li><li>1: 1-2 bands contain saturation</li><li>2: 3-4 bands contain saturation</li><li>3: 5 or more bands contain saturation</li></ul></li><li>\\n          Bit 4: Cloud\\n<ul><li>0: No</li><li>1: Yes</li></ul></li><li>\\n          Bits 5-6: Cloud Confidence\\n<ul><li>0: Not Determined / Condition does not exist.</li><li>1: Low, (0-33 percent confidence)</li><li>2: Medium, (34-66 percent confidence)</li><li>3: High, (67-100 percent confidence)</li></ul></li><li>\\n          Bits 7-8: Cloud Shadow Confidence\\n<ul><li>0: Not Determined / Condition does not exist.</li><li>1: Low, (0-33 percent confidence)</li><li>2: Medium, (34-66 percent confidence)</li><li>3: High, (67-100 percent confidence)</li></ul></li><li>\\n          Bits 9-10: Snow / Ice Confidence\\n<ul><li>0: Not Determined / Condition does not exist.</li><li>1: Low, (0-33 percent confidence)</li><li>2: Medium, (34-66 percent confidence)</li><li>3: High, (67-100 percent confidence)</li></ul></li></ul></td></tr></table><p><b>Image Properties</b><table class=\"eecat\"><tr><th scope=\"col\">Name</th><th scope=\"col\">Type</th><th scope=\"col\">Description</th></tr><tr><td>CLOUD_COVER</td><td>DOUBLE</td><td><p>Percentage cloud cover (0-100), -1 = not calculated.</p></td></tr><tr><td>CLOUD_COVER_LAND</td><td>DOUBLE</td><td><p>Percentage cloud cover over land (0-100), -1 = not calculated.</p></td></tr><tr><td>COLLECTION_CATEGORY</td><td>STRING</td><td><p>Tier of scene. (T1 or T2)</p></td></tr><tr><td>COLLECTION_NUMBER</td><td>DOUBLE</td><td><p>Number of collection.</p></td></tr><tr><td>CORRECTION_BIAS_BAND_1</td><td>STRING</td><td><p>Internal calibration bias method for band 1.</p></td></tr><tr><td>CORRECTION_BIAS_BAND_2</td><td>STRING</td><td><p>Internal calibration bias method for band 2.</p></td></tr><tr><td>CORRECTION_BIAS_BAND_3</td><td>STRING</td><td><p>Internal calibration bias method for band 3.</p></td></tr><tr><td>CORRECTION_BIAS_BAND_4</td><td>STRING</td><td><p>Internal calibration bias method for band 4.</p></td></tr><tr><td>CORRECTION_BIAS_BAND_5</td><td>STRING</td><td><p>Internal calibration bias method for band 5.</p></td></tr><tr><td>CORRECTION_BIAS_BAND_6_VCID_1</td><td>STRING</td><td><p>Internal calibration bias method for band 6_VICD_1.</p></td></tr><tr><td>CORRECTION_BIAS_BAND_6_VCID_2</td><td>STRING</td><td><p>Internal calibration bias method for band 6_VICD_2.</p></td></tr><tr><td>CORRECTION_BIAS_BAND_7</td><td>STRING</td><td><p>Internal calibration bias method for band 7.</p></td></tr><tr><td>CORRECTION_BIAS_BAND_8</td><td>STRING</td><td><p>Internal calibration bias method for band 8.</p></td></tr><tr><td>CORRECTION_GAIN_BAND_1</td><td>STRING</td><td><p>Internal calibration gain method for band 1.</p></td></tr><tr><td>CORRECTION_GAIN_BAND_2</td><td>STRING</td><td><p>Internal calibration gain method for band 2.</p></td></tr><tr><td>CORRECTION_GAIN_BAND_3</td><td>STRING</td><td><p>Internal calibration gain method for band 3.</p></td></tr><tr><td>CORRECTION_GAIN_BAND_4</td><td>STRING</td><td><p>Internal calibration gain method for band 4.</p></td></tr><tr><td>CORRECTION_GAIN_BAND_5</td><td>STRING</td><td><p>Internal calibration gain method for band 5.</p></td></tr><tr><td>CORRECTION_GAIN_BAND_6_VCID_1</td><td>STRING</td><td><p>Internal calibration gain method for band 6_VCID_1.</p></td></tr><tr><td>CORRECTION_GAIN_BAND_6_VCID_2</td><td>STRING</td><td><p>Internal calibration gain method for band 6_VCID_2.</p></td></tr><tr><td>CORRECTION_GAIN_BAND_7</td><td>STRING</td><td><p>Internal calibration gain method for band 7.</p></td></tr><tr><td>CORRECTION_GAIN_BAND_8</td><td>STRING</td><td><p>Internal calibration gain method for band 8.</p></td></tr><tr><td>CPF_NAME</td><td>STRING</td><td><p>Calibration parameter file name.</p></td></tr><tr><td>DATA_CATEGORY</td><td>STRING</td><td><p>Current data category assigned to the data. Possible values:\\n(&quot;NOMINAL&quot;, &quot;VALIDATION&quot;, &quot;EXCHANGE&quot;, &quot;TEST&quot;, &quot;ENGINEERING&quot;)</p></td></tr><tr><td>DATA_TYPE</td><td>STRING</td><td><p>Data type identifier. (L1T or L1G)</p></td></tr><tr><td>DATE_ACQUIRED</td><td>STRING</td><td><p>Image acquisition date. &quot;YYYY-MM-DD&quot;</p></td></tr><tr><td>DATUM</td><td>STRING</td><td><p>Datum used in image creation.</p></td></tr><tr><td>EARTH_SUN_DISTANCE</td><td>DOUBLE</td><td><p>Earth sun distance in astronomical units (AU).</p></td></tr><tr><td>ELEVATION_SOURCE</td><td>STRING</td><td><p>Elevation model source used for standard terrain corrected (L1T) products.</p></td></tr><tr><td>ELLIPSOID</td><td>STRING</td><td><p>Ellipsoid used in image creation.</p></td></tr><tr><td>EPHEMERIS_TYPE</td><td>STRING</td><td><p>Ephemeris data type used to perform geometric correction. (Definitive or Predictive)</p></td></tr><tr><td>FILE_DATE</td><td>DOUBLE</td><td><p>File date in milliseconds since epoch.</p></td></tr><tr><td>GAIN_BAND_1</td><td>STRING</td><td><p>Gain state for Band 1. (L = Low gain, H = High)</p></td></tr><tr><td>GAIN_BAND_2</td><td>STRING</td><td><p>Gain state for Band 2. (L = Low gain, H = High)</p></td></tr><tr><td>GAIN_BAND_3</td><td>STRING</td><td><p>Gain state for Band 3. (L = Low gain, H = High)</p></td></tr><tr><td>GAIN_BAND_4</td><td>STRING</td><td><p>Gain state for Band 4. (L = Low gain, H = High)</p></td></tr><tr><td>GAIN_BAND_5</td><td>STRING</td><td><p>Gain state for Band 5. (L = Low gain, H = High)</p></td></tr><tr><td>GAIN_BAND_6_VCID_1</td><td>STRING</td><td><p>Gain state for Band 6 VCID_1. (L = Low gain, H = High)</p></td></tr><tr><td>GAIN_BAND_6_VCID_2</td><td>STRING</td><td><p>Gain state for Band 6 VCID_2. (L = Low gain, H = High)</p></td></tr><tr><td>GAIN_BAND_7</td><td>STRING</td><td><p>Gain state for Band 7. (L = Low gain, H = High)</p></td></tr><tr><td>GAIN_BAND_8</td><td>STRING</td><td><p>Gain state for Band 8. (L = Low gain, H = High)</p></td></tr><tr><td>GAIN_CHANGE_BAND_1</td><td>STRING</td><td><p>Presence and direction of gain change for Band 1 (LL = no\\nchange, HH = no change, LH = low to high, HL = high to low, U = Unknown).</p></td></tr><tr><td>GAIN_CHANGE_BAND_2</td><td>STRING</td><td><p>Presence and direction of gain change for Band 2 (LL = no\\nchange, HH = no change, LH = low to high, HL = high to low, U = Unknown).</p></td></tr><tr><td>GAIN_CHANGE_BAND_3</td><td>STRING</td><td><p>Presence and direction of gain change for Band 3 (LL = no\\nchange, HH = no change, LH = low to high, HL = high to low, U = Unknown).</p></td></tr><tr><td>GAIN_CHANGE_BAND_4</td><td>STRING</td><td><p>Presence and direction of gain change for Band 4 (LL = no\\nchange, HH = no change, LH = low to high, HL = high to low, U = Unknown).</p></td></tr><tr><td>GAIN_CHANGE_BAND_5</td><td>STRING</td><td><p>Presence and direction of gain change for Band 5 (LL = no\\nchange, HH = no change, LH = low to high, HL = high to low, U = Unknown).</p></td></tr><tr><td>GAIN_CHANGE_BAND_6_VCID_1</td><td>STRING</td><td><p>Presence and direction of gain change for Band 6 VCID_1 (LL = no\\nchange, HH = no change, LH = low to high, HL = high to low, U = Unknown).</p></td></tr><tr><td>GAIN_CHANGE_BAND_6_VCID_2</td><td>STRING</td><td><p>Presence and direction of gain change for Band 6 VCID_2 (LL = no\\nchange, HH = no change, LH = low to high, HL = high to low, U = Unknown).</p></td></tr><tr><td>GAIN_CHANGE_BAND_7</td><td>STRING</td><td><p>Presence and direction of gain change for Band 7 (LL = no\\nchange, HH = no change, LH = low to high, HL = high to low, U = Unknown).</p></td></tr><tr><td>GAIN_CHANGE_BAND_8</td><td>STRING</td><td><p>Presence and direction of gain change for Band 8 (LL = no\\nchange, HH = no change, LH = low to high, HL = high to low, U = Unknown).</p></td></tr><tr><td>GAIN_CHANGE_SCAN_BAND_1</td><td>DOUBLE</td><td><p>Scan line number where the first change in Band 1 gain was detected.</p></td></tr><tr><td>GAIN_CHANGE_SCAN_BAND_2</td><td>DOUBLE</td><td><p>Scan line number where the first change in Band 2 gain was detected.</p></td></tr><tr><td>GAIN_CHANGE_SCAN_BAND_3</td><td>DOUBLE</td><td><p>Scan line number where the first change in Band 3 gain was detected.</p></td></tr><tr><td>GAIN_CHANGE_SCAN_BAND_4</td><td>DOUBLE</td><td><p>Scan line number where the first change in Band 4 gain was detected.</p></td></tr><tr><td>GAIN_CHANGE_SCAN_BAND_5</td><td>DOUBLE</td><td><p>Scan line number where the first change in Band 5 gain was detected.</p></td></tr><tr><td>GAIN_CHANGE_SCAN_BAND_6_VCID_1</td><td>DOUBLE</td><td><p>Scan line number where the first change in Band 6 VCID 1 gain was detected.</p></td></tr><tr><td>GAIN_CHANGE_SCAN_BAND_6_VCID_2</td><td>DOUBLE</td><td><p>Scan line number where the first change in Band 6 VCID 2 gain was detected.</p></td></tr><tr><td>GAIN_CHANGE_SCAN_BAND_7</td><td>DOUBLE</td><td><p>Scan line number where the first change in Band 7 gain was detected.</p></td></tr><tr><td>GAIN_CHANGE_SCAN_BAND_8</td><td>DOUBLE</td><td><p>Scan line number where the first change in Band 8 gain was detected.</p></td></tr><tr><td>GEOMETRIC_RMSE_MODEL</td><td>DOUBLE</td><td><p>Combined Root Mean Square Error (RMSE) of the geometric residuals\\n(metres) in both across-track and along-track directions\\nmeasured on the GCPs used in geometric precision correction.\\nNot present in L1G products.</p></td></tr><tr><td>GEOMETRIC_RMSE_MODEL_X</td><td>DOUBLE</td><td><p>RMSE of the X direction geometric residuals (in metres) measured\\non the GCPs used in geometric precision correction. Not present in\\nL1G products.</p></td></tr><tr><td>GEOMETRIC_RMSE_MODEL_Y</td><td>DOUBLE</td><td><p>RMSE of the Y direction geometric residuals (in metres) measured\\non the GCPs used in geometric precision correction. Not present in\\nL1G products.</p></td></tr><tr><td>GRID_CELL_SIZE_PANCHROMATIC</td><td>DOUBLE</td><td><p>Grid cell size used in creating the image for the panchromatic band.</p></td></tr><tr><td>GRID_CELL_SIZE_REFLECTIVE</td><td>DOUBLE</td><td><p>Grid cell size used in creating the image for the reflective band.</p></td></tr><tr><td>GRID_CELL_SIZE_THERMAL</td><td>DOUBLE</td><td><p>Grid cell size used in creating the image for the thermal band.</p></td></tr><tr><td>GROUND_CONTROL_POINTS_MODEL</td><td>DOUBLE</td><td><p>The number of ground control points used. Not used in L1GT products.\\nValues: 0 - 999 (0 is used for L1T products that have used\\nMulti-scene refinement).</p></td></tr><tr><td>GROUND_CONTROL_POINTS_VERIFY</td><td>DOUBLE</td><td><p>The number of ground control points used in the verification of\\nthe terrain corrected product. Values: -1 to 1615 (-1 = not available)</p></td></tr><tr><td>GROUND_CONTROL_POINTS_VERSION</td><td>DOUBLE</td><td><p>The number of ground control points used in the verification of\\nthe terrain corrected product. Values: -1 to 1615 (-1 = not available)</p></td></tr><tr><td>IMAGE_QUALITY</td><td>DOUBLE</td><td><p>Image quality, 0 = worst, 9 = best, -1 = quality not calculated</p></td></tr><tr><td>K1_CONSTANT_BAND_6_VCID_1</td><td>DOUBLE</td><td><p>Calibration K1 constant for Band 6 VCID 1 radiance to temperature conversion.</p></td></tr><tr><td>K1_CONSTANT_BAND_6_VCID_2</td><td>DOUBLE</td><td><p>Calibration K1 constant for Band 6 VCID 2 radiance to temperature conversion.</p></td></tr><tr><td>K2_CONSTANT_BAND_6_VCID_1</td><td>DOUBLE</td><td><p>Calibration K2 constant for Band 6 VCID 1 radiance to temperature conversion.</p></td></tr><tr><td>K2_CONSTANT_BAND_6_VCID_2</td><td>DOUBLE</td><td><p>Calibration K2 constant for Band 6 VCID 2 radiance to temperature conversion.</p></td></tr><tr><td>LANDSAT_PRODUCT_ID</td><td>STRING</td><td><p>The naming convention of each Landsat Collection 1 Level-1 image based\\non acquisition parameters and processing parameters.</p><p>Format: LXSS_LLLL_PPPRRR_YYYYMMDD_yyyymmdd_CC_TX</p><ul><li>L = Landsat</li><li>X = Sensor (O = Operational Land Imager,\\nT = Thermal Infrared Sensor, C = Combined OLI/TIRS)</li><li>SS = Satellite (08 = Landsat 8)</li><li>LLLL = Processing Correction Level (L1TP = precision and terrain,\\nL1GT = systematic terrain, L1GS = systematic)</li><li>PPP = WRS Path</li><li>RRR = WRS Row</li><li>YYYYMMDD = Acquisition Date expressed in Year, Month, Day</li><li>yyyymmdd = Processing Date expressed in Year, Month, Day</li><li>CC = Collection Number (01)</li><li>TX = Collection Category (RT = Real Time, T1 = Tier 1, T2 = Tier 2)</li></ul></td></tr><tr><td>LANDSAT_SCENE_ID</td><td>STRING</td><td><p>The Pre-Collection naming convention of each image is based on acquisition\\nparameters. This was the naming convention used prior to Collection 1.</p><p>Format: LXSPPPRRRYYYYDDDGSIVV</p><ul><li>L = Landsat</li><li>X = Sensor (O = Operational Land Imager, T = Thermal Infrared Sensor, C = Combined OLI/TIRS)</li><li>S = Satellite (08 = Landsat 8)</li><li>PPP = WRS Path</li><li>RRR = WRS Row</li><li>YYYY = Year of Acquisition</li><li>DDD = Julian Day of Acquisition</li><li>GSI = Ground Station Identifier</li><li>VV = Version</li></ul></td></tr><tr><td>MAP_PROJECTION</td><td>STRING</td><td><p>Projection used to represent the 3-dimensional surface of the earth for the Level-1 product.</p></td></tr><tr><td>MAP_PROJECTION_L0RA</td><td>STRING</td><td><p>L0RA map projection selectively applied to HDTs based on\\ngeographic location. Used for processed archive data.</p></td></tr><tr><td>ORIENTATION</td><td>STRING</td><td><p>Orientation used in creating the image. Values: NOMINAL = Nominal Path, NORTH_UP = North Up, TRUE_NORTH = True North, USER = User</p></td></tr><tr><td>PANCHROMATIC_LINES</td><td>DOUBLE</td><td><p>Number of product lines for the panchromatic band.</p></td></tr><tr><td>PANCHROMATIC_SAMPLES</td><td>DOUBLE</td><td><p>Number of product samples for the panchromatic bands.</p></td></tr><tr><td>PROCESSING_SOFTWARE_VERSION</td><td>STRING</td><td><p>Name and version of the processing software used to generate the L1 product.</p></td></tr><tr><td>RADIANCE_ADD_BAND_1</td><td>DOUBLE</td><td><p>Additive rescaling factor used to convert calibrated DN to radiance for Band 1.</p></td></tr><tr><td>RADIANCE_ADD_BAND_2</td><td>DOUBLE</td><td><p>Additive rescaling factor used to convert calibrated DN to radiance for Band 2.</p></td></tr><tr><td>RADIANCE_ADD_BAND_3</td><td>DOUBLE</td><td><p>Additive rescaling factor used to convert calibrated DN to radiance for Band 3.</p></td></tr><tr><td>RADIANCE_ADD_BAND_4</td><td>DOUBLE</td><td><p>Additive rescaling factor used to convert calibrated DN to radiance for Band 4.</p></td></tr><tr><td>RADIANCE_ADD_BAND_5</td><td>DOUBLE</td><td><p>Additive rescaling factor used to convert calibrated DN to radiance for Band 5.</p></td></tr><tr><td>RADIANCE_ADD_BAND_6_VCID_1</td><td>DOUBLE</td><td><p>Additive rescaling factor used to convert calibrated DN to radiance for Band 6 VCID 1.</p></td></tr><tr><td>RADIANCE_ADD_BAND_6_VCID_2</td><td>DOUBLE</td><td><p>Additive rescaling factor used to convert calibrated DN to radiance for Band 6 VCID 2.</p></td></tr><tr><td>RADIANCE_ADD_BAND_7</td><td>DOUBLE</td><td><p>Additive rescaling factor used to convert calibrated DN to radiance for Band 7.</p></td></tr><tr><td>RADIANCE_ADD_BAND_8</td><td>DOUBLE</td><td><p>Additive rescaling factor used to convert calibrated DN to radiance for Band 8.</p></td></tr><tr><td>RADIANCE_MAXIMUM_BAND_1</td><td>DOUBLE</td><td><p>Maximum achievable spectral radiance value for Band 1.</p></td></tr><tr><td>RADIANCE_MAXIMUM_BAND_2</td><td>DOUBLE</td><td><p>Maximum achievable spectral radiance value for Band 2.</p></td></tr><tr><td>RADIANCE_MAXIMUM_BAND_3</td><td>DOUBLE</td><td><p>Maximum achievable spectral radiance value for Band 3.</p></td></tr><tr><td>RADIANCE_MAXIMUM_BAND_4</td><td>DOUBLE</td><td><p>Maximum achievable spectral radiance value for Band 4.</p></td></tr><tr><td>RADIANCE_MAXIMUM_BAND_5</td><td>DOUBLE</td><td><p>Maximum achievable spectral radiance value for Band 5.</p></td></tr><tr><td>RADIANCE_MAXIMUM_BAND_6_VCID_1</td><td>DOUBLE</td><td><p>Maximum achievable spectral radiance value for Band 6 VCID 1.</p></td></tr><tr><td>RADIANCE_MAXIMUM_BAND_6_VCID_2</td><td>DOUBLE</td><td><p>Maximum achievable spectral radiance value for Band 6 VCID 2.</p></td></tr><tr><td>RADIANCE_MAXIMUM_BAND_7</td><td>DOUBLE</td><td><p>Maximum achievable spectral radiance value for Band 7.</p></td></tr><tr><td>RADIANCE_MAXIMUM_BAND_8</td><td>DOUBLE</td><td><p>Maximum achievable spectral radiance value for Band 8.</p></td></tr><tr><td>RADIANCE_MINIMUM_BAND_1</td><td>DOUBLE</td><td><p>Minimum achievable spectral radiance value for Band 1.</p></td></tr><tr><td>RADIANCE_MINIMUM_BAND_2</td><td>DOUBLE</td><td><p>Minimum achievable spectral radiance value for Band 2.</p></td></tr><tr><td>RADIANCE_MINIMUM_BAND_3</td><td>DOUBLE</td><td><p>Minimum achievable spectral radiance value for Band 3.</p></td></tr><tr><td>RADIANCE_MINIMUM_BAND_4</td><td>DOUBLE</td><td><p>Minimum achievable spectral radiance value for Band 4.</p></td></tr><tr><td>RADIANCE_MINIMUM_BAND_5</td><td>DOUBLE</td><td><p>Minimum achievable spectral radiance value for Band 5.</p></td></tr><tr><td>RADIANCE_MINIMUM_BAND_6_VCID_1</td><td>DOUBLE</td><td><p>Minimum achievable spectral radiance value for Band 6 VCID 1.</p></td></tr><tr><td>RADIANCE_MINIMUM_BAND_6_VCID_2</td><td>DOUBLE</td><td><p>Minimum achievable spectral radiance value for Band 6 VCID 2.</p></td></tr><tr><td>RADIANCE_MINIMUM_BAND_7</td><td>DOUBLE</td><td><p>Minimum achievable spectral radiance value for Band 7.</p></td></tr><tr><td>RADIANCE_MINIMUM_BAND_8</td><td>DOUBLE</td><td><p>Minimum achievable spectral radiance value for Band 8.</p></td></tr><tr><td>RADIANCE_MULT_BAND_1</td><td>DOUBLE</td><td><p>Multiplicative rescaling factor used to convert calibrated Band 1 DN to radiance.</p></td></tr><tr><td>RADIANCE_MULT_BAND_2</td><td>DOUBLE</td><td><p>Multiplicative rescaling factor used to convert calibrated Band 2 DN to radiance.</p></td></tr><tr><td>RADIANCE_MULT_BAND_3</td><td>DOUBLE</td><td><p>Multiplicative rescaling factor used to convert calibrated Band 3 DN to radiance.</p></td></tr><tr><td>RADIANCE_MULT_BAND_4</td><td>DOUBLE</td><td><p>Multiplicative rescaling factor used to convert calibrated Band 4 DN to radiance.</p></td></tr><tr><td>RADIANCE_MULT_BAND_5</td><td>DOUBLE</td><td><p>Multiplicative rescaling factor used to convert calibrated Band 5 DN to radiance.</p></td></tr><tr><td>RADIANCE_MULT_BAND_6_VCID_1</td><td>DOUBLE</td><td><p>Multiplicative rescaling factor used to convert calibrated Band 6 VCID 1 DN to radiance.</p></td></tr><tr><td>RADIANCE_MULT_BAND_6_VCID_2</td><td>DOUBLE</td><td><p>Multiplicative rescaling factor used to convert calibrated Band 6 VCID 2 DN to radiance.</p></td></tr><tr><td>RADIANCE_MULT_BAND_7</td><td>DOUBLE</td><td><p>Multiplicative rescaling factor used to convert calibrated Band 7 DN to radiance.</p></td></tr><tr><td>RADIANCE_MULT_BAND_8</td><td>DOUBLE</td><td><p>Multiplicative rescaling factor used to convert calibrated Band 8 DN to radiance.</p></td></tr><tr><td>REFLECTANCE_ADD_BAND_1</td><td>DOUBLE</td><td><p>Additive rescaling factor used to convert calibrated Band 1 DN to reflectance.</p></td></tr><tr><td>REFLECTANCE_ADD_BAND_2</td><td>DOUBLE</td><td><p>Additive rescaling factor used to convert calibrated Band 2 DN to reflectance.</p></td></tr><tr><td>REFLECTANCE_ADD_BAND_3</td><td>DOUBLE</td><td><p>Additive rescaling factor used to convert calibrated Band 3 DN to reflectance.</p></td></tr><tr><td>REFLECTANCE_ADD_BAND_4</td><td>DOUBLE</td><td><p>Additive rescaling factor used to convert calibrated Band 4 DN to reflectance.</p></td></tr><tr><td>REFLECTANCE_ADD_BAND_5</td><td>DOUBLE</td><td><p>Additive rescaling factor used to convert calibrated Band 5 DN to reflectance.</p></td></tr><tr><td>REFLECTANCE_ADD_BAND_7</td><td>DOUBLE</td><td><p>Additive rescaling factor used to convert calibrated Band 7 DN to reflectance.</p></td></tr><tr><td>REFLECTANCE_ADD_BAND_8</td><td>DOUBLE</td><td><p>Additive rescaling factor used to convert calibrated Band 8 DN to reflectance.</p></td></tr><tr><td>REFLECTANCE_MAXIMUM_BAND_1</td><td>DOUBLE</td><td><p>Maximum achievable spectral reflectance value for Band 1.</p></td></tr><tr><td>REFLECTANCE_MAXIMUM_BAND_2</td><td>DOUBLE</td><td><p>Maximum achievable spectral reflectance value for Band 2.</p></td></tr><tr><td>REFLECTANCE_MAXIMUM_BAND_3</td><td>DOUBLE</td><td><p>Maximum achievable spectral reflectance value for Band 3.</p></td></tr><tr><td>REFLECTANCE_MAXIMUM_BAND_4</td><td>DOUBLE</td><td><p>Maximum achievable spectral reflectance value for Band 4.</p></td></tr><tr><td>REFLECTANCE_MAXIMUM_BAND_5</td><td>DOUBLE</td><td><p>Maximum achievable spectral reflectance value for Band 5.</p></td></tr><tr><td>REFLECTANCE_MAXIMUM_BAND_7</td><td>DOUBLE</td><td><p>Maximum achievable spectral reflectance value for Band 7.</p></td></tr><tr><td>REFLECTANCE_MAXIMUM_BAND_8</td><td>DOUBLE</td><td><p>Maximum achievable spectral reflectance value for Band 8.</p></td></tr><tr><td>REFLECTANCE_MINIMUM_BAND_1</td><td>DOUBLE</td><td><p>Minimum achievable spectral reflectance value for Band 1.</p></td></tr><tr><td>REFLECTANCE_MINIMUM_BAND_2</td><td>DOUBLE</td><td><p>Minimum achievable spectral reflectance value for Band 2.</p></td></tr><tr><td>REFLECTANCE_MINIMUM_BAND_3</td><td>DOUBLE</td><td><p>Minimum achievable spectral reflectance value for Band 3.</p></td></tr><tr><td>REFLECTANCE_MINIMUM_BAND_4</td><td>DOUBLE</td><td><p>Minimum achievable spectral reflectance value for Band 4.</p></td></tr><tr><td>REFLECTANCE_MINIMUM_BAND_5</td><td>DOUBLE</td><td><p>Minimum achievable spectral reflectance value for Band 5.</p></td></tr><tr><td>REFLECTANCE_MINIMUM_BAND_7</td><td>DOUBLE</td><td><p>Minimum achievable spectral reflectance value for Band 7.</p></td></tr><tr><td>REFLECTANCE_MINIMUM_BAND_8</td><td>DOUBLE</td><td><p>Minimum achievable spectral reflectance value for Band 8.</p></td></tr><tr><td>REFLECTANCE_MULT_BAND_1</td><td>DOUBLE</td><td><p>Multiplicative factor used to convert calibrated Band 1 DN to reflectance.</p></td></tr><tr><td>REFLECTANCE_MULT_BAND_2</td><td>DOUBLE</td><td><p>Multiplicative factor used to convert calibrated Band 2 DN to reflectance.</p></td></tr><tr><td>REFLECTANCE_MULT_BAND_3</td><td>DOUBLE</td><td><p>Multiplicative factor used to convert calibrated Band 3 DN to reflectance.</p></td></tr><tr><td>REFLECTANCE_MULT_BAND_4</td><td>DOUBLE</td><td><p>Multiplicative factor used to convert calibrated Band 4 DN to reflectance.</p></td></tr><tr><td>REFLECTANCE_MULT_BAND_5</td><td>DOUBLE</td><td><p>Multiplicative factor used to convert calibrated Band 5 DN to reflectance.</p></td></tr><tr><td>REFLECTANCE_MULT_BAND_7</td><td>DOUBLE</td><td><p>Multiplicative factor used to convert calibrated Band 7 DN to reflectance.</p></td></tr><tr><td>REFLECTANCE_MULT_BAND_8</td><td>DOUBLE</td><td><p>Multiplicative factor used to convert calibrated Band 8 DN to reflectance.</p></td></tr><tr><td>REFLECTIVE_LINES</td><td>DOUBLE</td><td><p>Number of product lines for the reflective bands.</p></td></tr><tr><td>REFLECTIVE_SAMPLES</td><td>DOUBLE</td><td><p>Number of product samples for the reflective bands.</p></td></tr><tr><td>REQUEST_ID</td><td>STRING</td><td><p>Request id, nnnyymmdd0000_0000</p><ul><li>nnn = node number</li><li>yy = year</li><li>mm = month</li><li>dd = day</li></ul></td></tr><tr><td>RESAMPLING_OPTION</td><td>STRING</td><td><p>Resampling option used in creating the image.</p></td></tr><tr><td>SATURATION_BAND_1</td><td>STRING</td><td><p>Flag indicating saturated pixels for band 1 (&#39;Y&#39;/&#39;N&#39;)</p></td></tr><tr><td>SATURATION_BAND_2</td><td>STRING</td><td><p>Flag indicating saturated pixels for band 2 (&#39;Y&#39;/&#39;N&#39;)</p></td></tr><tr><td>SATURATION_BAND_3</td><td>STRING</td><td><p>Flag indicating saturated pixels for band 3 (&#39;Y&#39;/&#39;N&#39;)</p></td></tr><tr><td>SATURATION_BAND_4</td><td>STRING</td><td><p>Flag indicating saturated pixels for band 4 (&#39;Y&#39;/&#39;N&#39;)</p></td></tr><tr><td>SATURATION_BAND_5</td><td>STRING</td><td><p>Flag indicating saturated pixels for band 5 (&#39;Y&#39;/&#39;N&#39;)</p></td></tr><tr><td>SATURATION_BAND_6_VCID_1</td><td>STRING</td><td><p>Flag indicating saturated pixels for band 6 VCID 1 (&#39;Y&#39;/&#39;N&#39;)</p></td></tr><tr><td>SATURATION_BAND_6_VCID_2</td><td>STRING</td><td><p>Flag indicating saturated pixels for band 6 VCID 2 (&#39;Y&#39;/&#39;N&#39;)</p></td></tr><tr><td>SATURATION_BAND_7</td><td>STRING</td><td><p>Flag indicating saturated pixels for band 7 (&#39;Y&#39;/&#39;N&#39;)</p></td></tr><tr><td>SATURATION_BAND_8</td><td>STRING</td><td><p>Flag indicating saturated pixels for band 8 (&#39;Y&#39;/&#39;N&#39;)</p></td></tr><tr><td>SCENE_CENTER_TIME</td><td>STRING</td><td><p>Scene center time of acquired image. HH:MM:SS.SSSSSSSZ</p><ul><li>HH = Hour (00-23)</li><li>MM = Minutes</li><li>SS.SSSSSSS = Fractional seconds</li><li>Z = &quot;Zulu&quot; time (same as GMT)</li></ul></td></tr><tr><td>SENSOR_ID</td><td>STRING</td><td><p>Sensor used to capture data.</p></td></tr><tr><td>SENSOR_MODE</td><td>STRING</td><td><p>Operational mode. Scan Angle Monitor (SAM) or BUMPER.</p></td></tr><tr><td>SPACECRAFT_ID</td><td>STRING</td><td><p>Spacecraft identification.</p></td></tr><tr><td>STATION_ID</td><td>STRING</td><td><p>Ground Station/Organisation that received the data.</p></td></tr><tr><td>SUN_AZIMUTH</td><td>DOUBLE</td><td><p>Sun azimuth angle in degrees for the image center location at the image centre acquisition time.</p></td></tr><tr><td>SUN_ELEVATION</td><td>DOUBLE</td><td><p>Sun elevation angle in degrees for the image center location at the image centre acquisition time.</p></td></tr><tr><td>THERMAL_LINES</td><td>DOUBLE</td><td><p>Number of product lines for the thermal band.</p></td></tr><tr><td>THERMAL_SAMPLES</td><td>DOUBLE</td><td><p>Number of product samples for the thermal band.</p></td></tr><tr><td>UTM_ZONE</td><td>DOUBLE</td><td><p>UTM zone number used in product map projection.</p></td></tr><tr><td>WRS_PATH</td><td>DOUBLE</td><td><p>The WRS orbital path number (001 - 251).</p></td></tr><tr><td>WRS_ROW</td><td>DOUBLE</td><td><p>Landsat satellite WRS row (001-248).</p></td></tr></table><p><b>Terms of Use</b><br><p>Landsat datasets are federally created data\\nand therefore reside in the public domain and may be used, transferred, or reproduced without copyright restriction.</p><p>Acknowledgement or credit of the USGS as data source should be provided\\nby including a line of text citation such as the example shown below.</p><p>(Product, Image, Photograph, or Dataset Name) courtesy of\\nthe U.S. Geological Survey</p><p>Example: Landsat-7 image courtesy of the U.S. Geological Survey</p><p>See the\\n<a href=\"https://www.usgs.gov/information-policies-and-instructions/usgs-visual-identity-system\">USGS Visual Identity System Guidance</a>\\nfor further details on proper citation and acknowledgement of USGS products.</p><style>\\n  table.eecat {\\n  border: 1px solid black;\\n  border-collapse: collapse;\\n  font-size: 13px;\\n  }\\n  table.eecat td, tr, th {\\n  text-align: left; vertical-align: top;\\n  border: 1px solid gray; padding: 3px;\\n  }\\n  td.nobreak { white-space: nowrap; }\\n</style>', 'source_tags': ['landsat', 'usgs', 'landsat', 'usgs'], 'visualization_1_name': 'Near Infrared (432)', 'title': 'USGS Landsat 7 Collection 1 Tier 2 Raw Scenes', 'visualization_0_gain': '1.4,1.2,1.0', 'system:visualization_0_gain': '1.4,1.2,1.0', 'product_tags': ['global', 'etm', 'l7', 'le7', 'c1', 'tier2', 't2', 'radiance'], 'system:visualization_2_gain': '1.8,1.9,1.9', 'visualization_1_gain': '1.4,1.2,1.4', 'provider': 'USGS', 'system:visualization_2_name': 'Shortwave Infrared (742)', 'system:visualization_1_bands': 'B4,B3,B2', 'visualization_0_name': 'True Color (321)', 'date_range': [915148800000, 1640908800000], 'visualization_2_bands': 'B7,B4,B2', 'visualization_2_name': 'Shortwave Infrared (742)', 'period': 0, 'system:visualization_0_bands': 'B3,B2,B1', 'visualization_2_gain': '1.8,1.9,1.9', 'provider_url': 'https://landsat.usgs.gov/', 'sample': 'https://mw1.google.com/ges/dd/images/LANDSAT_RAW_sample.png', 'system:visualization_1_name': 'Near Infrared (432)', 'tags': ['global', 'landsat', 'usgs'], 'system:visualization_2_bands': 'B7,B4,B2', 'system:visualization_0_name': 'True Color (321)', 'system:visualization_1_gain': '1.4,1.2,1.4', 'visualization_0_bands': 'B3,B2,B1'}, 'features': [{'type': 'Image', 'bands': [{'id': 'B1', 'data_type': {'type': 'PixelType', 'precision': 'int', 'min': 0, 'max': 255}, 'dimensions': [7991, 7041], 'crs': 'EPSG:32610', 'crs_transform': [30, 0, 597285, 0, -30, 4259715]}, {'id': 'B2', 'data_type': {'type': 'PixelType', 'precision': 'int', 'min': 0, 'max': 255}, 'dimensions': [7991, 7041], 'crs': 'EPSG:32610', 'crs_transform': [30, 0, 597285, 0, -30, 4259715]}, {'id': 'B3', 'data_type': {'type': 'PixelType', 'precision': 'int', 'min': 0, 'max': 255}, 'dimensions': [7991, 7041], 'crs': 'EPSG:32610', 'crs_transform': [30, 0, 597285, 0, -30, 4259715]}, {'id': 'B4', 'data_type': {'type': 'PixelType', 'precision': 'int', 'min': 0, 'max': 255}, 'dimensions': [7991, 7041], 'crs': 'EPSG:32610', 'crs_transform': [30, 0, 597285, 0, -30, 4259715]}, {'id': 'B5', 'data_type': {'type': 'PixelType', 'precision': 'int', 'min': 0, 'max': 255}, 'dimensions': [7991, 7041], 'crs': 'EPSG:32610', 'crs_transform': [30, 0, 597285, 0, -30, 4259715]}, {'id': 'B6_VCID_1', 'data_type': {'type': 'PixelType', 'precision': 'int', 'min': 0, 'max': 255}, 'dimensions': [7991, 7041], 'crs': 'EPSG:32610', 'crs_transform': [30, 0, 597285, 0, -30, 4259715]}, {'id': 'B6_VCID_2', 'data_type': {'type': 'PixelType', 'precision': 'int', 'min': 0, 'max': 255}, 'dimensions': [7991, 7041], 'crs': 'EPSG:32610', 'crs_transform': [30, 0, 597285, 0, -30, 4259715]}, {'id': 'B7', 'data_type': {'type': 'PixelType', 'precision': 'int', 'min': 0, 'max': 255}, 'dimensions': [7991, 7041], 'crs': 'EPSG:32610', 'crs_transform': [30, 0, 597285, 0, -30, 4259715]}, {'id': 'B8', 'data_type': {'type': 'PixelType', 'precision': 'int', 'min': 0, 'max': 255}, 'dimensions': [15981, 14081], 'crs': 'EPSG:32610', 'crs_transform': [15, 0, 597292.5, 0, -15, 4259707.5]}, {'id': 'BQA', 'data_type': {'type': 'PixelType', 'precision': 'int', 'min': 0, 'max': 65535}, 'dimensions': [7991, 7041], 'crs': 'EPSG:32610', 'crs_transform': [30, 0, 597285, 0, -30, 4259715]}], 'id': 'LANDSAT/LE07/C01/T2/LE07_043034_20120921', 'version': 1502549073834000.0, 'properties': {'RADIANCE_MULT_BAND_5': 0.12622, 'IMAGE_QUALITY': 9, 'RADIANCE_MULT_BAND_3': 0.62165, 'RADIANCE_MULT_BAND_4': 0.96929, 'RADIANCE_MULT_BAND_1': 0.77874, 'RADIANCE_MULT_BAND_2': 0.79882, 'CORRECTION_GAIN_BAND_6_VCID_2': 'CPF', 'CORRECTION_GAIN_BAND_6_VCID_1': 'CPF', 'CORRECTION_GAIN_BAND_2': 'CPF', 'CORRECTION_GAIN_BAND_1': 'CPF', 'system:footprint': {'type': 'LinearRing', 'coordinates': [[-119.67573570567885, 36.54012696048503], [-119.6642507479513, 36.538959700493145], [-119.65029408043819, 36.58195937640033], [-119.62887089590521, 36.65055608616437], [-119.55755554601892, 36.880165057937155], [-119.47019342195986, 37.16140387679305], [-119.32019399568385, 37.64345177987589], [-119.16496140744935, 38.134704392353854], [-119.17633446500344, 38.13734865427322], [-119.23871848609306, 38.147843555919245], [-121.4493403568086, 38.47345485291178], [-121.46137548028902, 38.46649367826392], [-121.68869262839421, 37.675204054494856], [-121.90398127661469, 36.9085677879394], [-121.90826792042053, 36.89155680449702], [-121.9085575748008, 36.8712091523392], [-121.90511588284205, 36.8683798485454], [-121.62727386909722, 36.82980242906078], [-120.97697372494564, 36.73684026078448], [-119.73737739148119, 36.54940646167799], [-119.67573570567885, 36.54012696048503]]}, 'REFLECTIVE_SAMPLES': 7991, 'CORRECTION_GAIN_BAND_8': 'CPF', 'CORRECTION_GAIN_BAND_7': 'CPF', 'CORRECTION_GAIN_BAND_5': 'CPF', 'SUN_AZIMUTH': 149.02326006, 'CORRECTION_GAIN_BAND_4': 'CPF', 'CORRECTION_GAIN_BAND_3': 'CPF', 'CPF_NAME': 'LE07CPF_20120701_20120930_01.02', 'GAIN_CHANGE_BAND_7': 'HH', 'GAIN_CHANGE_BAND_8': 'LL', 'GAIN_CHANGE_BAND_5': 'HH', 'DATE_ACQUIRED': '2012-09-21', 'GAIN_CHANGE_BAND_3': 'HH', 'ELLIPSOID': 'WGS84', 'GAIN_CHANGE_BAND_4': 'LL', 'GAIN_CHANGE_BAND_1': 'HH', 'GAIN_CHANGE_BAND_2': 'HH', 'RADIANCE_ADD_BAND_6_VCID_1': -0.06709, 'RADIANCE_ADD_BAND_6_VCID_2': 3.1628, 'SENSOR_MODE': 'BUMPER', 'STATION_ID': 'EDC', 'RESAMPLING_OPTION': 'CUBIC_CONVOLUTION', 'ORIENTATION': 'NORTH_UP', 'WRS_ROW': 34, 'GAIN_BAND_6_VCID_2': 'H', 'RADIANCE_MULT_BAND_7': 0.043898, 'GAIN_BAND_6_VCID_1': 'L', 'RADIANCE_MULT_BAND_8': 0.97559, 'CLOUD_COVER': 8, 'COLLECTION_CATEGORY': 'T2', 'GRID_CELL_SIZE_REFLECTIVE': 30, 'DATA_CATEGORY': 'NOMINAL', 'RADIANCE_MULT_BAND_6_VCID_1': 0.067087, 'CLOUD_COVER_LAND': 8, 'RADIANCE_MULT_BAND_6_VCID_2': 0.037205, 'COLLECTION_NUMBER': 1, 'LANDSAT_SCENE_ID': 'LE70430342012265EDC00', 'WRS_PATH': 43, 'PANCHROMATIC_SAMPLES': 15981, 'PANCHROMATIC_LINES': 14081, 'REFLECTIVE_LINES': 7041, 'system:asset_size': 335394736, 'system:index': 'LE07_043034_20120921', 'GAIN_BAND_4': 'L', 'REFLECTANCE_ADD_BAND_1': -0.01085, 'GAIN_BAND_5': 'H', 'REFLECTANCE_ADD_BAND_2': -0.012277, 'DATUM': 'WGS84', 'GAIN_BAND_2': 'H', 'REFLECTANCE_ADD_BAND_3': -0.011669, 'GAIN_BAND_3': 'H', 'REFLECTANCE_ADD_BAND_4': -0.017938, 'GAIN_BAND_8': 'L', 'REFLECTANCE_ADD_BAND_5': -0.016087, 'REFLECTANCE_ADD_BAND_7': -0.015325, 'GAIN_BAND_7': 'H', 'REFLECTANCE_ADD_BAND_8': -0.01362, 'DATA_TYPE': 'L1GT', 'GAIN_BAND_1': 'H', 'K2_CONSTANT_BAND_6_VCID_2': 1282.71, 'K2_CONSTANT_BAND_6_VCID_1': 1282.71, 'CORRECTION_BIAS_BAND_2': 'INTERNAL_CALIBRATION', 'CORRECTION_BIAS_BAND_1': 'INTERNAL_CALIBRATION', 'CORRECTION_BIAS_BAND_4': 'INTERNAL_CALIBRATION', 'CORRECTION_BIAS_BAND_3': 'INTERNAL_CALIBRATION', 'GAIN_CHANGE_SCAN_BAND_6_VCID_1': 0, 'UTM_ZONE': 10, 'GAIN_CHANGE_SCAN_BAND_6_VCID_2': 0, 'LANDSAT_PRODUCT_ID': 'LE07_L1GT_043034_20120921_20160910_01_T2', 'GRID_CELL_SIZE_PANCHROMATIC': 15, 'RADIANCE_ADD_BAND_4': -6.06929, 'REFLECTANCE_MULT_BAND_7': 0.0017079, 'system:time_start': 1348252523870, 'RADIANCE_ADD_BAND_5': -1.12622, 'PROCESSING_SOFTWARE_VERSION': 'LPGS_12.8.1', 'RADIANCE_ADD_BAND_7': -0.3939, 'REFLECTANCE_MULT_BAND_8': 0.0023413, 'EPHEMERIS_TYPE': 'DEFINITIVE', 'RADIANCE_ADD_BAND_1': -6.97874, 'RADIANCE_ADD_BAND_2': -7.19882, 'RADIANCE_ADD_BAND_3': -5.62165, 'K1_CONSTANT_BAND_6_VCID_2': 666.09, 'CORRECTION_BIAS_BAND_6_VCID_2': 'INTERNAL_CALIBRATION', 'REFLECTANCE_MULT_BAND_1': 0.0012107, 'CORRECTION_BIAS_BAND_6_VCID_1': 'INTERNAL_CALIBRATION', 'RADIANCE_ADD_BAND_8': -5.67559, 'REFLECTANCE_MULT_BAND_3': 0.0012903, 'CORRECTION_BIAS_BAND_5': 'INTERNAL_CALIBRATION', 'REFLECTANCE_MULT_BAND_2': 0.0013624, 'CORRECTION_BIAS_BAND_8': 'INTERNAL_CALIBRATION', 'REFLECTANCE_MULT_BAND_5': 0.001803, 'CORRECTION_BIAS_BAND_7': 'INTERNAL_CALIBRATION', 'K1_CONSTANT_BAND_6_VCID_1': 666.09, 'REFLECTANCE_MULT_BAND_4': 0.0028648, 'THERMAL_LINES': 7041, 'GAIN_CHANGE_SCAN_BAND_1': 0, 'GRID_CELL_SIZE_THERMAL': 30, 'GAIN_CHANGE_SCAN_BAND_2': 0, 'GAIN_CHANGE_SCAN_BAND_3': 0, 'GAIN_CHANGE_SCAN_BAND_4': 0, 'GAIN_CHANGE_SCAN_BAND_5': 0, 'REQUEST_ID': '0501609090459_04803', 'EARTH_SUN_DISTANCE': 1.0037791, 'FILE_DATE': 1473474483000, 'SCENE_CENTER_TIME': '18:35:23.8700290Z', 'SUN_ELEVATION': 48.56576478, 'SATURATION_BAND_6_VCID_1': 'N', 'SATURATION_BAND_6_VCID_2': 'N', 'SCAN_GAP_INTERPOLATION': 2, 'SATURATION_BAND_1': 'Y', 'SATURATION_BAND_2': 'Y', 'SATURATION_BAND_3': 'Y', 'SATURATION_BAND_4': 'Y', 'SATURATION_BAND_5': 'Y', 'MAP_PROJECTION': 'UTM', 'SENSOR_ID': 'ETM', 'SATURATION_BAND_7': 'Y', 'SATURATION_BAND_8': 'N', 'SPACECRAFT_ID': 'LANDSAT_7', 'GAIN_CHANGE_SCAN_BAND_7': 0, 'ELEVATION_SOURCE': 'GLS2000', 'GAIN_CHANGE_SCAN_BAND_8': 0, 'GAIN_CHANGE_BAND_6_VCID_1': 'LL', 'GAIN_CHANGE_BAND_6_VCID_2': 'HH', 'THERMAL_SAMPLES': 7991}}]}\n",
      "\n"
     ]
    }
   ],
   "source": [
    "# Limit the collection to the 1 most recent images.\n",
    "recent = collection.sort('system:time_start', False).limit(1)\n",
    "# Pull the image from the collection\n",
    "image = recent.first()\n",
    "print('Recent images: ' + str(recent.getInfo()) + '\\n')"
   ]
  },
  {
   "cell_type": "code",
   "execution_count": 13,
   "id": "f7118df0",
   "metadata": {},
   "outputs": [],
   "source": [
    "# Limit the collection to the 1 most recent images.\n",
    "recent = collection.sort('system:time_start', False).limit(1)\n",
    "# Pull the image from the collection\n",
    "image = recent.first()"
   ]
  },
  {
   "cell_type": "code",
   "execution_count": 14,
   "id": "1a8ccee2",
   "metadata": {},
   "outputs": [
    {
     "data": {
      "text/html": [
       "<img src=\"https://earthengine.googleapis.com/v1alpha/projects/earthengine-legacy/thumbnails/17d5646da2fc13649c2d403815c903c3-716a54e63ff2e043905384e304e6a78b:getPixels\"/>"
      ],
      "text/plain": [
       "<IPython.core.display.Image object>"
      ]
     },
     "execution_count": 14,
     "metadata": {},
     "output_type": "execute_result"
    }
   ],
   "source": [
    "# Set the visualization parameters for the output\n",
    "visParams = {'bands': ['B3', 'B2', 'B1'], 'max': 255, 'dimensions': 1000}\n",
    "\n",
    "# Create image thumbnail in earth engine and view\n",
    "thumbnail = image.getThumbUrl(visParams)\n",
    "Image(url = thumbnail)"
   ]
  },
  {
   "cell_type": "code",
   "execution_count": 15,
   "id": "311921a2",
   "metadata": {},
   "outputs": [
    {
     "name": "stdout",
     "output_type": "stream",
     "text": [
      "2012-09-21 11:35:23.870000\n"
     ]
    }
   ],
   "source": [
    "# Get the timestamp and convert it to a date.\n",
    "date = ee.Date(image.get('system:time_start')).getInfo()\n",
    "x = date['value']\n",
    "print(datetime.datetime.fromtimestamp(x/1000))"
   ]
  },
  {
   "cell_type": "code",
   "execution_count": 16,
   "id": "34522599",
   "metadata": {},
   "outputs": [
    {
     "name": "stdout",
     "output_type": "stream",
     "text": [
      "Metadata properties: ['type_name', 'keywords', 'visualization_1_bands', 'thumb', 'description', 'source_tags', 'visualization_1_name', 'system:id', 'title', 'visualization_0_gain', 'system:visualization_0_gain', 'product_tags', 'system:visualization_2_gain', 'visualization_1_gain', 'provider', 'system:visualization_2_name', 'system:version', 'system:visualization_1_bands', 'visualization_0_name', 'date_range', 'visualization_2_bands', 'visualization_2_name', 'period', 'system:visualization_0_bands', 'visualization_2_gain', 'provider_url', 'sample', 'system:visualization_1_name', 'tags', 'system:visualization_2_bands', 'system:visualization_0_name', 'system:visualization_1_gain', 'visualization_0_bands']\n"
     ]
    }
   ],
   "source": [
    "# Get a list of all metadata properties\n",
    "properties = collection.propertyNames()\n",
    "print('Metadata properties: '+str(properties.getInfo())) "
   ]
  },
  {
   "cell_type": "code",
   "execution_count": 17,
   "id": "d8c49402",
   "metadata": {},
   "outputs": [
    {
     "name": "stdout",
     "output_type": "stream",
     "text": [
      "WRS_ROW = 34\n",
      "WRS_PATH = 43\n",
      "Metadata properties: ['RADIANCE_MULT_BAND_5', 'IMAGE_QUALITY', 'RADIANCE_MULT_BAND_3', 'RADIANCE_MULT_BAND_4', 'RADIANCE_MULT_BAND_1', 'RADIANCE_MULT_BAND_2', 'system:id', 'CORRECTION_GAIN_BAND_6_VCID_2', 'CORRECTION_GAIN_BAND_6_VCID_1', 'CORRECTION_GAIN_BAND_2', 'CORRECTION_GAIN_BAND_1', 'system:footprint', 'REFLECTIVE_SAMPLES', 'CORRECTION_GAIN_BAND_8', 'CORRECTION_GAIN_BAND_7', 'CORRECTION_GAIN_BAND_5', 'SUN_AZIMUTH', 'CORRECTION_GAIN_BAND_4', 'CORRECTION_GAIN_BAND_3', 'CPF_NAME', 'GAIN_CHANGE_BAND_7', 'GAIN_CHANGE_BAND_8', 'GAIN_CHANGE_BAND_5', 'DATE_ACQUIRED', 'GAIN_CHANGE_BAND_3', 'ELLIPSOID', 'GAIN_CHANGE_BAND_4', 'GAIN_CHANGE_BAND_1', 'GAIN_CHANGE_BAND_2', 'RADIANCE_ADD_BAND_6_VCID_1', 'RADIANCE_ADD_BAND_6_VCID_2', 'SENSOR_MODE', 'STATION_ID', 'RESAMPLING_OPTION', 'ORIENTATION', 'WRS_ROW', 'GAIN_BAND_6_VCID_2', 'RADIANCE_MULT_BAND_7', 'GAIN_BAND_6_VCID_1', 'RADIANCE_MULT_BAND_8', 'CLOUD_COVER', 'COLLECTION_CATEGORY', 'GRID_CELL_SIZE_REFLECTIVE', 'DATA_CATEGORY', 'RADIANCE_MULT_BAND_6_VCID_1', 'CLOUD_COVER_LAND', 'RADIANCE_MULT_BAND_6_VCID_2', 'COLLECTION_NUMBER', 'LANDSAT_SCENE_ID', 'WRS_PATH', 'PANCHROMATIC_SAMPLES', 'PANCHROMATIC_LINES', 'REFLECTIVE_LINES', 'system:asset_size', 'system:index', 'GAIN_BAND_4', 'REFLECTANCE_ADD_BAND_1', 'GAIN_BAND_5', 'REFLECTANCE_ADD_BAND_2', 'DATUM', 'GAIN_BAND_2', 'REFLECTANCE_ADD_BAND_3', 'GAIN_BAND_3', 'REFLECTANCE_ADD_BAND_4', 'GAIN_BAND_8', 'REFLECTANCE_ADD_BAND_5', 'REFLECTANCE_ADD_BAND_7', 'GAIN_BAND_7', 'REFLECTANCE_ADD_BAND_8', 'system:version', 'DATA_TYPE', 'GAIN_BAND_1', 'K2_CONSTANT_BAND_6_VCID_2', 'K2_CONSTANT_BAND_6_VCID_1', 'CORRECTION_BIAS_BAND_2', 'CORRECTION_BIAS_BAND_1', 'CORRECTION_BIAS_BAND_4', 'CORRECTION_BIAS_BAND_3', 'GAIN_CHANGE_SCAN_BAND_6_VCID_1', 'UTM_ZONE', 'GAIN_CHANGE_SCAN_BAND_6_VCID_2', 'LANDSAT_PRODUCT_ID', 'GRID_CELL_SIZE_PANCHROMATIC', 'RADIANCE_ADD_BAND_4', 'REFLECTANCE_MULT_BAND_7', 'system:time_start', 'RADIANCE_ADD_BAND_5', 'PROCESSING_SOFTWARE_VERSION', 'RADIANCE_ADD_BAND_7', 'REFLECTANCE_MULT_BAND_8', 'EPHEMERIS_TYPE', 'RADIANCE_ADD_BAND_1', 'RADIANCE_ADD_BAND_2', 'RADIANCE_ADD_BAND_3', 'K1_CONSTANT_BAND_6_VCID_2', 'CORRECTION_BIAS_BAND_6_VCID_2', 'REFLECTANCE_MULT_BAND_1', 'CORRECTION_BIAS_BAND_6_VCID_1', 'RADIANCE_ADD_BAND_8', 'REFLECTANCE_MULT_BAND_3', 'CORRECTION_BIAS_BAND_5', 'REFLECTANCE_MULT_BAND_2', 'CORRECTION_BIAS_BAND_8', 'REFLECTANCE_MULT_BAND_5', 'CORRECTION_BIAS_BAND_7', 'K1_CONSTANT_BAND_6_VCID_1', 'REFLECTANCE_MULT_BAND_4', 'THERMAL_LINES', 'GAIN_CHANGE_SCAN_BAND_1', 'GRID_CELL_SIZE_THERMAL', 'GAIN_CHANGE_SCAN_BAND_2', 'GAIN_CHANGE_SCAN_BAND_3', 'GAIN_CHANGE_SCAN_BAND_4', 'GAIN_CHANGE_SCAN_BAND_5', 'REQUEST_ID', 'EARTH_SUN_DISTANCE', 'FILE_DATE', 'SCENE_CENTER_TIME', 'SUN_ELEVATION', 'SATURATION_BAND_6_VCID_1', 'SATURATION_BAND_6_VCID_2', 'SCAN_GAP_INTERPOLATION', 'SATURATION_BAND_1', 'SATURATION_BAND_2', 'SATURATION_BAND_3', 'SATURATION_BAND_4', 'SATURATION_BAND_5', 'MAP_PROJECTION', 'SENSOR_ID', 'SATURATION_BAND_7', 'SATURATION_BAND_8', 'SPACECRAFT_ID', 'GAIN_CHANGE_SCAN_BAND_7', 'ELEVATION_SOURCE', 'GAIN_CHANGE_SCAN_BAND_8', 'GAIN_CHANGE_BAND_6_VCID_1', 'GAIN_CHANGE_BAND_6_VCID_2', 'THERMAL_SAMPLES', 'system:bands', 'system:band_names']\n",
      "LANDSAT_SCENE_ID = LE70430342012265EDC00\n"
     ]
    }
   ],
   "source": [
    "# Get the 'WRS_ROW' location identifier\n",
    "target_row = 'WRS_ROW'\n",
    "meta_row = image.get(target_row).getInfo()\n",
    "print(f'{target_row} = {meta_row}')\n",
    "\n",
    "# Get the 'WRS_PATH' location identifier\n",
    "target_path = 'WRS_PATH'\n",
    "meta_path = image.get(target_path).getInfo()\n",
    "print(f'{target_path} = {meta_path}')\n",
    "\n",
    "# List of data fields in the image\n",
    "properties = image.propertyNames()\n",
    "print('Metadata properties: '+str(properties.getInfo())) \n",
    "\n",
    "# Get the scene id\n",
    "target = 'LANDSAT_SCENE_ID'\n",
    "meta = image.get(target).getInfo()\n",
    "print(f'{target} = {meta}')"
   ]
  },
  {
   "cell_type": "code",
   "execution_count": 18,
   "id": "67686dd4",
   "metadata": {},
   "outputs": [
    {
     "name": "stdout",
     "output_type": "stream",
     "text": [
      "CLOUD_COVER = 8\n"
     ]
    }
   ],
   "source": [
    "# Estimating the cloud cover\n",
    "target = 'CLOUD_COVER'\n",
    "meta = image.get(target).getInfo()\n",
    "print(f'{target} = {meta}')"
   ]
  },
  {
   "cell_type": "markdown",
   "id": "ccc4cb2f",
   "metadata": {},
   "source": [
    "#### Calculating NDVI"
   ]
  },
  {
   "cell_type": "code",
   "execution_count": 19,
   "id": "aa19d436",
   "metadata": {},
   "outputs": [
    {
     "data": {
      "text/html": [
       "<img src=\"https://earthengine.googleapis.com/v1alpha/projects/earthengine-legacy/thumbnails/256cdbcb5015dcc9fa5570dcff079ffa-bb7045769aa223f20137e8809c56626d:getPixels\"/>"
      ],
      "text/plain": [
       "<IPython.core.display.Image object>"
      ]
     },
     "execution_count": 19,
     "metadata": {},
     "output_type": "execute_result"
    }
   ],
   "source": [
    "# Run the Landsat 7 NDVI function\n",
    "l7ndvi = l7NDVI(image)\n",
    "\n",
    "# Change visualization setting for the NDVI data\n",
    "visParams = {'min':0, 'max': 1, 'dimensions':1000}\n",
    "thumbnail = l7ndvi.getThumbUrl(visParams)\n",
    "Image(url=thumbnail)"
   ]
  },
  {
   "cell_type": "markdown",
   "id": "25ee4048",
   "metadata": {},
   "source": [
    "#### Making an interactive NDVI graph"
   ]
  },
  {
   "cell_type": "code",
   "execution_count": 20,
   "id": "e7d01909",
   "metadata": {},
   "outputs": [
    {
     "data": {
      "application/vnd.jupyter.widget-view+json": {
       "model_id": "8140bf750dd94d078f1d3e97233416c8",
       "version_major": 2,
       "version_minor": 0
      },
      "text/plain": [
       "Map(center=[37.824, -119.634], controls=(WidgetControl(options=['position', 'transparent_bg'], widget=HBox(chi…"
      ]
     },
     "metadata": {},
     "output_type": "display_data"
    }
   ],
   "source": [
    "# Visualization settings\n",
    "rgbParams = {'bands': ['B4', 'B3', 'B2'], 'max': 3000, 'gamma': [1.4, 1.2, 1.4]}\n",
    "ndviParams = {'min':0, 'max': 1}\n",
    "\n",
    "# Create the map\n",
    "Map = geemap.Map(location=coords[::-1], zoom = 10)\n",
    "\n",
    "# Add a marker to show the location\n",
    "Map.add_marker(coords[::-1])\n",
    "\n",
    "# Add the Landsat 7 image to the map\n",
    "Map.addLayer(image, rgbParams, 'Natural Color Landsat 7');\n",
    "\n",
    "# Add the NDVI image to the map\n",
    "Map.addLayer(l7ndvi, ndviParams, 'NDVI')\n",
    "\n",
    "# Add layer control\n",
    "Map.addLayerControl()\n",
    "\n",
    "# Display the map\n",
    "Map"
   ]
  },
  {
   "cell_type": "markdown",
   "id": "b1dfecd3",
   "metadata": {},
   "source": [
    "# Time Period: During Fire and its NDVI Analysis¶"
   ]
  },
  {
   "cell_type": "code",
   "execution_count": 23,
   "id": "d8d37f84",
   "metadata": {},
   "outputs": [],
   "source": [
    "# Set start and end date\n",
    "#startTime = datetime.datetime(2013, 8, 1)\n",
    "#endTime = datetime.datetime(2012, 10, 31)"
   ]
  },
  {
   "cell_type": "code",
   "execution_count": 24,
   "id": "7cbc934a",
   "metadata": {},
   "outputs": [],
   "source": [
    "# Create Sentinel-2 image collection\n",
    "collection = ee.ImageCollection(\"COPERNICUS/S2\").filterDate(startTime, endTime).filterBounds(point)"
   ]
  },
  {
   "cell_type": "markdown",
   "id": "09b3fb18",
   "metadata": {},
   "source": [
    "# Time Period: After Fire and its NDVI Analysis¶"
   ]
  },
  {
   "cell_type": "code",
   "execution_count": 22,
   "id": "673c726f",
   "metadata": {},
   "outputs": [],
   "source": [
    "# Set start and end date\n",
    "#startTime = datetime.datetime(2020, 1, 1)\n",
    "#endTime = datetime.datetime(2020, 12, 31)"
   ]
  }
 ],
 "metadata": {
  "kernelspec": {
   "display_name": "Python 3 (ipykernel)",
   "language": "python",
   "name": "python3"
  },
  "language_info": {
   "codemirror_mode": {
    "name": "ipython",
    "version": 3
   },
   "file_extension": ".py",
   "mimetype": "text/x-python",
   "name": "python",
   "nbconvert_exporter": "python",
   "pygments_lexer": "ipython3",
   "version": "3.9.13"
  },
  "vscode": {
   "interpreter": {
    "hash": "19d1d53a962d236aa061289c2ac16dc8e6d9648c89fe79f459ae9a3493bc67b4"
   }
  }
 },
 "nbformat": 4,
 "nbformat_minor": 5
}
